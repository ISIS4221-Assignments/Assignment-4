{
 "cells": [
  {
   "cell_type": "markdown",
   "id": "739aa386",
   "metadata": {},
   "source": [
    "# 1. Section Marker"
   ]
  },
  {
   "cell_type": "code",
   "execution_count": 1,
   "id": "d2d73aa7",
   "metadata": {},
   "outputs": [],
   "source": [
    "import requests\n",
    "import os"
   ]
  },
  {
   "cell_type": "code",
   "execution_count": 2,
   "id": "fc01742c",
   "metadata": {},
   "outputs": [],
   "source": [
    "books_urls = {\n",
    "    \"austen_pride\": \"https://www.gutenberg.org/cache/epub/1342/pg1342.txt\",\n",
    "    \"austen_emma\": \"https://www.gutenberg.org/cache/epub/158/pg158.txt\",\n",
    "    \"austen_sense\": \"https://www.gutenberg.org/cache/epub/161/pg161.txt\",\n",
    "\n",
    "    \"dickens_two_cities\": \"https://www.gutenberg.org/cache/epub/98/pg98.txt\",\n",
    "    \"dickens_expectations\": \"https://www.gutenberg.org/cache/epub/1400/pg1400.txt\",\n",
    "    \"dickens_twist\": \"https://www.gutenberg.org/cache/epub/730/pg730.txt\",\n",
    "\n",
    "    \"twain_tom\": \"https://www.gutenberg.org/cache/epub/74/pg74.txt\",\n",
    "    \"twain_huck\": \"https://www.gutenberg.org/cache/epub/76/pg76.txt\",\n",
    "    \"twain_prince\": \"https://www.gutenberg.org/cache/epub/1837/pg1837.txt\",\n",
    "}"
   ]
  },
  {
   "cell_type": "code",
   "execution_count": 3,
   "id": "810f1aee",
   "metadata": {},
   "outputs": [
    {
     "name": "stdout",
     "output_type": "stream",
     "text": [
      "Book downloaded: ../data/austen_pride.txt\n",
      "Book downloaded: ../data/austen_emma.txt\n",
      "Book downloaded: ../data/austen_sense.txt\n",
      "Book downloaded: ../data/dickens_two_cities.txt\n",
      "Book downloaded: ../data/dickens_expectations.txt\n",
      "Book downloaded: ../data/dickens_twist.txt\n",
      "Book downloaded: ../data/twain_tom.txt\n",
      "Book downloaded: ../data/twain_huck.txt\n",
      "Book downloaded: ../data/twain_prince.txt\n"
     ]
    }
   ],
   "source": [
    "for name, url in books_urls.items():\n",
    "\tresponse = requests.get(url)\n",
    "\tpath = f\"../data/{name}.txt\"\n",
    "\n",
    "\twith open(path, \"w\", encoding = \"utf-8\") as f:\n",
    "\t\tf.write(response.text)\n",
    "\tprint(f\"Book downloaded: {path}\")"
   ]
  },
  {
   "cell_type": "markdown",
   "id": "b5c1bbd3",
   "metadata": {},
   "source": [
    "# 2. Section Marker"
   ]
  },
  {
   "cell_type": "code",
   "execution_count": 4,
   "id": "c92543fc",
   "metadata": {},
   "outputs": [],
   "source": [
    "from nltk.tokenize import sent_tokenize, word_tokenize\n",
    "import nltk\n",
    "import re"
   ]
  },
  {
   "cell_type": "code",
   "execution_count": 5,
   "id": "d20d850b",
   "metadata": {},
   "outputs": [
    {
     "name": "stderr",
     "output_type": "stream",
     "text": [
      "[nltk_data] Downloading package punkt to /home/nico/nltk_data...\n",
      "[nltk_data]   Package punkt is already up-to-date!\n",
      "[nltk_data] Downloading package punkt_tab to /home/nico/nltk_data...\n",
      "[nltk_data]   Package punkt_tab is already up-to-date!\n"
     ]
    },
    {
     "data": {
      "text/plain": [
       "True"
      ]
     },
     "execution_count": 5,
     "metadata": {},
     "output_type": "execute_result"
    }
   ],
   "source": [
    "nltk.download(\"punkt\")\n",
    "nltk.download(\"punkt_tab\")"
   ]
  },
  {
   "cell_type": "code",
   "execution_count": 6,
   "id": "c7d310a5",
   "metadata": {},
   "outputs": [],
   "source": [
    "def strip_gutenberg_headers(text):\n",
    "\tstart_match = re.search(r\"\\*\\*\\*\\s*START OF (THE|THIS) PROJECT GUTENBERG EBOOK.*\\*\\*\\*\", text, re.IGNORECASE)\n",
    "\tstart_index = start_match.end() if start_match else 0\n",
    "\n",
    "\tend_match = re.search(r\"\\*\\*\\*\\s*END OF (THE|THIS) PROJECT GUTENBERG EBOOK.*\\*\\*\\*\", text, re.IGNORECASE)\n",
    "\tend_index = end_match.start() if end_match else len(text)\n",
    "\n",
    "\tclean_text = text[start_index:end_index].strip()\n",
    "\treturn clean_text.strip()"
   ]
  },
  {
   "cell_type": "code",
   "execution_count": 7,
   "id": "e3e921d7",
   "metadata": {},
   "outputs": [],
   "source": [
    "def text_to_sent_token_lists(text):\n",
    "\tsentences = sent_tokenize(text)\n",
    "\ttokenized = []\n",
    "\n",
    "\tfor sentence in sentences:\n",
    "\t\tsentence = sentence.lower()\n",
    "\t\tsentence = sentence.replace(\"-\", \" \")\n",
    "\n",
    "\t\twords = word_tokenize(sentence)\n",
    "\n",
    "\t\tcleaned = [re.sub(r\"[^a-z']+\", \"\", w) for w in words]\n",
    "\t\tcleaned = [w for w in cleaned if w and not w.isdigit()]\n",
    "\n",
    "\t\tif len(cleaned) >= 2:\n",
    "\t\t\ttokenized.append(cleaned)\n",
    "    \n",
    "\treturn tokenized"
   ]
  },
  {
   "cell_type": "code",
   "execution_count": 12,
   "id": "5a948162",
   "metadata": {},
   "outputs": [],
   "source": [
    "def build_corpus_from_books(book_dir):\n",
    "    all_sentences = []\n",
    "    files = sorted([file for file in os.listdir(book_dir)])\n",
    "    \n",
    "    for file_name in files:\n",
    "        path = os.path.join(book_dir, file_name)\n",
    "        print(f\"Processing {path} ...\")\n",
    "        \n",
    "        with open(path, \"r\", encoding = \"utf-8\") as f:\n",
    "            raw = f.read()\n",
    "            \n",
    "        stripped = strip_gutenberg_headers(raw)\n",
    "        sentences = text_to_sent_token_lists(stripped)\n",
    "        all_sentences.extend(sentences)\n",
    "        \n",
    "    print(f\"\\nTotal sentences in corpus: {len(all_sentences)}\")\n",
    "    return all_sentences"
   ]
  },
  {
   "cell_type": "code",
   "execution_count": 13,
   "id": "b9003e10",
   "metadata": {},
   "outputs": [
    {
     "name": "stdout",
     "output_type": "stream",
     "text": [
      "Processing ../data/austen_emma.txt ...\n",
      "Processing ../data/austen_pride.txt ...\n",
      "Processing ../data/austen_sense.txt ...\n",
      "Processing ../data/dickens_expectations.txt ...\n",
      "Processing ../data/dickens_twist.txt ...\n",
      "Processing ../data/dickens_two_cities.txt ...\n",
      "Processing ../data/twain_huck.txt ...\n",
      "Processing ../data/twain_prince.txt ...\n",
      "Processing ../data/twain_tom.txt ...\n",
      "\n",
      "Total sentences in corpus: 44139\n"
     ]
    }
   ],
   "source": [
    "all_sentences = build_corpus_from_books(\"../data\")"
   ]
  },
  {
   "cell_type": "markdown",
   "id": "58efd201",
   "metadata": {},
   "source": [
    "# 3. Section Marker"
   ]
  },
  {
   "cell_type": "code",
   "execution_count": null,
   "id": "16012f4b",
   "metadata": {},
   "outputs": [],
   "source": []
  }
 ],
 "metadata": {
  "kernelspec": {
   "display_name": "env",
   "language": "python",
   "name": "python3"
  },
  "language_info": {
   "codemirror_mode": {
    "name": "ipython",
    "version": 3
   },
   "file_extension": ".py",
   "mimetype": "text/x-python",
   "name": "python",
   "nbconvert_exporter": "python",
   "pygments_lexer": "ipython3",
   "version": "3.11.9"
  }
 },
 "nbformat": 4,
 "nbformat_minor": 5
}
