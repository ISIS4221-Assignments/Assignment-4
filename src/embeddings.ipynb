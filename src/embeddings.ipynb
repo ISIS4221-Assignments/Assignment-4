{
 "cells": [
  {
   "cell_type": "markdown",
   "id": "739aa386",
   "metadata": {},
   "source": [
    "# 1. Downloading the Dataset"
   ]
  },
  {
   "cell_type": "code",
   "execution_count": 1,
   "id": "d2d73aa7",
   "metadata": {},
   "outputs": [],
   "source": [
    "import requests\n",
    "import os"
   ]
  },
  {
   "cell_type": "code",
   "execution_count": 2,
   "id": "fc01742c",
   "metadata": {},
   "outputs": [],
   "source": [
    "books_urls = {\n",
    "    \"austen_pride\": \"https://www.gutenberg.org/cache/epub/1342/pg1342.txt\",\n",
    "    \"austen_emma\": \"https://www.gutenberg.org/cache/epub/158/pg158.txt\",\n",
    "    \"austen_sense\": \"https://www.gutenberg.org/cache/epub/161/pg161.txt\",\n",
    "\n",
    "    \"dickens_two_cities\": \"https://www.gutenberg.org/cache/epub/98/pg98.txt\",\n",
    "    \"dickens_expectations\": \"https://www.gutenberg.org/cache/epub/1400/pg1400.txt\",\n",
    "    \"dickens_twist\": \"https://www.gutenberg.org/cache/epub/730/pg730.txt\",\n",
    "\n",
    "    \"twain_tom\": \"https://www.gutenberg.org/cache/epub/74/pg74.txt\",\n",
    "    \"twain_huck\": \"https://www.gutenberg.org/cache/epub/76/pg76.txt\",\n",
    "    \"twain_prince\": \"https://www.gutenberg.org/cache/epub/1837/pg1837.txt\",\n",
    "}"
   ]
  },
  {
   "cell_type": "code",
   "execution_count": 3,
   "id": "810f1aee",
   "metadata": {},
   "outputs": [
    {
     "name": "stdout",
     "output_type": "stream",
     "text": [
      "Book downloaded: ../data/austen_pride.txt\n",
      "Book downloaded: ../data/austen_emma.txt\n",
      "Book downloaded: ../data/austen_sense.txt\n",
      "Book downloaded: ../data/dickens_two_cities.txt\n",
      "Book downloaded: ../data/dickens_expectations.txt\n",
      "Book downloaded: ../data/dickens_twist.txt\n",
      "Book downloaded: ../data/twain_tom.txt\n",
      "Book downloaded: ../data/twain_huck.txt\n",
      "Book downloaded: ../data/twain_prince.txt\n"
     ]
    }
   ],
   "source": [
    "for name, url in books_urls.items():\n",
    "\tresponse = requests.get(url)\n",
    "\tpath = f\"../data/{name}.txt\"\n",
    "\n",
    "\twith open(path, \"w\", encoding = \"utf-8\") as f:\n",
    "\t\tf.write(response.text)\n",
    "\tprint(f\"Book downloaded: {path}\")"
   ]
  },
  {
   "cell_type": "markdown",
   "id": "b5c1bbd3",
   "metadata": {},
   "source": [
    "# 2. Data Preprocessing and Loading"
   ]
  },
  {
   "cell_type": "code",
   "execution_count": 4,
   "id": "c92543fc",
   "metadata": {},
   "outputs": [],
   "source": [
    "from nltk.tokenize import sent_tokenize, word_tokenize\n",
    "from nltk.corpus import stopwords\n",
    "import nltk\n",
    "import re"
   ]
  },
  {
   "cell_type": "code",
   "execution_count": 5,
   "id": "d20d850b",
   "metadata": {},
   "outputs": [
    {
     "name": "stderr",
     "output_type": "stream",
     "text": [
      "[nltk_data] Downloading package punkt to\n",
      "[nltk_data]     C:\\Users\\nbedo\\AppData\\Roaming\\nltk_data...\n",
      "[nltk_data]   Package punkt is already up-to-date!\n",
      "[nltk_data] Downloading package punkt_tab to\n",
      "[nltk_data]     C:\\Users\\nbedo\\AppData\\Roaming\\nltk_data...\n",
      "[nltk_data]   Package punkt_tab is already up-to-date!\n"
     ]
    }
   ],
   "source": [
    "nltk.download(\"punkt\")\n",
    "nltk.download(\"punkt_tab\")\n",
    "\n",
    "stop_words = set(stopwords.words(\"english\"))\n",
    "\n",
    "token_pattern = re.compile(r\"^[a-z]+(?:'[a-z]+)?$\")"
   ]
  },
  {
   "cell_type": "code",
   "execution_count": 6,
   "id": "c7d310a5",
   "metadata": {},
   "outputs": [],
   "source": [
    "def strip_gutenberg_headers(text):\n",
    "\tstart_match = re.search(r\"\\*\\*\\*\\s*START OF (THE|THIS) PROJECT GUTENBERG EBOOK.*\\*\\*\\*\", text, re.IGNORECASE)\n",
    "\tstart_index = start_match.end() if start_match else 0\n",
    "\n",
    "\tend_match = re.search(r\"\\*\\*\\*\\s*END OF (THE|THIS) PROJECT GUTENBERG EBOOK.*\\*\\*\\*\", text, re.IGNORECASE)\n",
    "\tend_index = end_match.start() if end_match else len(text)\n",
    "\n",
    "\tclean_text = text[start_index:end_index].strip()\n",
    "\treturn clean_text.strip()"
   ]
  },
  {
   "cell_type": "code",
   "execution_count": 7,
   "id": "e3e921d7",
   "metadata": {},
   "outputs": [],
   "source": [
    "def text_to_sent_token_lists(text):\n",
    "\tsentences = sent_tokenize(text)\n",
    "\ttokenized = []\n",
    "\n",
    "\tfor sentence in sentences:\n",
    "\t\tsentence = sentence.lower()\n",
    "\t\tsentence = sentence.replace(\"-\", \" \")\n",
    "\n",
    "\t\twords = word_tokenize(sentence)\n",
    "\n",
    "\t\tcleaned = [word for word in words if token_pattern.match(word)]\n",
    "\t\tcleaned = [word for word in cleaned if word and not word.isdigit()]\n",
    "\t\tcleaned = [word for word in cleaned if not word in stop_words]\n",
    "\n",
    "\t\tif len(cleaned) >= 2:\n",
    "\t\t\ttokenized.append(cleaned)\n",
    "    \n",
    "\treturn tokenized"
   ]
  },
  {
   "cell_type": "code",
   "execution_count": 8,
   "id": "5a948162",
   "metadata": {},
   "outputs": [],
   "source": [
    "def build_corpus_from_books(book_dir):\n",
    "    all_sentences = []\n",
    "    files = sorted([file for file in os.listdir(book_dir)])\n",
    "    \n",
    "    for file_name in files:\n",
    "        path = os.path.join(book_dir, file_name)\n",
    "        print(f\"Processing {path} ...\")\n",
    "        \n",
    "        with open(path, \"r\", encoding = \"utf-8\") as f:\n",
    "            raw = f.read()\n",
    "            \n",
    "        stripped = strip_gutenberg_headers(raw)\n",
    "        sentences = text_to_sent_token_lists(stripped)\n",
    "        all_sentences.extend(sentences)\n",
    "        \n",
    "    print(f\"\\nTotal sentences in corpus: {len(all_sentences)}\")\n",
    "    return all_sentences"
   ]
  },
  {
   "cell_type": "code",
   "execution_count": 9,
   "id": "b9003e10",
   "metadata": {},
   "outputs": [
    {
     "name": "stdout",
     "output_type": "stream",
     "text": [
      "Processing ../data\\austen_emma.txt ...\n",
      "Processing ../data\\austen_pride.txt ...\n",
      "Processing ../data\\austen_sense.txt ...\n",
      "Processing ../data\\dickens_expectations.txt ...\n",
      "Processing ../data\\dickens_twist.txt ...\n",
      "Processing ../data\\dickens_two_cities.txt ...\n",
      "Processing ../data\\twain_huck.txt ...\n",
      "Processing ../data\\twain_prince.txt ...\n",
      "Processing ../data\\twain_tom.txt ...\n",
      "\n",
      "Total sentences in corpus: 42516\n"
     ]
    }
   ],
   "source": [
    "all_sentences = build_corpus_from_books(\"../data\")"
   ]
  },
  {
   "cell_type": "markdown",
   "id": "58efd201",
   "metadata": {},
   "source": [
    "# 3. Training Embedding Models"
   ]
  },
  {
   "cell_type": "code",
   "execution_count": 10,
   "id": "16012f4b",
   "metadata": {},
   "outputs": [],
   "source": [
    "from gensim.models import Word2Vec\n",
    "import os"
   ]
  },
  {
   "cell_type": "code",
   "execution_count": 11,
   "id": "f4100b69",
   "metadata": {},
   "outputs": [],
   "source": [
    "dimensions = [50, 100, 200]\n",
    "group_code = \"G01\""
   ]
  },
  {
   "cell_type": "code",
   "execution_count": 12,
   "id": "a5de70aa",
   "metadata": {},
   "outputs": [],
   "source": [
    "def train_and_save_models(sentences, dimensions, group_code, output_dir):\n",
    "    \n",
    "    for dimension in dimensions:\n",
    "        print(f\"\\nTraining model with dimension {dimension} ...\")\n",
    "        \n",
    "        model = Word2Vec(\n",
    "            sentences = sentences,\n",
    "            vector_size = dimension,\n",
    "            window = 5,\n",
    "            negative = 20, \n",
    "            min_count = 2,\n",
    "            workers = 8,\n",
    "            sg = 1,\n",
    "            epochs = 40\n",
    "        )\n",
    "        \n",
    "        model_path = os.path.join(output_dir, f\"Books_{dimension}_{group_code}.model\")\n",
    "        vec_path = os.path.join(output_dir, f\"Books_{dimension}_{group_code}.vec\")\n",
    "        \n",
    "        model.save(model_path)\n",
    "        model.wv.save_word2vec_format(vec_path, binary = False)\n",
    "        \n",
    "        print(f\"Model saved in:\\n  - {model_path}\\n  - {vec_path}\")"
   ]
  },
  {
   "cell_type": "code",
   "execution_count": 13,
   "id": "17423dab",
   "metadata": {},
   "outputs": [
    {
     "name": "stdout",
     "output_type": "stream",
     "text": [
      "\n",
      "Training model with dimension 50 ...\n"
     ]
    },
    {
     "name": "stderr",
     "output_type": "stream",
     "text": [
      "Exception ignored in: 'gensim.models.word2vec_inner.our_dot_float'\n",
      "Exception ignored in: 'gensim.models.word2vec_inner.our_dot_float'\n",
      "Exception ignored in: 'gensim.models.word2vec_inner.our_dot_float'\n",
      "Exception ignored in: 'gensim.models.word2vec_inner.our_dot_float'\n",
      "Exception ignored in: 'gensim.models.word2vec_inner.our_dot_float'\n",
      "Exception ignored in: 'gensim.models.word2vec_inner.our_dot_float'\n"
     ]
    },
    {
     "name": "stdout",
     "output_type": "stream",
     "text": [
      "Model saved in:\n",
      "  - ../models\\Books_50_G01.model\n",
      "  - ../models\\Books_50_G01.vec\n",
      "\n",
      "Training model with dimension 100 ...\n"
     ]
    },
    {
     "name": "stderr",
     "output_type": "stream",
     "text": [
      "Exception ignored in: 'gensim.models.word2vec_inner.our_dot_float'\n",
      "Exception ignored in: 'gensim.models.word2vec_inner.our_dot_float'\n",
      "Exception ignored in: 'gensim.models.word2vec_inner.our_dot_float'\n",
      "Exception ignored in: 'gensim.models.word2vec_inner.our_dot_float'\n"
     ]
    },
    {
     "name": "stdout",
     "output_type": "stream",
     "text": [
      "Model saved in:\n",
      "  - ../models\\Books_100_G01.model\n",
      "  - ../models\\Books_100_G01.vec\n",
      "\n",
      "Training model with dimension 200 ...\n"
     ]
    },
    {
     "name": "stderr",
     "output_type": "stream",
     "text": [
      "Exception ignored in: 'gensim.models.word2vec_inner.our_dot_float'\n",
      "Exception ignored in: 'gensim.models.word2vec_inner.our_dot_float'\n",
      "Exception ignored in: 'gensim.models.word2vec_inner.our_dot_float'\n",
      "Exception ignored in: 'gensim.models.word2vec_inner.our_dot_float'\n",
      "Exception ignored in: 'gensim.models.word2vec_inner.our_dot_float'\n",
      "Exception ignored in: 'gensim.models.word2vec_inner.our_dot_float'\n"
     ]
    },
    {
     "name": "stdout",
     "output_type": "stream",
     "text": [
      "Model saved in:\n",
      "  - ../models\\Books_200_G01.model\n",
      "  - ../models\\Books_200_G01.vec\n"
     ]
    }
   ],
   "source": [
    "train_and_save_models(all_sentences, dimensions, group_code, \"../models\")"
   ]
  },
  {
   "cell_type": "markdown",
   "id": "9cf84eaf",
   "metadata": {},
   "source": [
    "# 4. Loading the Trained Models"
   ]
  },
  {
   "cell_type": "code",
   "execution_count": 14,
   "id": "a0a975fe",
   "metadata": {},
   "outputs": [],
   "source": [
    "from gensim.models import Word2Vec"
   ]
  },
  {
   "cell_type": "code",
   "execution_count": 15,
   "id": "a11c3913",
   "metadata": {},
   "outputs": [
    {
     "name": "stdout",
     "output_type": "stream",
     "text": [
      "Loading model 50D from ../models/Books_50_G01.model ...\n",
      "Word2Vec<vocab=16108, vector_size=50, alpha=0.025>\n",
      "Loading model 100D from ../models/Books_100_G01.model ...\n",
      "Word2Vec<vocab=16108, vector_size=100, alpha=0.025>\n",
      "Loading model 200D from ../models/Books_200_G01.model ...\n",
      "Word2Vec<vocab=16108, vector_size=200, alpha=0.025>\n"
     ]
    }
   ],
   "source": [
    "model_dir = \"../models\"\n",
    "\n",
    "model_paths = {\n",
    "    50: f\"{model_dir}/Books_50_G01.model\",\n",
    "    100: f\"{model_dir}/Books_100_G01.model\",\n",
    "    200: f\"{model_dir}/Books_200_G01.model\"\n",
    "}\n",
    "\n",
    "models = {}\n",
    "for dimension, path in model_paths.items():\n",
    "    print(f\"Loading model {dimension}D from {path} ...\")\n",
    "    models[dimension] = Word2Vec.load(path)\n",
    "    print(models[dimension])\n"
   ]
  },
  {
   "cell_type": "markdown",
   "id": "bd77a1df",
   "metadata": {},
   "source": [
    "# 5. 2D Visualization of Embeddings"
   ]
  },
  {
   "cell_type": "code",
   "execution_count": 16,
   "id": "4da8c8de",
   "metadata": {},
   "outputs": [],
   "source": [
    "from sklearn.manifold import TSNE\n",
    "import matplotlib.pyplot as plt\n",
    "import numpy as np"
   ]
  },
  {
   "cell_type": "code",
   "execution_count": 17,
   "id": "cb9d4eeb",
   "metadata": {},
   "outputs": [],
   "source": [
    "def plot_similar_words(model, target_word, topn = 5):\n",
    "    \n",
    "    similar_words = [w for w, _ in model.wv.most_similar(target_word, topn = topn)]\n",
    "    all_words = [target_word] + similar_words\n",
    "\n",
    "    vectors = np.array([model.wv[w] for w in all_words])\n",
    "\n",
    "    tsne = TSNE(n_components = 2, random_state = 42, perplexity = 5)\n",
    "    reduced = tsne.fit_transform(vectors)\n",
    "\n",
    "    plt.figure(figsize=(10, 8))\n",
    "    plt.scatter(reduced[:, 0], reduced[:, 1])\n",
    "\n",
    "    for i, word in enumerate(all_words):\n",
    "        if i == 0:\n",
    "            plt.annotate(word, xy = (reduced[i, 0], reduced[i, 1]), fontsize = 14, color = 'red', fontweight = 'bold')\n",
    "        else:\n",
    "            plt.annotate(word, xy = (reduced[i, 0], reduced[i, 1]), fontsize = 12)\n",
    "\n",
    "    plt.title(f\"Words most similar to '{target_word}'\")\n",
    "    plt.show()"
   ]
  },
  {
   "cell_type": "code",
   "execution_count": 18,
   "id": "3ea7b58e",
   "metadata": {},
   "outputs": [],
   "source": [
    "main_characters = {\n",
    "    \"austen_pride\": [\"elizabeth\", \"darcy\"],       \n",
    "    \"austen_emma\": [\"emma\", \"knightley\"],         \n",
    "    \"austen_sense\": [\"elinor\", \"marianne\"],       \n",
    "\n",
    "    \"dickens_two_cities\": [\"darnay\", \"carton\"],   \n",
    "    \"dickens_expectations\": [\"pip\", \"havisham\"],  \n",
    "    \"dickens_twist\": [\"oliver\", \"fagin\"],         \n",
    "\n",
    "    \"twain_tom\": [\"tom\", \"becky\"],               \n",
    "    \"twain_huck\": [\"huck\", \"jim\"],               \n",
    "    \"twain_prince\": [\"prince\", \"pauper\"],        \n",
    "}\n"
   ]
  },
  {
   "cell_type": "code",
   "execution_count": 19,
   "id": "8d930095",
   "metadata": {},
   "outputs": [],
   "source": [
    "def plot_and_save_similar_words(model, target_word, book_id, dimension, topn, output_dir):\n",
    "\n",
    "    similar_words = model.wv.most_similar(target_word, topn = topn)\n",
    "    words = [target_word] + [w for w, _ in similar_words]\n",
    "    vectors = np.array([model.wv[w] for w in words])\n",
    "\n",
    "    tsne = TSNE(n_components = 2, random_state = 42, perplexity = min(5, len(words)-1))\n",
    "    reduced = tsne.fit_transform(vectors)\n",
    "\n",
    "    plt.figure(figsize=(8, 6))\n",
    "    plt.scatter(reduced[0, 0], reduced[0, 1], color = 'red')  \n",
    "    plt.text(reduced[0, 0] + 1, reduced[0, 1] + 1, target_word, fontsize = 12, color = 'red', weight = 'bold')\n",
    "\n",
    "    for i, word in enumerate(words[1:], start = 1):\n",
    "        x, y = reduced[i, 0], reduced[i, 1]\n",
    "        plt.scatter(x, y)\n",
    "        plt.text(x + 1, y + 1, word, fontsize=10)\n",
    "\n",
    "    plt.title(f\"Most similar to '{target_word}' ({book_id}, dim = {dimension})\")\n",
    "    plt.tight_layout()\n",
    "\n",
    "    filename = f\"{target_word}_{dimension}d.png\"\n",
    "    filepath = os.path.join(output_dir, filename)\n",
    "    plt.savefig(filepath)\n",
    "    plt.close()  \n",
    "    print(f\"Saved: {filepath}\")"
   ]
  },
  {
   "cell_type": "code",
   "execution_count": 20,
   "id": "7bce8f79",
   "metadata": {},
   "outputs": [
    {
     "name": "stdout",
     "output_type": "stream",
     "text": [
      "Saved: ../figures\\elizabeth_50d.png\n",
      "Saved: ../figures\\darcy_50d.png\n",
      "Saved: ../figures\\emma_50d.png\n",
      "Saved: ../figures\\knightley_50d.png\n",
      "Saved: ../figures\\elinor_50d.png\n",
      "Saved: ../figures\\marianne_50d.png\n",
      "Saved: ../figures\\darnay_50d.png\n",
      "Saved: ../figures\\carton_50d.png\n",
      "Saved: ../figures\\pip_50d.png\n",
      "Saved: ../figures\\havisham_50d.png\n",
      "Saved: ../figures\\oliver_50d.png\n",
      "Saved: ../figures\\fagin_50d.png\n",
      "Saved: ../figures\\tom_50d.png\n",
      "Saved: ../figures\\becky_50d.png\n",
      "Saved: ../figures\\huck_50d.png\n",
      "Saved: ../figures\\jim_50d.png\n",
      "Saved: ../figures\\prince_50d.png\n",
      "Saved: ../figures\\pauper_50d.png\n"
     ]
    }
   ],
   "source": [
    "for book_id, characters in main_characters.items():\n",
    "\tfor name in characters:\n",
    "\t\tplot_and_save_similar_words(models[50], name, book_id, 50, 4, \"../figures\")"
   ]
  },
  {
   "cell_type": "markdown",
   "id": "f556b908",
   "metadata": {},
   "source": [
    "# 6. Dataset Preparation for Classification"
   ]
  },
  {
   "cell_type": "code",
   "execution_count": 21,
   "id": "eed56787",
   "metadata": {},
   "outputs": [],
   "source": [
    "from sklearn.model_selection import train_test_split\n",
    "from collections import Counter\n",
    "import random\n",
    "import os"
   ]
  },
  {
   "cell_type": "code",
   "execution_count": 22,
   "id": "44e1002b",
   "metadata": {},
   "outputs": [],
   "source": [
    "books_to_author = {\n",
    "    \"austen_pride.txt\": \"austen\",\n",
    "    \"austen_emma.txt\": \"austen\",\n",
    "    \"austen_sense.txt\": \"austen\",\n",
    "    \"dickens_two_cities.txt\": \"dickens\",\n",
    "    \"dickens_expectations.txt\": \"dickens\",\n",
    "    \"dickens_twist.txt\": \"dickens\",\n",
    "    \"twain_tom.txt\": \"twain\",\n",
    "    \"twain_huck.txt\": \"twain\",\n",
    "    \"twain_prince.txt\": \"twain\",\n",
    "}\n",
    "\n",
    "labels_to_ids = {\n",
    "    \"austen\": 0,\n",
    "    \"dickens\": 1,\n",
    "    \"twain\": 2\n",
    "}"
   ]
  },
  {
   "cell_type": "code",
   "execution_count": 23,
   "id": "89f269ae",
   "metadata": {},
   "outputs": [],
   "source": [
    "def read_text(path):\n",
    "    with open(path, \"r\", encoding = \"utf-8\") as f:\n",
    "        return f.read()"
   ]
  },
  {
   "cell_type": "code",
   "execution_count": 24,
   "id": "91c506cf",
   "metadata": {},
   "outputs": [],
   "source": [
    "def preprocess_and_chunks(text, chunk_size, min_chunk_size):\n",
    "    \n",
    "    sentences = sent_tokenize(text)\n",
    "    all_tokens = []\n",
    "\n",
    "    for sentence in sentences:\n",
    "        sentence = sentence.lower()\n",
    "        sentence = sentence.replace(\"-\", \" \")\n",
    "\n",
    "        words = word_tokenize(sentence)\n",
    "\n",
    "        cleaned = [word for word in words if token_pattern.match(word)]\n",
    "        cleaned = [word for word in cleaned if not word.isdigit()]\n",
    "        cleaned = [word for word in cleaned if word not in stop_words]\n",
    "\n",
    "        if len(cleaned) >= 1:\n",
    "            all_tokens.extend(cleaned)\n",
    "\n",
    "    chunks = []\n",
    "    for i in range(0, len(all_tokens), chunk_size):\n",
    "        chunk_tokens = all_tokens[i:i+chunk_size]\n",
    "        if len(chunk_tokens) >= min_chunk_size:\n",
    "            chunk_text = \" \".join(chunk_tokens)\n",
    "            chunks.append(chunk_text)\n",
    "\n",
    "    return chunks"
   ]
  },
  {
   "cell_type": "code",
   "execution_count": 25,
   "id": "f9cba0be",
   "metadata": {},
   "outputs": [],
   "source": [
    "def build_clasification_dataset(books_dir, test_size, validation_size, random_seed):\n",
    "\trandom.seed(random_seed)\n",
    "\ttexts, labels = [], []\n",
    "\n",
    "\tfor file_name in sorted(os.listdir(books_dir)):\n",
    "\t\tauthor = books_to_author.get(file_name)\n",
    "\t\t\n",
    "\t\traw_text = read_text(os.path.join(books_dir, file_name))\n",
    "\t\tchunks = preprocess_and_chunks(raw_text, 200, 200)\n",
    "\t\tprint(f\"{len(chunks)} chunks generated for {file_name}\")\n",
    "\n",
    "\t\ttexts.extend(chunks)\n",
    "\t\tlabels.extend([author] * len(chunks))\n",
    "\n",
    "\ty = np.array([labels_to_ids[label] for label in labels])\n",
    "\n",
    "\tX_train, X_temp, y_train, y_temp = train_test_split(texts, y, test_size = test_size, random_state = random_seed, stratify = y)\n",
    "\tX_validation, X_test, y_validation, y_test = train_test_split(X_temp, y_temp, test_size = validation_size, random_state = random_seed, stratify = y_temp)\n",
    "\n",
    "\tdef class_counts(y_arr):\n",
    "\t\tc = Counter(y_arr)\n",
    "\t\treturn {label: c[idx] for label, idx in labels_to_ids.items()}\n",
    "\n",
    "\tsummary = {\n",
    "\t\t\"train\": class_counts(y_train),\n",
    "\t\t\"validation\": class_counts(y_validation),\n",
    "\t\t\"test\": class_counts(y_test),\n",
    "\t}\n",
    "\n",
    "\tprint(\"\\nSummary samples by split and class:\\n\")\n",
    "\tfor split, counts in summary.items():\n",
    "\t\tprint(f\"  {split}: {counts}\")\n",
    "\n",
    "\treturn (X_train, y_train), (X_validation, y_validation), (X_test, y_test)\n"
   ]
  },
  {
   "cell_type": "code",
   "execution_count": 26,
   "id": "414a28a3",
   "metadata": {},
   "outputs": [
    {
     "name": "stdout",
     "output_type": "stream",
     "text": [
      "348 chunks generated for austen_emma.txt\n",
      "287 chunks generated for austen_pride.txt\n",
      "268 chunks generated for austen_sense.txt\n",
      "411 chunks generated for dickens_expectations.txt\n",
      "384 chunks generated for dickens_twist.txt\n",
      "322 chunks generated for dickens_two_cities.txt\n",
      "252 chunks generated for twain_huck.txt\n",
      "185 chunks generated for twain_prince.txt\n",
      "175 chunks generated for twain_tom.txt\n",
      "\n",
      "Summary samples by split and class:\n",
      "\n",
      "  train: {'austen': 632, 'dickens': 782, 'twain': 428}\n",
      "  validation: {'austen': 135, 'dickens': 168, 'twain': 92}\n",
      "  test: {'austen': 136, 'dickens': 167, 'twain': 92}\n"
     ]
    }
   ],
   "source": [
    "(X_train, y_train), (X_validation, y_validation), (X_test, y_test) = build_clasification_dataset(\"../data\", 0.3, 0.5, 42)"
   ]
  },
  {
   "cell_type": "code",
   "execution_count": 27,
   "id": "58d6cfce",
   "metadata": {},
   "outputs": [
    {
     "name": "stdout",
     "output_type": "stream",
     "text": [
      "\n",
      "--- Train examples ---\n",
      "Label: austen\n",
      "Text: rather dark darker narrower one could wish miss sm ...\n",
      "\n",
      "Label: dickens\n",
      "Text: stood drinking little counter conversation defarge ...\n",
      "\n",
      "\n",
      "--- Validation examples ---\n",
      "Label: twain\n",
      "Text: office child play wherefore last ladies visit draw ...\n",
      "\n",
      "Label: dickens\n",
      "Text: condition declared peril sake altering way living  ...\n",
      "\n",
      "\n",
      "--- Test examples ---\n",
      "Label: austen\n",
      "Text: well satisfied consider present campbells may knig ...\n",
      "\n",
      "Label: dickens\n",
      "Text: though would shake hands let go room said boy retr ...\n",
      "\n"
     ]
    }
   ],
   "source": [
    "for split_name, X_split, y_split in [(\"Train\", X_train, y_train), (\"Validation\", X_validation, y_validation), (\"Test\", X_test, y_test),]:\n",
    "    print(f\"\\n--- {split_name} examples ---\")\n",
    "    for i in range(2): \n",
    "        print(f\"Label: {list(labels_to_ids.keys())[list(labels_to_ids.values()).index(y_split[i])]}\")\n",
    "        print(\"Text:\", \"\".join(X_split[i][:50]), \"...\\n\")\n"
   ]
  },
  {
   "cell_type": "markdown",
   "id": "fb892f40",
   "metadata": {},
   "source": [
    "# 7. Building Embeddings Matrix"
   ]
  },
  {
   "cell_type": "code",
   "execution_count": 28,
   "id": "4e568120",
   "metadata": {},
   "outputs": [],
   "source": [
    "from tensorflow.keras.preprocessing.text import Tokenizer\n",
    "import numpy as np"
   ]
  },
  {
   "cell_type": "code",
   "execution_count": 29,
   "id": "216809ad",
   "metadata": {},
   "outputs": [
    {
     "name": "stdout",
     "output_type": "stream",
     "text": [
      "Training vocabulary size: 21023\n"
     ]
    }
   ],
   "source": [
    "sequence_length = 200\n",
    "\n",
    "tokenizer = Tokenizer(oov_token = \"<OOV>\")\n",
    "tokenizer.fit_on_texts(X_train)\n",
    "\n",
    "vocabulary_size = len(tokenizer.word_index) + 1\n",
    "print(\"Training vocabulary size:\", vocabulary_size)"
   ]
  },
  {
   "cell_type": "code",
   "execution_count": 30,
   "id": "f8f9443c",
   "metadata": {},
   "outputs": [],
   "source": [
    "def build_embedding_matrix(embeddings_model, tokenizer, embedding_dimension):\n",
    "    matrix = np.zeros((vocabulary_size, embedding_dimension))\n",
    "    for word, i in tokenizer.word_index.items():\n",
    "        if word in embeddings_model.wv:\n",
    "            matrix[i] = embeddings_model.wv[word]\n",
    "    return matrix"
   ]
  },
  {
   "cell_type": "code",
   "execution_count": 31,
   "id": "4f4dd83c",
   "metadata": {},
   "outputs": [],
   "source": [
    "embedding_matrices = {}\n",
    "for dimension, embedding_model in models.items():\n",
    "    embedding_matrices[dimension] = build_embedding_matrix(embedding_model, tokenizer, dimension)"
   ]
  },
  {
   "cell_type": "code",
   "execution_count": 32,
   "id": "b6307338",
   "metadata": {},
   "outputs": [],
   "source": [
    "X_train_sequences = np.array(tokenizer.texts_to_sequences(X_train))\n",
    "X_validation_sequences = np.array(tokenizer.texts_to_sequences(X_validation))\n",
    "X_test_sequences  = np.array(tokenizer.texts_to_sequences(X_test))"
   ]
  },
  {
   "cell_type": "markdown",
   "id": "62dd79f6",
   "metadata": {},
   "source": [
    "# 8. Training Feed-Forward Model for Classification (Trained Embeddings)"
   ]
  },
  {
   "cell_type": "code",
   "execution_count": 33,
   "id": "55bc2a28",
   "metadata": {},
   "outputs": [],
   "source": [
    "from tensorflow.keras.layers import Embedding, GlobalAveragePooling1D, Flatten, Dense\n",
    "from sklearn.metrics import precision_score, recall_score, accuracy_score\n",
    "from tensorflow.keras.models import Sequential\n",
    "from tensorflow.keras.optimizers import Adam\n",
    "import pandas as pd\n",
    "import numpy as np"
   ]
  },
  {
   "cell_type": "code",
   "execution_count": 34,
   "id": "643b269b",
   "metadata": {},
   "outputs": [],
   "source": [
    "num_authors = 3"
   ]
  },
  {
   "cell_type": "code",
   "execution_count": 35,
   "id": "248b770f",
   "metadata": {},
   "outputs": [],
   "source": [
    "def make_embedding_layer(embedding_matrix):\n",
    "\tembedding_dimension = embedding_matrix.shape[1]\n",
    "\n",
    "\treturn Embedding(\n",
    "\t\tinput_dim = vocabulary_size,\n",
    "\t\toutput_dim = embedding_dimension,\n",
    "\t\tweights = [embedding_matrix],\n",
    "\t\ttrainable = False\n",
    "\t)"
   ]
  },
  {
   "cell_type": "code",
   "execution_count": 36,
   "id": "040ce2f4",
   "metadata": {},
   "outputs": [],
   "source": [
    "def build_model_a(embedding_layer):\n",
    "    model = Sequential([\n",
    "        embedding_layer,\n",
    "        GlobalAveragePooling1D(),\n",
    "        Dense(32, activation = 'relu'),\n",
    "        Dense(num_authors, activation = 'softmax')\n",
    "    ])\n",
    "    return model"
   ]
  },
  {
   "cell_type": "code",
   "execution_count": 37,
   "id": "a0c4128b",
   "metadata": {},
   "outputs": [],
   "source": [
    "def build_model_b(embedding_layer):\n",
    "    model = Sequential([\n",
    "        embedding_layer,\n",
    "        GlobalAveragePooling1D(),\n",
    "        Dense(128, activation = 'relu'),\n",
    "        Dense(64, activation = 'relu'),\n",
    "        Dense(num_authors, activation = 'softmax')\n",
    "    ])\n",
    "    return model"
   ]
  },
  {
   "cell_type": "code",
   "execution_count": 38,
   "id": "05c40d96",
   "metadata": {},
   "outputs": [],
   "source": [
    "def build_model_c(embedding_layer):\n",
    "    model = Sequential([\n",
    "        embedding_layer,\n",
    "        Flatten(),\n",
    "        Dense(256, activation = 'relu'),\n",
    "        Dense(128, activation = 'relu'),\n",
    "        Dense(num_authors, activation = 'softmax')\n",
    "    ])\n",
    "    return model"
   ]
  },
  {
   "cell_type": "code",
   "execution_count": 39,
   "id": "aaafef01",
   "metadata": {},
   "outputs": [],
   "source": [
    "architectures = {\n",
    "    \"A\": build_model_a,\n",
    "    \"B\": build_model_b,\n",
    "    \"C\": build_model_c\n",
    "}"
   ]
  },
  {
   "cell_type": "code",
   "execution_count": 40,
   "id": "a2d6700f",
   "metadata": {},
   "outputs": [
    {
     "name": "stdout",
     "output_type": "stream",
     "text": [
      "Training model A with embedding 50D\n",
      "Epoch 1/10\n",
      "\u001b[1m58/58\u001b[0m \u001b[32m━━━━━━━━━━━━━━━━━━━━\u001b[0m\u001b[37m\u001b[0m \u001b[1m2s\u001b[0m 12ms/step - accuracy: 0.6308 - loss: 0.9395 - val_accuracy: 0.7241 - val_loss: 0.8330\n",
      "Epoch 2/10\n",
      "\u001b[1m58/58\u001b[0m \u001b[32m━━━━━━━━━━━━━━━━━━━━\u001b[0m\u001b[37m\u001b[0m \u001b[1m0s\u001b[0m 6ms/step - accuracy: 0.7953 - loss: 0.7301 - val_accuracy: 0.8228 - val_loss: 0.6366\n",
      "Epoch 3/10\n",
      "\u001b[1m58/58\u001b[0m \u001b[32m━━━━━━━━━━━━━━━━━━━━\u001b[0m\u001b[37m\u001b[0m \u001b[1m0s\u001b[0m 6ms/step - accuracy: 0.8599 - loss: 0.5447 - val_accuracy: 0.8835 - val_loss: 0.4722\n",
      "Epoch 4/10\n",
      "\u001b[1m58/58\u001b[0m \u001b[32m━━━━━━━━━━━━━━━━━━━━\u001b[0m\u001b[37m\u001b[0m \u001b[1m0s\u001b[0m 6ms/step - accuracy: 0.9110 - loss: 0.4099 - val_accuracy: 0.9266 - val_loss: 0.3630\n",
      "Epoch 5/10\n",
      "\u001b[1m58/58\u001b[0m \u001b[32m━━━━━━━━━━━━━━━━━━━━\u001b[0m\u001b[37m\u001b[0m \u001b[1m0s\u001b[0m 6ms/step - accuracy: 0.9321 - loss: 0.3193 - val_accuracy: 0.9494 - val_loss: 0.2874\n",
      "Epoch 6/10\n",
      "\u001b[1m58/58\u001b[0m \u001b[32m━━━━━━━━━━━━━━━━━━━━\u001b[0m\u001b[37m\u001b[0m \u001b[1m0s\u001b[0m 6ms/step - accuracy: 0.9511 - loss: 0.2567 - val_accuracy: 0.9443 - val_loss: 0.2341\n",
      "Epoch 7/10\n",
      "\u001b[1m58/58\u001b[0m \u001b[32m━━━━━━━━━━━━━━━━━━━━\u001b[0m\u001b[37m\u001b[0m \u001b[1m0s\u001b[0m 6ms/step - accuracy: 0.9577 - loss: 0.2139 - val_accuracy: 0.9544 - val_loss: 0.1966\n",
      "Epoch 8/10\n",
      "\u001b[1m58/58\u001b[0m \u001b[32m━━━━━━━━━━━━━━━━━━━━\u001b[0m\u001b[37m\u001b[0m \u001b[1m0s\u001b[0m 6ms/step - accuracy: 0.9615 - loss: 0.1829 - val_accuracy: 0.9646 - val_loss: 0.1756\n",
      "Epoch 9/10\n",
      "\u001b[1m58/58\u001b[0m \u001b[32m━━━━━━━━━━━━━━━━━━━━\u001b[0m\u001b[37m\u001b[0m \u001b[1m0s\u001b[0m 6ms/step - accuracy: 0.9647 - loss: 0.1621 - val_accuracy: 0.9646 - val_loss: 0.1513\n",
      "Epoch 10/10\n",
      "\u001b[1m58/58\u001b[0m \u001b[32m━━━━━━━━━━━━━━━━━━━━\u001b[0m\u001b[37m\u001b[0m \u001b[1m0s\u001b[0m 6ms/step - accuracy: 0.9669 - loss: 0.1468 - val_accuracy: 0.9671 - val_loss: 0.1356\n",
      "Training model B with embedding 50D\n",
      "Epoch 1/10\n",
      "\u001b[1m58/58\u001b[0m \u001b[32m━━━━━━━━━━━━━━━━━━━━\u001b[0m\u001b[37m\u001b[0m \u001b[1m2s\u001b[0m 11ms/step - accuracy: 0.7557 - loss: 0.7424 - val_accuracy: 0.9316 - val_loss: 0.4108\n",
      "Epoch 2/10\n",
      "\u001b[1m58/58\u001b[0m \u001b[32m━━━━━━━━━━━━━━━━━━━━\u001b[0m\u001b[37m\u001b[0m \u001b[1m0s\u001b[0m 6ms/step - accuracy: 0.9343 - loss: 0.2657 - val_accuracy: 0.9620 - val_loss: 0.1691\n",
      "Epoch 3/10\n",
      "\u001b[1m58/58\u001b[0m \u001b[32m━━━━━━━━━━━━━━━━━━━━\u001b[0m\u001b[37m\u001b[0m \u001b[1m0s\u001b[0m 6ms/step - accuracy: 0.9549 - loss: 0.1473 - val_accuracy: 0.9671 - val_loss: 0.1126\n",
      "Epoch 4/10\n",
      "\u001b[1m58/58\u001b[0m \u001b[32m━━━━━━━━━━━━━━━━━━━━\u001b[0m\u001b[37m\u001b[0m \u001b[1m0s\u001b[0m 6ms/step - accuracy: 0.9696 - loss: 0.1069 - val_accuracy: 0.9671 - val_loss: 0.0861\n",
      "Epoch 5/10\n",
      "\u001b[1m58/58\u001b[0m \u001b[32m━━━━━━━━━━━━━━━━━━━━\u001b[0m\u001b[37m\u001b[0m \u001b[1m0s\u001b[0m 6ms/step - accuracy: 0.9674 - loss: 0.0942 - val_accuracy: 0.9747 - val_loss: 0.0746\n",
      "Epoch 6/10\n",
      "\u001b[1m58/58\u001b[0m \u001b[32m━━━━━━━━━━━━━━━━━━━━\u001b[0m\u001b[37m\u001b[0m \u001b[1m0s\u001b[0m 6ms/step - accuracy: 0.9718 - loss: 0.0798 - val_accuracy: 0.9747 - val_loss: 0.0656\n",
      "Epoch 7/10\n",
      "\u001b[1m58/58\u001b[0m \u001b[32m━━━━━━━━━━━━━━━━━━━━\u001b[0m\u001b[37m\u001b[0m \u001b[1m1s\u001b[0m 9ms/step - accuracy: 0.9734 - loss: 0.0743 - val_accuracy: 0.9747 - val_loss: 0.0682\n",
      "Epoch 8/10\n",
      "\u001b[1m58/58\u001b[0m \u001b[32m━━━━━━━━━━━━━━━━━━━━\u001b[0m\u001b[37m\u001b[0m \u001b[1m0s\u001b[0m 6ms/step - accuracy: 0.9739 - loss: 0.0680 - val_accuracy: 0.9747 - val_loss: 0.0586\n",
      "Epoch 9/10\n",
      "\u001b[1m58/58\u001b[0m \u001b[32m━━━━━━━━━━━━━━━━━━━━\u001b[0m\u001b[37m\u001b[0m \u001b[1m0s\u001b[0m 6ms/step - accuracy: 0.9739 - loss: 0.0718 - val_accuracy: 0.9722 - val_loss: 0.0713\n",
      "Epoch 10/10\n",
      "\u001b[1m58/58\u001b[0m \u001b[32m━━━━━━━━━━━━━━━━━━━━\u001b[0m\u001b[37m\u001b[0m \u001b[1m0s\u001b[0m 6ms/step - accuracy: 0.9756 - loss: 0.0650 - val_accuracy: 0.9797 - val_loss: 0.0507\n",
      "Training model C with embedding 50D\n",
      "Epoch 1/10\n",
      "\u001b[1m58/58\u001b[0m \u001b[32m━━━━━━━━━━━━━━━━━━━━\u001b[0m\u001b[37m\u001b[0m \u001b[1m3s\u001b[0m 23ms/step - accuracy: 0.8529 - loss: 0.3710 - val_accuracy: 0.9468 - val_loss: 0.1241\n",
      "Epoch 2/10\n",
      "\u001b[1m58/58\u001b[0m \u001b[32m━━━━━━━━━━━━━━━━━━━━\u001b[0m\u001b[37m\u001b[0m \u001b[1m1s\u001b[0m 18ms/step - accuracy: 0.9967 - loss: 0.0170 - val_accuracy: 0.9570 - val_loss: 0.1100\n",
      "Epoch 3/10\n",
      "\u001b[1m58/58\u001b[0m \u001b[32m━━━━━━━━━━━━━━━━━━━━\u001b[0m\u001b[37m\u001b[0m \u001b[1m1s\u001b[0m 19ms/step - accuracy: 1.0000 - loss: 0.0021 - val_accuracy: 0.9595 - val_loss: 0.1048\n",
      "Epoch 4/10\n",
      "\u001b[1m58/58\u001b[0m \u001b[32m━━━━━━━━━━━━━━━━━━━━\u001b[0m\u001b[37m\u001b[0m \u001b[1m1s\u001b[0m 18ms/step - accuracy: 1.0000 - loss: 8.0426e-04 - val_accuracy: 0.9646 - val_loss: 0.0980\n",
      "Epoch 5/10\n",
      "\u001b[1m58/58\u001b[0m \u001b[32m━━━━━━━━━━━━━━━━━━━━\u001b[0m\u001b[37m\u001b[0m \u001b[1m1s\u001b[0m 19ms/step - accuracy: 1.0000 - loss: 5.1198e-04 - val_accuracy: 0.9646 - val_loss: 0.1006\n",
      "Epoch 6/10\n",
      "\u001b[1m58/58\u001b[0m \u001b[32m━━━━━━━━━━━━━━━━━━━━\u001b[0m\u001b[37m\u001b[0m \u001b[1m1s\u001b[0m 18ms/step - accuracy: 1.0000 - loss: 3.4972e-04 - val_accuracy: 0.9620 - val_loss: 0.1029\n",
      "Epoch 7/10\n",
      "\u001b[1m58/58\u001b[0m \u001b[32m━━━━━━━━━━━━━━━━━━━━\u001b[0m\u001b[37m\u001b[0m \u001b[1m1s\u001b[0m 18ms/step - accuracy: 1.0000 - loss: 2.5457e-04 - val_accuracy: 0.9646 - val_loss: 0.1046\n",
      "Epoch 8/10\n",
      "\u001b[1m58/58\u001b[0m \u001b[32m━━━━━━━━━━━━━━━━━━━━\u001b[0m\u001b[37m\u001b[0m \u001b[1m1s\u001b[0m 18ms/step - accuracy: 1.0000 - loss: 1.9427e-04 - val_accuracy: 0.9646 - val_loss: 0.1057\n",
      "Epoch 9/10\n",
      "\u001b[1m58/58\u001b[0m \u001b[32m━━━━━━━━━━━━━━━━━━━━\u001b[0m\u001b[37m\u001b[0m \u001b[1m1s\u001b[0m 18ms/step - accuracy: 1.0000 - loss: 1.5115e-04 - val_accuracy: 0.9620 - val_loss: 0.1067\n",
      "Epoch 10/10\n",
      "\u001b[1m58/58\u001b[0m \u001b[32m━━━━━━━━━━━━━━━━━━━━\u001b[0m\u001b[37m\u001b[0m \u001b[1m1s\u001b[0m 18ms/step - accuracy: 1.0000 - loss: 1.2075e-04 - val_accuracy: 0.9620 - val_loss: 0.1076\n",
      "Training model A with embedding 100D\n",
      "Epoch 1/10\n",
      "\u001b[1m58/58\u001b[0m \u001b[32m━━━━━━━━━━━━━━━━━━━━\u001b[0m\u001b[37m\u001b[0m \u001b[1m2s\u001b[0m 12ms/step - accuracy: 0.6634 - loss: 0.9447 - val_accuracy: 0.7671 - val_loss: 0.8047\n",
      "Epoch 2/10\n",
      "\u001b[1m58/58\u001b[0m \u001b[32m━━━━━━━━━━━━━━━━━━━━\u001b[0m\u001b[37m\u001b[0m \u001b[1m0s\u001b[0m 7ms/step - accuracy: 0.8355 - loss: 0.6899 - val_accuracy: 0.8987 - val_loss: 0.5698\n",
      "Epoch 3/10\n",
      "\u001b[1m58/58\u001b[0m \u001b[32m━━━━━━━━━━━━━━━━━━━━\u001b[0m\u001b[37m\u001b[0m \u001b[1m1s\u001b[0m 8ms/step - accuracy: 0.8996 - loss: 0.4922 - val_accuracy: 0.8886 - val_loss: 0.4206\n",
      "Epoch 4/10\n",
      "\u001b[1m58/58\u001b[0m \u001b[32m━━━━━━━━━━━━━━━━━━━━\u001b[0m\u001b[37m\u001b[0m \u001b[1m0s\u001b[0m 7ms/step - accuracy: 0.9235 - loss: 0.3668 - val_accuracy: 0.9443 - val_loss: 0.3172\n",
      "Epoch 5/10\n",
      "\u001b[1m58/58\u001b[0m \u001b[32m━━━━━━━━━━━━━━━━━━━━\u001b[0m\u001b[37m\u001b[0m \u001b[1m0s\u001b[0m 6ms/step - accuracy: 0.9446 - loss: 0.2895 - val_accuracy: 0.9494 - val_loss: 0.2552\n",
      "Epoch 6/10\n",
      "\u001b[1m58/58\u001b[0m \u001b[32m━━━━━━━━━━━━━━━━━━━━\u001b[0m\u001b[37m\u001b[0m \u001b[1m0s\u001b[0m 6ms/step - accuracy: 0.9528 - loss: 0.2359 - val_accuracy: 0.9544 - val_loss: 0.2195\n",
      "Epoch 7/10\n",
      "\u001b[1m58/58\u001b[0m \u001b[32m━━━━━━━━━━━━━━━━━━━━\u001b[0m\u001b[37m\u001b[0m \u001b[1m0s\u001b[0m 6ms/step - accuracy: 0.9593 - loss: 0.2001 - val_accuracy: 0.9570 - val_loss: 0.1817\n",
      "Epoch 8/10\n",
      "\u001b[1m58/58\u001b[0m \u001b[32m━━━━━━━━━━━━━━━━━━━━\u001b[0m\u001b[37m\u001b[0m \u001b[1m0s\u001b[0m 6ms/step - accuracy: 0.9663 - loss: 0.1730 - val_accuracy: 0.9646 - val_loss: 0.1588\n",
      "Epoch 9/10\n",
      "\u001b[1m58/58\u001b[0m \u001b[32m━━━━━━━━━━━━━━━━━━━━\u001b[0m\u001b[37m\u001b[0m \u001b[1m0s\u001b[0m 6ms/step - accuracy: 0.9658 - loss: 0.1539 - val_accuracy: 0.9646 - val_loss: 0.1413\n",
      "Epoch 10/10\n",
      "\u001b[1m58/58\u001b[0m \u001b[32m━━━━━━━━━━━━━━━━━━━━\u001b[0m\u001b[37m\u001b[0m \u001b[1m0s\u001b[0m 6ms/step - accuracy: 0.9685 - loss: 0.1376 - val_accuracy: 0.9696 - val_loss: 0.1280\n",
      "Training model B with embedding 100D\n",
      "Epoch 1/10\n",
      "\u001b[1m58/58\u001b[0m \u001b[32m━━━━━━━━━━━━━━━━━━━━\u001b[0m\u001b[37m\u001b[0m \u001b[1m2s\u001b[0m 11ms/step - accuracy: 0.7324 - loss: 0.7685 - val_accuracy: 0.8481 - val_loss: 0.4377\n",
      "Epoch 2/10\n",
      "\u001b[1m58/58\u001b[0m \u001b[32m━━━━━━━━━━━━━━━━━━━━\u001b[0m\u001b[37m\u001b[0m \u001b[1m0s\u001b[0m 7ms/step - accuracy: 0.9191 - loss: 0.2927 - val_accuracy: 0.9494 - val_loss: 0.1838\n",
      "Epoch 3/10\n",
      "\u001b[1m58/58\u001b[0m \u001b[32m━━━━━━━━━━━━━━━━━━━━\u001b[0m\u001b[37m\u001b[0m \u001b[1m0s\u001b[0m 7ms/step - accuracy: 0.9577 - loss: 0.1444 - val_accuracy: 0.9620 - val_loss: 0.1165\n",
      "Epoch 4/10\n",
      "\u001b[1m58/58\u001b[0m \u001b[32m━━━━━━━━━━━━━━━━━━━━\u001b[0m\u001b[37m\u001b[0m \u001b[1m0s\u001b[0m 7ms/step - accuracy: 0.9663 - loss: 0.1000 - val_accuracy: 0.9646 - val_loss: 0.0866\n",
      "Epoch 5/10\n",
      "\u001b[1m58/58\u001b[0m \u001b[32m━━━━━━━━━━━━━━━━━━━━\u001b[0m\u001b[37m\u001b[0m \u001b[1m0s\u001b[0m 7ms/step - accuracy: 0.9734 - loss: 0.0752 - val_accuracy: 0.9696 - val_loss: 0.0769\n",
      "Epoch 6/10\n",
      "\u001b[1m58/58\u001b[0m \u001b[32m━━━━━━━━━━━━━━━━━━━━\u001b[0m\u001b[37m\u001b[0m \u001b[1m0s\u001b[0m 7ms/step - accuracy: 0.9707 - loss: 0.0718 - val_accuracy: 0.9696 - val_loss: 0.0640\n",
      "Epoch 7/10\n",
      "\u001b[1m58/58\u001b[0m \u001b[32m━━━━━━━━━━━━━━━━━━━━\u001b[0m\u001b[37m\u001b[0m \u001b[1m0s\u001b[0m 6ms/step - accuracy: 0.9772 - loss: 0.0677 - val_accuracy: 0.9722 - val_loss: 0.0543\n",
      "Epoch 8/10\n",
      "\u001b[1m58/58\u001b[0m \u001b[32m━━━━━━━━━━━━━━━━━━━━\u001b[0m\u001b[37m\u001b[0m \u001b[1m0s\u001b[0m 7ms/step - accuracy: 0.9734 - loss: 0.0630 - val_accuracy: 0.9772 - val_loss: 0.0492\n",
      "Epoch 9/10\n",
      "\u001b[1m58/58\u001b[0m \u001b[32m━━━━━━━━━━━━━━━━━━━━\u001b[0m\u001b[37m\u001b[0m \u001b[1m0s\u001b[0m 7ms/step - accuracy: 0.9777 - loss: 0.0580 - val_accuracy: 0.9823 - val_loss: 0.0450\n",
      "Epoch 10/10\n",
      "\u001b[1m58/58\u001b[0m \u001b[32m━━━━━━━━━━━━━━━━━━━━\u001b[0m\u001b[37m\u001b[0m \u001b[1m0s\u001b[0m 7ms/step - accuracy: 0.9805 - loss: 0.0516 - val_accuracy: 0.9848 - val_loss: 0.0408\n",
      "Training model C with embedding 100D\n",
      "Epoch 1/10\n",
      "\u001b[1m58/58\u001b[0m \u001b[32m━━━━━━━━━━━━━━━━━━━━\u001b[0m\u001b[37m\u001b[0m \u001b[1m4s\u001b[0m 34ms/step - accuracy: 0.8301 - loss: 0.4349 - val_accuracy: 0.9468 - val_loss: 0.1442\n",
      "Epoch 2/10\n",
      "\u001b[1m58/58\u001b[0m \u001b[32m━━━━━━━━━━━━━━━━━━━━\u001b[0m\u001b[37m\u001b[0m \u001b[1m2s\u001b[0m 29ms/step - accuracy: 0.9984 - loss: 0.0145 - val_accuracy: 0.9570 - val_loss: 0.1158\n",
      "Epoch 3/10\n",
      "\u001b[1m58/58\u001b[0m \u001b[32m━━━━━━━━━━━━━━━━━━━━\u001b[0m\u001b[37m\u001b[0m \u001b[1m2s\u001b[0m 28ms/step - accuracy: 1.0000 - loss: 0.0018 - val_accuracy: 0.9570 - val_loss: 0.1139\n",
      "Epoch 4/10\n",
      "\u001b[1m58/58\u001b[0m \u001b[32m━━━━━━━━━━━━━━━━━━━━\u001b[0m\u001b[37m\u001b[0m \u001b[1m2s\u001b[0m 28ms/step - accuracy: 1.0000 - loss: 8.9070e-04 - val_accuracy: 0.9595 - val_loss: 0.1158\n",
      "Epoch 5/10\n",
      "\u001b[1m58/58\u001b[0m \u001b[32m━━━━━━━━━━━━━━━━━━━━\u001b[0m\u001b[37m\u001b[0m \u001b[1m2s\u001b[0m 29ms/step - accuracy: 1.0000 - loss: 5.3625e-04 - val_accuracy: 0.9595 - val_loss: 0.1159\n",
      "Epoch 6/10\n",
      "\u001b[1m58/58\u001b[0m \u001b[32m━━━━━━━━━━━━━━━━━━━━\u001b[0m\u001b[37m\u001b[0m \u001b[1m2s\u001b[0m 28ms/step - accuracy: 1.0000 - loss: 3.5056e-04 - val_accuracy: 0.9620 - val_loss: 0.1187\n",
      "Epoch 7/10\n",
      "\u001b[1m58/58\u001b[0m \u001b[32m━━━━━━━━━━━━━━━━━━━━\u001b[0m\u001b[37m\u001b[0m \u001b[1m2s\u001b[0m 29ms/step - accuracy: 1.0000 - loss: 2.4718e-04 - val_accuracy: 0.9620 - val_loss: 0.1185\n",
      "Epoch 8/10\n",
      "\u001b[1m58/58\u001b[0m \u001b[32m━━━━━━━━━━━━━━━━━━━━\u001b[0m\u001b[37m\u001b[0m \u001b[1m2s\u001b[0m 31ms/step - accuracy: 1.0000 - loss: 1.8498e-04 - val_accuracy: 0.9620 - val_loss: 0.1195\n",
      "Epoch 9/10\n",
      "\u001b[1m58/58\u001b[0m \u001b[32m━━━━━━━━━━━━━━━━━━━━\u001b[0m\u001b[37m\u001b[0m \u001b[1m2s\u001b[0m 28ms/step - accuracy: 1.0000 - loss: 1.3937e-04 - val_accuracy: 0.9620 - val_loss: 0.1206\n",
      "Epoch 10/10\n",
      "\u001b[1m58/58\u001b[0m \u001b[32m━━━━━━━━━━━━━━━━━━━━\u001b[0m\u001b[37m\u001b[0m \u001b[1m2s\u001b[0m 30ms/step - accuracy: 1.0000 - loss: 1.0449e-04 - val_accuracy: 0.9595 - val_loss: 0.1225\n",
      "Training model A with embedding 200D\n",
      "Epoch 1/10\n",
      "\u001b[1m58/58\u001b[0m \u001b[32m━━━━━━━━━━━━━━━━━━━━\u001b[0m\u001b[37m\u001b[0m \u001b[1m2s\u001b[0m 11ms/step - accuracy: 0.6954 - loss: 0.9012 - val_accuracy: 0.8304 - val_loss: 0.7110\n",
      "Epoch 2/10\n",
      "\u001b[1m58/58\u001b[0m \u001b[32m━━━━━━━━━━━━━━━━━━━━\u001b[0m\u001b[37m\u001b[0m \u001b[1m0s\u001b[0m 7ms/step - accuracy: 0.8648 - loss: 0.5791 - val_accuracy: 0.9063 - val_loss: 0.4563\n",
      "Epoch 3/10\n",
      "\u001b[1m58/58\u001b[0m \u001b[32m━━━━━━━━━━━━━━━━━━━━\u001b[0m\u001b[37m\u001b[0m \u001b[1m0s\u001b[0m 7ms/step - accuracy: 0.9137 - loss: 0.3870 - val_accuracy: 0.9316 - val_loss: 0.3221\n",
      "Epoch 4/10\n",
      "\u001b[1m58/58\u001b[0m \u001b[32m━━━━━━━━━━━━━━━━━━━━\u001b[0m\u001b[37m\u001b[0m \u001b[1m0s\u001b[0m 7ms/step - accuracy: 0.9376 - loss: 0.2808 - val_accuracy: 0.9519 - val_loss: 0.2456\n",
      "Epoch 5/10\n",
      "\u001b[1m58/58\u001b[0m \u001b[32m━━━━━━━━━━━━━━━━━━━━\u001b[0m\u001b[37m\u001b[0m \u001b[1m1s\u001b[0m 8ms/step - accuracy: 0.9577 - loss: 0.2189 - val_accuracy: 0.9595 - val_loss: 0.1974\n",
      "Epoch 6/10\n",
      "\u001b[1m58/58\u001b[0m \u001b[32m━━━━━━━━━━━━━━━━━━━━\u001b[0m\u001b[37m\u001b[0m \u001b[1m1s\u001b[0m 8ms/step - accuracy: 0.9658 - loss: 0.1775 - val_accuracy: 0.9595 - val_loss: 0.1631\n",
      "Epoch 7/10\n",
      "\u001b[1m58/58\u001b[0m \u001b[32m━━━━━━━━━━━━━━━━━━━━\u001b[0m\u001b[37m\u001b[0m \u001b[1m0s\u001b[0m 7ms/step - accuracy: 0.9669 - loss: 0.1503 - val_accuracy: 0.9671 - val_loss: 0.1421\n",
      "Epoch 8/10\n",
      "\u001b[1m58/58\u001b[0m \u001b[32m━━━━━━━━━━━━━━━━━━━━\u001b[0m\u001b[37m\u001b[0m \u001b[1m0s\u001b[0m 7ms/step - accuracy: 0.9718 - loss: 0.1295 - val_accuracy: 0.9671 - val_loss: 0.1278\n",
      "Epoch 9/10\n",
      "\u001b[1m58/58\u001b[0m \u001b[32m━━━━━━━━━━━━━━━━━━━━\u001b[0m\u001b[37m\u001b[0m \u001b[1m0s\u001b[0m 7ms/step - accuracy: 0.9718 - loss: 0.1160 - val_accuracy: 0.9696 - val_loss: 0.1116\n",
      "Epoch 10/10\n",
      "\u001b[1m58/58\u001b[0m \u001b[32m━━━━━━━━━━━━━━━━━━━━\u001b[0m\u001b[37m\u001b[0m \u001b[1m0s\u001b[0m 7ms/step - accuracy: 0.9729 - loss: 0.1036 - val_accuracy: 0.9722 - val_loss: 0.0996\n",
      "Training model B with embedding 200D\n",
      "Epoch 1/10\n",
      "\u001b[1m58/58\u001b[0m \u001b[32m━━━━━━━━━━━━━━━━━━━━\u001b[0m\u001b[37m\u001b[0m \u001b[1m2s\u001b[0m 12ms/step - accuracy: 0.7557 - loss: 0.6950 - val_accuracy: 0.9342 - val_loss: 0.3124\n",
      "Epoch 2/10\n",
      "\u001b[1m58/58\u001b[0m \u001b[32m━━━━━━━━━━━━━━━━━━━━\u001b[0m\u001b[37m\u001b[0m \u001b[1m1s\u001b[0m 8ms/step - accuracy: 0.9555 - loss: 0.1953 - val_accuracy: 0.9646 - val_loss: 0.1279\n",
      "Epoch 3/10\n",
      "\u001b[1m58/58\u001b[0m \u001b[32m━━━━━━━━━━━━━━━━━━━━\u001b[0m\u001b[37m\u001b[0m \u001b[1m0s\u001b[0m 7ms/step - accuracy: 0.9750 - loss: 0.1018 - val_accuracy: 0.9722 - val_loss: 0.1102\n",
      "Epoch 4/10\n",
      "\u001b[1m58/58\u001b[0m \u001b[32m━━━━━━━━━━━━━━━━━━━━\u001b[0m\u001b[37m\u001b[0m \u001b[1m0s\u001b[0m 7ms/step - accuracy: 0.9734 - loss: 0.0795 - val_accuracy: 0.9747 - val_loss: 0.0754\n",
      "Epoch 5/10\n",
      "\u001b[1m58/58\u001b[0m \u001b[32m━━━━━━━━━━━━━━━━━━━━\u001b[0m\u001b[37m\u001b[0m \u001b[1m0s\u001b[0m 7ms/step - accuracy: 0.9761 - loss: 0.0647 - val_accuracy: 0.9747 - val_loss: 0.0590\n",
      "Epoch 6/10\n",
      "\u001b[1m58/58\u001b[0m \u001b[32m━━━━━━━━━━━━━━━━━━━━\u001b[0m\u001b[37m\u001b[0m \u001b[1m0s\u001b[0m 7ms/step - accuracy: 0.9729 - loss: 0.0625 - val_accuracy: 0.9772 - val_loss: 0.0532\n",
      "Epoch 7/10\n",
      "\u001b[1m58/58\u001b[0m \u001b[32m━━━━━━━━━━━━━━━━━━━━\u001b[0m\u001b[37m\u001b[0m \u001b[1m0s\u001b[0m 7ms/step - accuracy: 0.9777 - loss: 0.0575 - val_accuracy: 0.9823 - val_loss: 0.0595\n",
      "Epoch 8/10\n",
      "\u001b[1m58/58\u001b[0m \u001b[32m━━━━━━━━━━━━━━━━━━━━\u001b[0m\u001b[37m\u001b[0m \u001b[1m1s\u001b[0m 7ms/step - accuracy: 0.9794 - loss: 0.0509 - val_accuracy: 0.9772 - val_loss: 0.0603\n",
      "Epoch 9/10\n",
      "\u001b[1m58/58\u001b[0m \u001b[32m━━━━━━━━━━━━━━━━━━━━\u001b[0m\u001b[37m\u001b[0m \u001b[1m0s\u001b[0m 7ms/step - accuracy: 0.9777 - loss: 0.0501 - val_accuracy: 0.9823 - val_loss: 0.0532\n",
      "Epoch 10/10\n",
      "\u001b[1m58/58\u001b[0m \u001b[32m━━━━━━━━━━━━━━━━━━━━\u001b[0m\u001b[37m\u001b[0m \u001b[1m0s\u001b[0m 7ms/step - accuracy: 0.9788 - loss: 0.0467 - val_accuracy: 0.9823 - val_loss: 0.0519\n",
      "Training model C with embedding 200D\n",
      "Epoch 1/10\n",
      "\u001b[1m58/58\u001b[0m \u001b[32m━━━━━━━━━━━━━━━━━━━━\u001b[0m\u001b[37m\u001b[0m \u001b[1m5s\u001b[0m 54ms/step - accuracy: 0.7818 - loss: 0.6414 - val_accuracy: 0.9468 - val_loss: 0.1661\n",
      "Epoch 2/10\n",
      "\u001b[1m58/58\u001b[0m \u001b[32m━━━━━━━━━━━━━━━━━━━━\u001b[0m\u001b[37m\u001b[0m \u001b[1m3s\u001b[0m 48ms/step - accuracy: 0.9957 - loss: 0.0223 - val_accuracy: 0.9494 - val_loss: 0.1197\n",
      "Epoch 3/10\n",
      "\u001b[1m58/58\u001b[0m \u001b[32m━━━━━━━━━━━━━━━━━━━━\u001b[0m\u001b[37m\u001b[0m \u001b[1m3s\u001b[0m 49ms/step - accuracy: 1.0000 - loss: 0.0025 - val_accuracy: 0.9443 - val_loss: 0.1207\n",
      "Epoch 4/10\n",
      "\u001b[1m58/58\u001b[0m \u001b[32m━━━━━━━━━━━━━━━━━━━━\u001b[0m\u001b[37m\u001b[0m \u001b[1m5s\u001b[0m 50ms/step - accuracy: 1.0000 - loss: 7.5317e-04 - val_accuracy: 0.9494 - val_loss: 0.1222\n",
      "Epoch 5/10\n",
      "\u001b[1m58/58\u001b[0m \u001b[32m━━━━━━━━━━━━━━━━━━━━\u001b[0m\u001b[37m\u001b[0m \u001b[1m3s\u001b[0m 49ms/step - accuracy: 1.0000 - loss: 3.2503e-04 - val_accuracy: 0.9494 - val_loss: 0.1250\n",
      "Epoch 6/10\n",
      "\u001b[1m58/58\u001b[0m \u001b[32m━━━━━━━━━━━━━━━━━━━━\u001b[0m\u001b[37m\u001b[0m \u001b[1m3s\u001b[0m 50ms/step - accuracy: 1.0000 - loss: 1.6252e-04 - val_accuracy: 0.9570 - val_loss: 0.1213\n",
      "Epoch 7/10\n",
      "\u001b[1m58/58\u001b[0m \u001b[32m━━━━━━━━━━━━━━━━━━━━\u001b[0m\u001b[37m\u001b[0m \u001b[1m3s\u001b[0m 48ms/step - accuracy: 1.0000 - loss: 9.5922e-05 - val_accuracy: 0.9494 - val_loss: 0.1256\n",
      "Epoch 8/10\n",
      "\u001b[1m58/58\u001b[0m \u001b[32m━━━━━━━━━━━━━━━━━━━━\u001b[0m\u001b[37m\u001b[0m \u001b[1m3s\u001b[0m 50ms/step - accuracy: 1.0000 - loss: 6.3062e-05 - val_accuracy: 0.9519 - val_loss: 0.1262\n",
      "Epoch 9/10\n",
      "\u001b[1m58/58\u001b[0m \u001b[32m━━━━━━━━━━━━━━━━━━━━\u001b[0m\u001b[37m\u001b[0m \u001b[1m3s\u001b[0m 49ms/step - accuracy: 1.0000 - loss: 4.4774e-05 - val_accuracy: 0.9519 - val_loss: 0.1278\n",
      "Epoch 10/10\n",
      "\u001b[1m58/58\u001b[0m \u001b[32m━━━━━━━━━━━━━━━━━━━━\u001b[0m\u001b[37m\u001b[0m \u001b[1m3s\u001b[0m 49ms/step - accuracy: 1.0000 - loss: 3.3874e-05 - val_accuracy: 0.9544 - val_loss: 0.1288\n"
     ]
    }
   ],
   "source": [
    "results = {}\n",
    "\n",
    "for embedding_dimension, embedding_matrix in embedding_matrices.items():\n",
    "    for arch_name, build_fn in architectures.items():\n",
    "        print(f\"Training model {arch_name} with embedding {embedding_dimension}D\")\n",
    "\n",
    "        embedding_layer = make_embedding_layer(embedding_matrix)\n",
    "        model = build_fn(embedding_layer)\n",
    "\n",
    "        model.compile(\n",
    "            optimizer = Adam(),\n",
    "            loss = 'sparse_categorical_crossentropy',\n",
    "            metrics = ['accuracy']\n",
    "        )\n",
    "\n",
    "        history = model.fit(\n",
    "            X_train_sequences, y_train,\n",
    "            validation_data = (X_validation_sequences, y_validation),\n",
    "            epochs = 10,\n",
    "            batch_size = 32,\n",
    "            verbose = 1\n",
    "        )\n",
    "\n",
    "        y_pred_probs = model.predict(X_test_sequences, verbose = 0)\n",
    "        y_pred = np.argmax(y_pred_probs, axis = 1)\n",
    "\n",
    "        accuracy = accuracy_score(y_test, y_pred)\n",
    "        precision = precision_score(y_test, y_pred, average = 'macro', zero_division = 0)\n",
    "        recall = recall_score(y_test, y_pred, average = 'macro', zero_division = 0)\n",
    "\n",
    "        key = f\"{arch_name}_{embedding_dimension}D\"\n",
    "        results[key] = {\n",
    "            \"accuracy\": accuracy,\n",
    "            \"precision\": precision,\n",
    "            \"recall\": recall\n",
    "        }"
   ]
  },
  {
   "cell_type": "code",
   "execution_count": 41,
   "id": "b47f7890",
   "metadata": {},
   "outputs": [
    {
     "name": "stdout",
     "output_type": "stream",
     "text": [
      "       accuracy precision recall\n",
      "A_50D     0.967     0.966  0.968\n",
      "B_50D     0.972     0.967  0.976\n",
      "C_50D     0.965     0.964  0.963\n",
      "A_100D    0.957     0.959  0.954\n",
      "B_100D    0.980     0.976  0.983\n",
      "C_100D    0.954     0.959  0.948\n",
      "A_200D    0.970     0.966  0.972\n",
      "B_200D    0.980     0.979  0.980\n",
      "C_200D    0.952     0.958  0.941\n"
     ]
    }
   ],
   "source": [
    "df = pd.DataFrame(results).T \n",
    "\n",
    "df_formatted = df.map(lambda x: f\"{x:.3f}\")\n",
    "\n",
    "print(df_formatted)"
   ]
  },
  {
   "cell_type": "markdown",
   "id": "3f4574e0",
   "metadata": {},
   "source": [
    "# 9. Training Feed-Forward Model for Classification (Glove Embeddings)"
   ]
  },
  {
   "cell_type": "code",
   "execution_count": 42,
   "id": "986d88b3",
   "metadata": {},
   "outputs": [],
   "source": [
    "import numpy as np"
   ]
  },
  {
   "cell_type": "code",
   "execution_count": 43,
   "id": "ac8ad1db",
   "metadata": {},
   "outputs": [],
   "source": [
    "glove_dir = \"../models/glove.6b\"\n",
    "\n",
    "model_paths = {\n",
    "    50: f\"{glove_dir}/glove.6b.50d.txt\",\n",
    "    100: f\"{glove_dir}/glove.6b.100d.txt\",\n",
    "    200: f\"{glove_dir}/glove.6b.200d.txt\"\n",
    "}"
   ]
  },
  {
   "cell_type": "code",
   "execution_count": null,
   "id": "9bb29ab8",
   "metadata": {},
   "outputs": [],
   "source": [
    "def load_glove_embeddings(path):\n",
    "    embeddings_index = {}\n",
    "    with open(path, encoding = \"utf8\") as f:\n",
    "        for line in f:\n",
    "            values = line.split()\n",
    "            word = values[0]\n",
    "            vector = np.asarray(values[1:], dtype = \"float32\")\n",
    "            embeddings_index[word] = vector\n",
    "    print(f\"Loaded {len(embeddings_index)} embeddings from {path}\")\n",
    "    return embeddings_index\n"
   ]
  },
  {
   "cell_type": "code",
   "execution_count": 45,
   "id": "cefb278b",
   "metadata": {},
   "outputs": [],
   "source": [
    "def build_embedding_matrix_glove(embeddings_index, tokenizer, embedding_dimension):\n",
    "    vocabulary_size = len(tokenizer.word_index) + 1\n",
    "    matrix = np.zeros((vocabulary_size, embedding_dimension))\n",
    "    for word, i in tokenizer.word_index.items():\n",
    "        vector = embeddings_index.get(word)\n",
    "        if vector is not None:\n",
    "            matrix[i] = vector\n",
    "    return matrix\n"
   ]
  },
  {
   "cell_type": "code",
   "execution_count": 48,
   "id": "dd2c8b65",
   "metadata": {},
   "outputs": [
    {
     "name": "stdout",
     "output_type": "stream",
     "text": [
      "\n",
      "Loading GloVe 50D...\n",
      "Loaded 400000 embeddings from ../models/glove.6b/glove.6b.50d.txt\n",
      "Matrix 50D shape: (21023, 50)\n",
      "\n",
      "Loading GloVe 100D...\n",
      "Loaded 400000 embeddings from ../models/glove.6b/glove.6b.100d.txt\n",
      "Matrix 100D shape: (21023, 100)\n",
      "\n",
      "Loading GloVe 200D...\n",
      "Loaded 400000 embeddings from ../models/glove.6b/glove.6b.200d.txt\n",
      "Matrix 200D shape: (21023, 200)\n"
     ]
    }
   ],
   "source": [
    "glove_models = {}\n",
    "embedding_matrices_glove = {}\n",
    "\n",
    "for dim, path in model_paths.items():\n",
    "    print(f\"\\nLoading GloVe {dim}D...\")\n",
    "    glove_models[dim] = load_glove_embeddings(path)\n",
    "    embedding_matrices_glove[dim] = build_embedding_matrix_glove(glove_models[dim], tokenizer, dim)\n",
    "    print(f\"Matrix {dim}D shape: {embedding_matrices_glove[dim].shape}\")"
   ]
  },
  {
   "cell_type": "code",
   "execution_count": 49,
   "id": "30711a14",
   "metadata": {},
   "outputs": [
    {
     "name": "stdout",
     "output_type": "stream",
     "text": [
      "Training model A with embedding 50D\n",
      "Epoch 1/10\n",
      "\u001b[1m58/58\u001b[0m \u001b[32m━━━━━━━━━━━━━━━━━━━━\u001b[0m\u001b[37m\u001b[0m \u001b[1m2s\u001b[0m 11ms/step - accuracy: 0.6059 - loss: 0.9885 - val_accuracy: 0.6759 - val_loss: 0.9274\n",
      "Epoch 2/10\n",
      "\u001b[1m58/58\u001b[0m \u001b[32m━━━━━━━━━━━━━━━━━━━━\u001b[0m\u001b[37m\u001b[0m \u001b[1m0s\u001b[0m 7ms/step - accuracy: 0.6819 - loss: 0.8758 - val_accuracy: 0.7089 - val_loss: 0.8168\n",
      "Epoch 3/10\n",
      "\u001b[1m58/58\u001b[0m \u001b[32m━━━━━━━━━━━━━━━━━━━━\u001b[0m\u001b[37m\u001b[0m \u001b[1m0s\u001b[0m 6ms/step - accuracy: 0.7193 - loss: 0.7695 - val_accuracy: 0.7696 - val_loss: 0.7227\n",
      "Epoch 4/10\n",
      "\u001b[1m58/58\u001b[0m \u001b[32m━━━━━━━━━━━━━━━━━━━━\u001b[0m\u001b[37m\u001b[0m \u001b[1m0s\u001b[0m 6ms/step - accuracy: 0.7503 - loss: 0.6832 - val_accuracy: 0.7873 - val_loss: 0.6542\n",
      "Epoch 5/10\n",
      "\u001b[1m58/58\u001b[0m \u001b[32m━━━━━━━━━━━━━━━━━━━━\u001b[0m\u001b[37m\u001b[0m \u001b[1m0s\u001b[0m 6ms/step - accuracy: 0.7828 - loss: 0.6205 - val_accuracy: 0.8076 - val_loss: 0.5973\n",
      "Epoch 6/10\n",
      "\u001b[1m58/58\u001b[0m \u001b[32m━━━━━━━━━━━━━━━━━━━━\u001b[0m\u001b[37m\u001b[0m \u001b[1m0s\u001b[0m 6ms/step - accuracy: 0.8008 - loss: 0.5671 - val_accuracy: 0.8076 - val_loss: 0.5503\n",
      "Epoch 7/10\n",
      "\u001b[1m58/58\u001b[0m \u001b[32m━━━━━━━━━━━━━━━━━━━━\u001b[0m\u001b[37m\u001b[0m \u001b[1m0s\u001b[0m 6ms/step - accuracy: 0.8241 - loss: 0.5234 - val_accuracy: 0.8278 - val_loss: 0.5127\n",
      "Epoch 8/10\n",
      "\u001b[1m58/58\u001b[0m \u001b[32m━━━━━━━━━━━━━━━━━━━━\u001b[0m\u001b[37m\u001b[0m \u001b[1m0s\u001b[0m 6ms/step - accuracy: 0.8230 - loss: 0.4900 - val_accuracy: 0.8304 - val_loss: 0.4862\n",
      "Epoch 9/10\n",
      "\u001b[1m58/58\u001b[0m \u001b[32m━━━━━━━━━━━━━━━━━━━━\u001b[0m\u001b[37m\u001b[0m \u001b[1m1s\u001b[0m 6ms/step - accuracy: 0.8366 - loss: 0.4590 - val_accuracy: 0.8329 - val_loss: 0.4557\n",
      "Epoch 10/10\n",
      "\u001b[1m58/58\u001b[0m \u001b[32m━━━━━━━━━━━━━━━━━━━━\u001b[0m\u001b[37m\u001b[0m \u001b[1m0s\u001b[0m 6ms/step - accuracy: 0.8404 - loss: 0.4404 - val_accuracy: 0.8430 - val_loss: 0.4393\n",
      "Training model B with embedding 50D\n",
      "Epoch 1/10\n",
      "\u001b[1m58/58\u001b[0m \u001b[32m━━━━━━━━━━━━━━━━━━━━\u001b[0m\u001b[37m\u001b[0m \u001b[1m2s\u001b[0m 12ms/step - accuracy: 0.6107 - loss: 0.9076 - val_accuracy: 0.7899 - val_loss: 0.7045\n",
      "Epoch 2/10\n",
      "\u001b[1m58/58\u001b[0m \u001b[32m━━━━━━━━━━━━━━━━━━━━\u001b[0m\u001b[37m\u001b[0m \u001b[1m1s\u001b[0m 6ms/step - accuracy: 0.7932 - loss: 0.5755 - val_accuracy: 0.8405 - val_loss: 0.4950\n",
      "Epoch 3/10\n",
      "\u001b[1m58/58\u001b[0m \u001b[32m━━━━━━━━━━━━━━━━━━━━\u001b[0m\u001b[37m\u001b[0m \u001b[1m0s\u001b[0m 6ms/step - accuracy: 0.8366 - loss: 0.4330 - val_accuracy: 0.8684 - val_loss: 0.3899\n",
      "Epoch 4/10\n",
      "\u001b[1m58/58\u001b[0m \u001b[32m━━━━━━━━━━━━━━━━━━━━\u001b[0m\u001b[37m\u001b[0m \u001b[1m0s\u001b[0m 6ms/step - accuracy: 0.8632 - loss: 0.3617 - val_accuracy: 0.8633 - val_loss: 0.3477\n",
      "Epoch 5/10\n",
      "\u001b[1m58/58\u001b[0m \u001b[32m━━━━━━━━━━━━━━━━━━━━\u001b[0m\u001b[37m\u001b[0m \u001b[1m0s\u001b[0m 7ms/step - accuracy: 0.8713 - loss: 0.3240 - val_accuracy: 0.8937 - val_loss: 0.3058\n",
      "Epoch 6/10\n",
      "\u001b[1m58/58\u001b[0m \u001b[32m━━━━━━━━━━━━━━━━━━━━\u001b[0m\u001b[37m\u001b[0m \u001b[1m0s\u001b[0m 6ms/step - accuracy: 0.8849 - loss: 0.3038 - val_accuracy: 0.8886 - val_loss: 0.2919\n",
      "Epoch 7/10\n",
      "\u001b[1m58/58\u001b[0m \u001b[32m━━━━━━━━━━━━━━━━━━━━\u001b[0m\u001b[37m\u001b[0m \u001b[1m0s\u001b[0m 7ms/step - accuracy: 0.8909 - loss: 0.2856 - val_accuracy: 0.8835 - val_loss: 0.2808\n",
      "Epoch 8/10\n",
      "\u001b[1m58/58\u001b[0m \u001b[32m━━━━━━━━━━━━━━━━━━━━\u001b[0m\u001b[37m\u001b[0m \u001b[1m0s\u001b[0m 7ms/step - accuracy: 0.8952 - loss: 0.2780 - val_accuracy: 0.8658 - val_loss: 0.3181\n",
      "Epoch 9/10\n",
      "\u001b[1m58/58\u001b[0m \u001b[32m━━━━━━━━━━━━━━━━━━━━\u001b[0m\u001b[37m\u001b[0m \u001b[1m0s\u001b[0m 7ms/step - accuracy: 0.8963 - loss: 0.2569 - val_accuracy: 0.8962 - val_loss: 0.2560\n",
      "Epoch 10/10\n",
      "\u001b[1m58/58\u001b[0m \u001b[32m━━━━━━━━━━━━━━━━━━━━\u001b[0m\u001b[37m\u001b[0m \u001b[1m0s\u001b[0m 6ms/step - accuracy: 0.9045 - loss: 0.2459 - val_accuracy: 0.8861 - val_loss: 0.2502\n",
      "Training model C with embedding 50D\n",
      "Epoch 1/10\n",
      "\u001b[1m58/58\u001b[0m \u001b[32m━━━━━━━━━━━━━━━━━━━━\u001b[0m\u001b[37m\u001b[0m \u001b[1m3s\u001b[0m 23ms/step - accuracy: 0.6325 - loss: 0.8289 - val_accuracy: 0.8177 - val_loss: 0.5143\n",
      "Epoch 2/10\n",
      "\u001b[1m58/58\u001b[0m \u001b[32m━━━━━━━━━━━━━━━━━━━━\u001b[0m\u001b[37m\u001b[0m \u001b[1m1s\u001b[0m 18ms/step - accuracy: 0.9674 - loss: 0.1259 - val_accuracy: 0.8076 - val_loss: 0.5318\n",
      "Epoch 3/10\n",
      "\u001b[1m58/58\u001b[0m \u001b[32m━━━━━━━━━━━━━━━━━━━━\u001b[0m\u001b[37m\u001b[0m \u001b[1m1s\u001b[0m 19ms/step - accuracy: 0.9978 - loss: 0.0171 - val_accuracy: 0.8051 - val_loss: 0.6342\n",
      "Epoch 4/10\n",
      "\u001b[1m58/58\u001b[0m \u001b[32m━━━━━━━━━━━━━━━━━━━━\u001b[0m\u001b[37m\u001b[0m \u001b[1m1s\u001b[0m 18ms/step - accuracy: 1.0000 - loss: 0.0037 - val_accuracy: 0.7975 - val_loss: 0.5985\n",
      "Epoch 5/10\n",
      "\u001b[1m58/58\u001b[0m \u001b[32m━━━━━━━━━━━━━━━━━━━━\u001b[0m\u001b[37m\u001b[0m \u001b[1m1s\u001b[0m 19ms/step - accuracy: 1.0000 - loss: 0.0016 - val_accuracy: 0.8051 - val_loss: 0.6286\n",
      "Epoch 6/10\n",
      "\u001b[1m58/58\u001b[0m \u001b[32m━━━━━━━━━━━━━━━━━━━━\u001b[0m\u001b[37m\u001b[0m \u001b[1m1s\u001b[0m 18ms/step - accuracy: 1.0000 - loss: 9.8856e-04 - val_accuracy: 0.8051 - val_loss: 0.6469\n",
      "Epoch 7/10\n",
      "\u001b[1m58/58\u001b[0m \u001b[32m━━━━━━━━━━━━━━━━━━━━\u001b[0m\u001b[37m\u001b[0m \u001b[1m1s\u001b[0m 18ms/step - accuracy: 1.0000 - loss: 6.4802e-04 - val_accuracy: 0.8101 - val_loss: 0.6666\n",
      "Epoch 8/10\n",
      "\u001b[1m58/58\u001b[0m \u001b[32m━━━━━━━━━━━━━━━━━━━━\u001b[0m\u001b[37m\u001b[0m \u001b[1m1s\u001b[0m 18ms/step - accuracy: 1.0000 - loss: 4.8248e-04 - val_accuracy: 0.8076 - val_loss: 0.6799\n",
      "Epoch 9/10\n",
      "\u001b[1m58/58\u001b[0m \u001b[32m━━━━━━━━━━━━━━━━━━━━\u001b[0m\u001b[37m\u001b[0m \u001b[1m1s\u001b[0m 18ms/step - accuracy: 1.0000 - loss: 3.7258e-04 - val_accuracy: 0.8101 - val_loss: 0.6964\n",
      "Epoch 10/10\n",
      "\u001b[1m58/58\u001b[0m \u001b[32m━━━━━━━━━━━━━━━━━━━━\u001b[0m\u001b[37m\u001b[0m \u001b[1m1s\u001b[0m 19ms/step - accuracy: 1.0000 - loss: 2.9539e-04 - val_accuracy: 0.8076 - val_loss: 0.7064\n",
      "Training model A with embedding 100D\n",
      "Epoch 1/10\n",
      "\u001b[1m58/58\u001b[0m \u001b[32m━━━━━━━━━━━━━━━━━━━━\u001b[0m\u001b[37m\u001b[0m \u001b[1m2s\u001b[0m 11ms/step - accuracy: 0.5537 - loss: 1.0173 - val_accuracy: 0.6658 - val_loss: 0.9417\n",
      "Epoch 2/10\n",
      "\u001b[1m58/58\u001b[0m \u001b[32m━━━━━━━━━━━━━━━━━━━━\u001b[0m\u001b[37m\u001b[0m \u001b[1m0s\u001b[0m 7ms/step - accuracy: 0.6900 - loss: 0.8738 - val_accuracy: 0.7468 - val_loss: 0.8072\n",
      "Epoch 3/10\n",
      "\u001b[1m58/58\u001b[0m \u001b[32m━━━━━━━━━━━━━━━━━━━━\u001b[0m\u001b[37m\u001b[0m \u001b[1m0s\u001b[0m 7ms/step - accuracy: 0.7562 - loss: 0.7425 - val_accuracy: 0.7646 - val_loss: 0.6896\n",
      "Epoch 4/10\n",
      "\u001b[1m58/58\u001b[0m \u001b[32m━━━━━━━━━━━━━━━━━━━━\u001b[0m\u001b[37m\u001b[0m \u001b[1m0s\u001b[0m 6ms/step - accuracy: 0.7986 - loss: 0.6387 - val_accuracy: 0.7949 - val_loss: 0.6023\n",
      "Epoch 5/10\n",
      "\u001b[1m58/58\u001b[0m \u001b[32m━━━━━━━━━━━━━━━━━━━━\u001b[0m\u001b[37m\u001b[0m \u001b[1m0s\u001b[0m 7ms/step - accuracy: 0.8241 - loss: 0.5572 - val_accuracy: 0.8253 - val_loss: 0.5390\n",
      "Epoch 6/10\n",
      "\u001b[1m58/58\u001b[0m \u001b[32m━━━━━━━━━━━━━━━━━━━━\u001b[0m\u001b[37m\u001b[0m \u001b[1m0s\u001b[0m 7ms/step - accuracy: 0.8328 - loss: 0.5006 - val_accuracy: 0.8430 - val_loss: 0.4823\n",
      "Epoch 7/10\n",
      "\u001b[1m58/58\u001b[0m \u001b[32m━━━━━━━━━━━━━━━━━━━━\u001b[0m\u001b[37m\u001b[0m \u001b[1m0s\u001b[0m 6ms/step - accuracy: 0.8523 - loss: 0.4496 - val_accuracy: 0.8506 - val_loss: 0.4435\n",
      "Epoch 8/10\n",
      "\u001b[1m58/58\u001b[0m \u001b[32m━━━━━━━━━━━━━━━━━━━━\u001b[0m\u001b[37m\u001b[0m \u001b[1m0s\u001b[0m 7ms/step - accuracy: 0.8540 - loss: 0.4130 - val_accuracy: 0.8532 - val_loss: 0.4102\n",
      "Epoch 9/10\n",
      "\u001b[1m58/58\u001b[0m \u001b[32m━━━━━━━━━━━━━━━━━━━━\u001b[0m\u001b[37m\u001b[0m \u001b[1m0s\u001b[0m 7ms/step - accuracy: 0.8681 - loss: 0.3840 - val_accuracy: 0.8658 - val_loss: 0.3879\n",
      "Epoch 10/10\n",
      "\u001b[1m58/58\u001b[0m \u001b[32m━━━━━━━━━━━━━━━━━━━━\u001b[0m\u001b[37m\u001b[0m \u001b[1m0s\u001b[0m 7ms/step - accuracy: 0.8735 - loss: 0.3598 - val_accuracy: 0.8709 - val_loss: 0.3682\n",
      "Training model B with embedding 100D\n",
      "Epoch 1/10\n",
      "\u001b[1m58/58\u001b[0m \u001b[32m━━━━━━━━━━━━━━━━━━━━\u001b[0m\u001b[37m\u001b[0m \u001b[1m2s\u001b[0m 11ms/step - accuracy: 0.6547 - loss: 0.8585 - val_accuracy: 0.7418 - val_loss: 0.6665\n",
      "Epoch 2/10\n",
      "\u001b[1m58/58\u001b[0m \u001b[32m━━━━━━━━━━━━━━━━━━━━\u001b[0m\u001b[37m\u001b[0m \u001b[1m0s\u001b[0m 7ms/step - accuracy: 0.8154 - loss: 0.5267 - val_accuracy: 0.8506 - val_loss: 0.4442\n",
      "Epoch 3/10\n",
      "\u001b[1m58/58\u001b[0m \u001b[32m━━━━━━━━━━━━━━━━━━━━\u001b[0m\u001b[37m\u001b[0m \u001b[1m0s\u001b[0m 7ms/step - accuracy: 0.8610 - loss: 0.3844 - val_accuracy: 0.8633 - val_loss: 0.3618\n",
      "Epoch 4/10\n",
      "\u001b[1m58/58\u001b[0m \u001b[32m━━━━━━━━━━━━━━━━━━━━\u001b[0m\u001b[37m\u001b[0m \u001b[1m0s\u001b[0m 7ms/step - accuracy: 0.8789 - loss: 0.3224 - val_accuracy: 0.8734 - val_loss: 0.3235\n",
      "Epoch 5/10\n",
      "\u001b[1m58/58\u001b[0m \u001b[32m━━━━━━━━━━━━━━━━━━━━\u001b[0m\u001b[37m\u001b[0m \u001b[1m1s\u001b[0m 8ms/step - accuracy: 0.8903 - loss: 0.2834 - val_accuracy: 0.8835 - val_loss: 0.2670\n",
      "Epoch 6/10\n",
      "\u001b[1m58/58\u001b[0m \u001b[32m━━━━━━━━━━━━━━━━━━━━\u001b[0m\u001b[37m\u001b[0m \u001b[1m0s\u001b[0m 7ms/step - accuracy: 0.9088 - loss: 0.2537 - val_accuracy: 0.8937 - val_loss: 0.2664\n",
      "Epoch 7/10\n",
      "\u001b[1m58/58\u001b[0m \u001b[32m━━━━━━━━━━━━━━━━━━━━\u001b[0m\u001b[37m\u001b[0m \u001b[1m1s\u001b[0m 8ms/step - accuracy: 0.9012 - loss: 0.2410 - val_accuracy: 0.9013 - val_loss: 0.2350\n",
      "Epoch 8/10\n",
      "\u001b[1m58/58\u001b[0m \u001b[32m━━━━━━━━━━━━━━━━━━━━\u001b[0m\u001b[37m\u001b[0m \u001b[1m1s\u001b[0m 7ms/step - accuracy: 0.9088 - loss: 0.2342 - val_accuracy: 0.9038 - val_loss: 0.2302\n",
      "Epoch 9/10\n",
      "\u001b[1m58/58\u001b[0m \u001b[32m━━━━━━━━━━━━━━━━━━━━\u001b[0m\u001b[37m\u001b[0m \u001b[1m1s\u001b[0m 7ms/step - accuracy: 0.9235 - loss: 0.2072 - val_accuracy: 0.9038 - val_loss: 0.2089\n",
      "Epoch 10/10\n",
      "\u001b[1m58/58\u001b[0m \u001b[32m━━━━━━━━━━━━━━━━━━━━\u001b[0m\u001b[37m\u001b[0m \u001b[1m0s\u001b[0m 7ms/step - accuracy: 0.9256 - loss: 0.2001 - val_accuracy: 0.9089 - val_loss: 0.2361\n",
      "Training model C with embedding 100D\n",
      "Epoch 1/10\n",
      "\u001b[1m58/58\u001b[0m \u001b[32m━━━━━━━━━━━━━━━━━━━━\u001b[0m\u001b[37m\u001b[0m \u001b[1m4s\u001b[0m 33ms/step - accuracy: 0.6645 - loss: 0.8142 - val_accuracy: 0.7873 - val_loss: 0.4705\n",
      "Epoch 2/10\n",
      "\u001b[1m58/58\u001b[0m \u001b[32m━━━━━━━━━━━━━━━━━━━━\u001b[0m\u001b[37m\u001b[0m \u001b[1m2s\u001b[0m 28ms/step - accuracy: 0.9940 - loss: 0.0519 - val_accuracy: 0.8228 - val_loss: 0.4402\n",
      "Epoch 3/10\n",
      "\u001b[1m58/58\u001b[0m \u001b[32m━━━━━━━━━━━━━━━━━━━━\u001b[0m\u001b[37m\u001b[0m \u001b[1m2s\u001b[0m 28ms/step - accuracy: 1.0000 - loss: 0.0049 - val_accuracy: 0.8304 - val_loss: 0.4806\n",
      "Epoch 4/10\n",
      "\u001b[1m58/58\u001b[0m \u001b[32m━━━━━━━━━━━━━━━━━━━━\u001b[0m\u001b[37m\u001b[0m \u001b[1m2s\u001b[0m 30ms/step - accuracy: 1.0000 - loss: 0.0016 - val_accuracy: 0.8329 - val_loss: 0.4976\n",
      "Epoch 5/10\n",
      "\u001b[1m58/58\u001b[0m \u001b[32m━━━━━━━━━━━━━━━━━━━━\u001b[0m\u001b[37m\u001b[0m \u001b[1m2s\u001b[0m 29ms/step - accuracy: 1.0000 - loss: 9.4908e-04 - val_accuracy: 0.8304 - val_loss: 0.5215\n",
      "Epoch 6/10\n",
      "\u001b[1m58/58\u001b[0m \u001b[32m━━━━━━━━━━━━━━━━━━━━\u001b[0m\u001b[37m\u001b[0m \u001b[1m2s\u001b[0m 29ms/step - accuracy: 1.0000 - loss: 6.3775e-04 - val_accuracy: 0.8329 - val_loss: 0.5279\n",
      "Epoch 7/10\n",
      "\u001b[1m58/58\u001b[0m \u001b[32m━━━━━━━━━━━━━━━━━━━━\u001b[0m\u001b[37m\u001b[0m \u001b[1m2s\u001b[0m 30ms/step - accuracy: 1.0000 - loss: 4.4704e-04 - val_accuracy: 0.8253 - val_loss: 0.5422\n",
      "Epoch 8/10\n",
      "\u001b[1m58/58\u001b[0m \u001b[32m━━━━━━━━━━━━━━━━━━━━\u001b[0m\u001b[37m\u001b[0m \u001b[1m2s\u001b[0m 29ms/step - accuracy: 1.0000 - loss: 2.9416e-04 - val_accuracy: 0.8304 - val_loss: 0.5553\n",
      "Epoch 9/10\n",
      "\u001b[1m58/58\u001b[0m \u001b[32m━━━━━━━━━━━━━━━━━━━━\u001b[0m\u001b[37m\u001b[0m \u001b[1m2s\u001b[0m 29ms/step - accuracy: 1.0000 - loss: 2.0586e-04 - val_accuracy: 0.8253 - val_loss: 0.5736\n",
      "Epoch 10/10\n",
      "\u001b[1m58/58\u001b[0m \u001b[32m━━━━━━━━━━━━━━━━━━━━\u001b[0m\u001b[37m\u001b[0m \u001b[1m2s\u001b[0m 30ms/step - accuracy: 1.0000 - loss: 1.4972e-04 - val_accuracy: 0.8278 - val_loss: 0.5810\n",
      "Training model A with embedding 200D\n",
      "Epoch 1/10\n",
      "\u001b[1m58/58\u001b[0m \u001b[32m━━━━━━━━━━━━━━━━━━━━\u001b[0m\u001b[37m\u001b[0m \u001b[1m2s\u001b[0m 13ms/step - accuracy: 0.5407 - loss: 0.9884 - val_accuracy: 0.6987 - val_loss: 0.8807\n",
      "Epoch 2/10\n",
      "\u001b[1m58/58\u001b[0m \u001b[32m━━━━━━━━━━━━━━━━━━━━\u001b[0m\u001b[37m\u001b[0m \u001b[1m0s\u001b[0m 7ms/step - accuracy: 0.7269 - loss: 0.7920 - val_accuracy: 0.7873 - val_loss: 0.7008\n",
      "Epoch 3/10\n",
      "\u001b[1m58/58\u001b[0m \u001b[32m━━━━━━━━━━━━━━━━━━━━\u001b[0m\u001b[37m\u001b[0m \u001b[1m0s\u001b[0m 7ms/step - accuracy: 0.8154 - loss: 0.6228 - val_accuracy: 0.8354 - val_loss: 0.5634\n",
      "Epoch 4/10\n",
      "\u001b[1m58/58\u001b[0m \u001b[32m━━━━━━━━━━━━━━━━━━━━\u001b[0m\u001b[37m\u001b[0m \u001b[1m0s\u001b[0m 7ms/step - accuracy: 0.8507 - loss: 0.5039 - val_accuracy: 0.8481 - val_loss: 0.4716\n",
      "Epoch 5/10\n",
      "\u001b[1m58/58\u001b[0m \u001b[32m━━━━━━━━━━━━━━━━━━━━\u001b[0m\u001b[37m\u001b[0m \u001b[1m0s\u001b[0m 7ms/step - accuracy: 0.8686 - loss: 0.4230 - val_accuracy: 0.8658 - val_loss: 0.4066\n",
      "Epoch 6/10\n",
      "\u001b[1m58/58\u001b[0m \u001b[32m━━━━━━━━━━━━━━━━━━━━\u001b[0m\u001b[37m\u001b[0m \u001b[1m0s\u001b[0m 7ms/step - accuracy: 0.8893 - loss: 0.3679 - val_accuracy: 0.8684 - val_loss: 0.3628\n",
      "Epoch 7/10\n",
      "\u001b[1m58/58\u001b[0m \u001b[32m━━━━━━━━━━━━━━━━━━━━\u001b[0m\u001b[37m\u001b[0m \u001b[1m0s\u001b[0m 7ms/step - accuracy: 0.8969 - loss: 0.3260 - val_accuracy: 0.8911 - val_loss: 0.3291\n",
      "Epoch 8/10\n",
      "\u001b[1m58/58\u001b[0m \u001b[32m━━━━━━━━━━━━━━━━━━━━\u001b[0m\u001b[37m\u001b[0m \u001b[1m0s\u001b[0m 7ms/step - accuracy: 0.9001 - loss: 0.2962 - val_accuracy: 0.8962 - val_loss: 0.3037\n",
      "Epoch 9/10\n",
      "\u001b[1m58/58\u001b[0m \u001b[32m━━━━━━━━━━━━━━━━━━━━\u001b[0m\u001b[37m\u001b[0m \u001b[1m0s\u001b[0m 7ms/step - accuracy: 0.9169 - loss: 0.2725 - val_accuracy: 0.9013 - val_loss: 0.2816\n",
      "Epoch 10/10\n",
      "\u001b[1m58/58\u001b[0m \u001b[32m━━━━━━━━━━━━━━━━━━━━\u001b[0m\u001b[37m\u001b[0m \u001b[1m0s\u001b[0m 7ms/step - accuracy: 0.9197 - loss: 0.2507 - val_accuracy: 0.9063 - val_loss: 0.2682\n",
      "Training model B with embedding 200D\n",
      "Epoch 1/10\n",
      "\u001b[1m58/58\u001b[0m \u001b[32m━━━━━━━━━━━━━━━━━━━━\u001b[0m\u001b[37m\u001b[0m \u001b[1m2s\u001b[0m 12ms/step - accuracy: 0.7009 - loss: 0.7718 - val_accuracy: 0.8456 - val_loss: 0.5107\n",
      "Epoch 2/10\n",
      "\u001b[1m58/58\u001b[0m \u001b[32m━━━━━━━━━━━━━━━━━━━━\u001b[0m\u001b[37m\u001b[0m \u001b[1m0s\u001b[0m 7ms/step - accuracy: 0.8594 - loss: 0.3971 - val_accuracy: 0.8785 - val_loss: 0.3435\n",
      "Epoch 3/10\n",
      "\u001b[1m58/58\u001b[0m \u001b[32m━━━━━━━━━━━━━━━━━━━━\u001b[0m\u001b[37m\u001b[0m \u001b[1m1s\u001b[0m 7ms/step - accuracy: 0.9050 - loss: 0.2646 - val_accuracy: 0.9089 - val_loss: 0.2387\n",
      "Epoch 4/10\n",
      "\u001b[1m58/58\u001b[0m \u001b[32m━━━━━━━━━━━━━━━━━━━━\u001b[0m\u001b[37m\u001b[0m \u001b[1m1s\u001b[0m 7ms/step - accuracy: 0.9218 - loss: 0.2155 - val_accuracy: 0.9316 - val_loss: 0.1988\n",
      "Epoch 5/10\n",
      "\u001b[1m58/58\u001b[0m \u001b[32m━━━━━━━━━━━━━━━━━━━━\u001b[0m\u001b[37m\u001b[0m \u001b[1m1s\u001b[0m 7ms/step - accuracy: 0.9403 - loss: 0.1713 - val_accuracy: 0.9392 - val_loss: 0.1625\n",
      "Epoch 6/10\n",
      "\u001b[1m58/58\u001b[0m \u001b[32m━━━━━━━━━━━━━━━━━━━━\u001b[0m\u001b[37m\u001b[0m \u001b[1m0s\u001b[0m 7ms/step - accuracy: 0.9381 - loss: 0.1697 - val_accuracy: 0.9139 - val_loss: 0.1997\n",
      "Epoch 7/10\n",
      "\u001b[1m58/58\u001b[0m \u001b[32m━━━━━━━━━━━━━━━━━━━━\u001b[0m\u001b[37m\u001b[0m \u001b[1m0s\u001b[0m 7ms/step - accuracy: 0.9528 - loss: 0.1294 - val_accuracy: 0.9468 - val_loss: 0.1458\n",
      "Epoch 8/10\n",
      "\u001b[1m58/58\u001b[0m \u001b[32m━━━━━━━━━━━━━━━━━━━━\u001b[0m\u001b[37m\u001b[0m \u001b[1m0s\u001b[0m 7ms/step - accuracy: 0.9582 - loss: 0.1163 - val_accuracy: 0.9342 - val_loss: 0.1426\n",
      "Epoch 9/10\n",
      "\u001b[1m58/58\u001b[0m \u001b[32m━━━━━━━━━━━━━━━━━━━━\u001b[0m\u001b[37m\u001b[0m \u001b[1m0s\u001b[0m 7ms/step - accuracy: 0.9593 - loss: 0.1132 - val_accuracy: 0.9443 - val_loss: 0.1265\n",
      "Epoch 10/10\n",
      "\u001b[1m58/58\u001b[0m \u001b[32m━━━━━━━━━━━━━━━━━━━━\u001b[0m\u001b[37m\u001b[0m \u001b[1m0s\u001b[0m 7ms/step - accuracy: 0.9582 - loss: 0.1058 - val_accuracy: 0.9595 - val_loss: 0.1120\n",
      "Training model C with embedding 200D\n",
      "Epoch 1/10\n",
      "\u001b[1m58/58\u001b[0m \u001b[32m━━━━━━━━━━━━━━━━━━━━\u001b[0m\u001b[37m\u001b[0m \u001b[1m5s\u001b[0m 55ms/step - accuracy: 0.6661 - loss: 0.9661 - val_accuracy: 0.8051 - val_loss: 0.4573\n",
      "Epoch 2/10\n",
      "\u001b[1m58/58\u001b[0m \u001b[32m━━━━━━━━━━━━━━━━━━━━\u001b[0m\u001b[37m\u001b[0m \u001b[1m3s\u001b[0m 49ms/step - accuracy: 0.9913 - loss: 0.0466 - val_accuracy: 0.8127 - val_loss: 0.4356\n",
      "Epoch 3/10\n",
      "\u001b[1m58/58\u001b[0m \u001b[32m━━━━━━━━━━━━━━━━━━━━\u001b[0m\u001b[37m\u001b[0m \u001b[1m3s\u001b[0m 50ms/step - accuracy: 1.0000 - loss: 0.0034 - val_accuracy: 0.8405 - val_loss: 0.4450\n",
      "Epoch 4/10\n",
      "\u001b[1m58/58\u001b[0m \u001b[32m━━━━━━━━━━━━━━━━━━━━\u001b[0m\u001b[37m\u001b[0m \u001b[1m3s\u001b[0m 49ms/step - accuracy: 1.0000 - loss: 0.0011 - val_accuracy: 0.8380 - val_loss: 0.4557\n",
      "Epoch 5/10\n",
      "\u001b[1m58/58\u001b[0m \u001b[32m━━━━━━━━━━━━━━━━━━━━\u001b[0m\u001b[37m\u001b[0m \u001b[1m3s\u001b[0m 54ms/step - accuracy: 1.0000 - loss: 6.1716e-04 - val_accuracy: 0.8380 - val_loss: 0.4752\n",
      "Epoch 6/10\n",
      "\u001b[1m58/58\u001b[0m \u001b[32m━━━━━━━━━━━━━━━━━━━━\u001b[0m\u001b[37m\u001b[0m \u001b[1m3s\u001b[0m 51ms/step - accuracy: 1.0000 - loss: 2.8118e-04 - val_accuracy: 0.8430 - val_loss: 0.4889\n",
      "Epoch 7/10\n",
      "\u001b[1m58/58\u001b[0m \u001b[32m━━━━━━━━━━━━━━━━━━━━\u001b[0m\u001b[37m\u001b[0m \u001b[1m3s\u001b[0m 49ms/step - accuracy: 1.0000 - loss: 1.5690e-04 - val_accuracy: 0.8380 - val_loss: 0.5163\n",
      "Epoch 8/10\n",
      "\u001b[1m58/58\u001b[0m \u001b[32m━━━━━━━━━━━━━━━━━━━━\u001b[0m\u001b[37m\u001b[0m \u001b[1m3s\u001b[0m 50ms/step - accuracy: 1.0000 - loss: 9.9626e-05 - val_accuracy: 0.8354 - val_loss: 0.5315\n",
      "Epoch 9/10\n",
      "\u001b[1m58/58\u001b[0m \u001b[32m━━━━━━━━━━━━━━━━━━━━\u001b[0m\u001b[37m\u001b[0m \u001b[1m3s\u001b[0m 50ms/step - accuracy: 1.0000 - loss: 6.8406e-05 - val_accuracy: 0.8380 - val_loss: 0.5448\n",
      "Epoch 10/10\n",
      "\u001b[1m58/58\u001b[0m \u001b[32m━━━━━━━━━━━━━━━━━━━━\u001b[0m\u001b[37m\u001b[0m \u001b[1m3s\u001b[0m 49ms/step - accuracy: 1.0000 - loss: 4.8462e-05 - val_accuracy: 0.8380 - val_loss: 0.5537\n"
     ]
    }
   ],
   "source": [
    "results = {}\n",
    "\n",
    "for embedding_dimension, embedding_matrix in embedding_matrices_glove.items():\n",
    "    for arch_name, build_fn in architectures.items():\n",
    "        print(f\"Training model {arch_name} with embedding {embedding_dimension}D\")\n",
    "\n",
    "        embedding_layer = make_embedding_layer(embedding_matrix)\n",
    "        model = build_fn(embedding_layer)\n",
    "\n",
    "        model.compile(\n",
    "            optimizer = Adam(),\n",
    "            loss = 'sparse_categorical_crossentropy',\n",
    "            metrics = ['accuracy']\n",
    "        )\n",
    "\n",
    "        history = model.fit(\n",
    "            X_train_sequences, y_train,\n",
    "            validation_data = (X_validation_sequences, y_validation),\n",
    "            epochs = 10,\n",
    "            batch_size = 32,\n",
    "            verbose = 1\n",
    "        )\n",
    "\n",
    "        y_pred_probs = model.predict(X_test_sequences, verbose = 0)\n",
    "        y_pred = np.argmax(y_pred_probs, axis = 1)\n",
    "\n",
    "        accuracy = accuracy_score(y_test, y_pred)\n",
    "        precision = precision_score(y_test, y_pred, average = 'macro', zero_division = 0)\n",
    "        recall = recall_score(y_test, y_pred, average = 'macro', zero_division = 0)\n",
    "\n",
    "        key = f\"{arch_name}_{embedding_dimension}D\"\n",
    "        results[key] = {\n",
    "            \"accuracy\": accuracy,\n",
    "            \"precision\": precision,\n",
    "            \"recall\": recall\n",
    "        }"
   ]
  },
  {
   "cell_type": "code",
   "execution_count": 50,
   "id": "969b68b5",
   "metadata": {},
   "outputs": [
    {
     "name": "stdout",
     "output_type": "stream",
     "text": [
      "       accuracy precision recall\n",
      "A_50D     0.830     0.827  0.820\n",
      "B_50D     0.871     0.874  0.858\n",
      "C_50D     0.800     0.807  0.772\n",
      "A_100D    0.858     0.856  0.854\n",
      "B_100D    0.891     0.924  0.860\n",
      "C_100D    0.828     0.837  0.801\n",
      "A_200D    0.896     0.897  0.889\n",
      "B_200D    0.934     0.932  0.928\n",
      "C_200D    0.853     0.861  0.829\n"
     ]
    }
   ],
   "source": [
    "df = pd.DataFrame(results).T \n",
    "\n",
    "df_formatted = df.map(lambda x: f\"{x:.3f}\")\n",
    "\n",
    "print(df_formatted)"
   ]
  }
 ],
 "metadata": {
  "kernelspec": {
   "display_name": "env (3.10.8)",
   "language": "python",
   "name": "python3"
  },
  "language_info": {
   "codemirror_mode": {
    "name": "ipython",
    "version": 3
   },
   "file_extension": ".py",
   "mimetype": "text/x-python",
   "name": "python",
   "nbconvert_exporter": "python",
   "pygments_lexer": "ipython3",
   "version": "3.10.8"
  }
 },
 "nbformat": 4,
 "nbformat_minor": 5
}
