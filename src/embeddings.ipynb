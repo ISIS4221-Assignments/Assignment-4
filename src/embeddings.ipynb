{
 "cells": [
  {
   "cell_type": "markdown",
   "id": "739aa386",
   "metadata": {},
   "source": [
    "# 1. Downloading the Dataset"
   ]
  },
  {
   "cell_type": "code",
   "execution_count": 4,
   "id": "d2d73aa7",
   "metadata": {},
   "outputs": [],
   "source": [
    "import requests\n",
    "import os"
   ]
  },
  {
   "cell_type": "code",
   "execution_count": 5,
   "id": "fc01742c",
   "metadata": {},
   "outputs": [],
   "source": [
    "books_urls = {\n",
    "    \"austen_pride\": \"https://www.gutenberg.org/cache/epub/1342/pg1342.txt\",\n",
    "    \"austen_emma\": \"https://www.gutenberg.org/cache/epub/158/pg158.txt\",\n",
    "    \"austen_sense\": \"https://www.gutenberg.org/cache/epub/161/pg161.txt\",\n",
    "\n",
    "    \"dickens_two_cities\": \"https://www.gutenberg.org/cache/epub/98/pg98.txt\",\n",
    "    \"dickens_expectations\": \"https://www.gutenberg.org/cache/epub/1400/pg1400.txt\",\n",
    "    \"dickens_twist\": \"https://www.gutenberg.org/cache/epub/730/pg730.txt\",\n",
    "\n",
    "    \"twain_tom\": \"https://www.gutenberg.org/cache/epub/74/pg74.txt\",\n",
    "    \"twain_huck\": \"https://www.gutenberg.org/cache/epub/76/pg76.txt\",\n",
    "    \"twain_prince\": \"https://www.gutenberg.org/cache/epub/1837/pg1837.txt\",\n",
    "}"
   ]
  },
  {
   "cell_type": "code",
   "execution_count": 6,
   "id": "810f1aee",
   "metadata": {},
   "outputs": [
    {
     "name": "stdout",
     "output_type": "stream",
     "text": [
      "Book downloaded: ../data/austen_pride.txt\n",
      "Book downloaded: ../data/austen_emma.txt\n",
      "Book downloaded: ../data/austen_sense.txt\n",
      "Book downloaded: ../data/dickens_two_cities.txt\n",
      "Book downloaded: ../data/dickens_expectations.txt\n",
      "Book downloaded: ../data/dickens_twist.txt\n",
      "Book downloaded: ../data/twain_tom.txt\n",
      "Book downloaded: ../data/twain_huck.txt\n",
      "Book downloaded: ../data/twain_prince.txt\n"
     ]
    }
   ],
   "source": [
    "for name, url in books_urls.items():\n",
    "\tresponse = requests.get(url)\n",
    "\tpath = f\"../data/{name}.txt\"\n",
    "\n",
    "\twith open(path, \"w\", encoding = \"utf-8\") as f:\n",
    "\t\tf.write(response.text)\n",
    "\tprint(f\"Book downloaded: {path}\")"
   ]
  },
  {
   "cell_type": "markdown",
   "id": "b5c1bbd3",
   "metadata": {},
   "source": [
    "# 2. Data Preprocessing and Loading"
   ]
  },
  {
   "cell_type": "code",
   "execution_count": 7,
   "id": "c92543fc",
   "metadata": {},
   "outputs": [],
   "source": [
    "from nltk.tokenize import sent_tokenize, word_tokenize\n",
    "from nltk.corpus import stopwords\n",
    "import nltk\n",
    "import re"
   ]
  },
  {
   "cell_type": "code",
   "execution_count": 8,
   "id": "d20d850b",
   "metadata": {},
   "outputs": [
    {
     "name": "stderr",
     "output_type": "stream",
     "text": [
      "[nltk_data] Downloading package punkt to /home/nico/nltk_data...\n",
      "[nltk_data]   Package punkt is already up-to-date!\n",
      "[nltk_data] Downloading package punkt_tab to /home/nico/nltk_data...\n",
      "[nltk_data]   Package punkt_tab is already up-to-date!\n"
     ]
    }
   ],
   "source": [
    "nltk.download(\"punkt\")\n",
    "nltk.download(\"punkt_tab\")\n",
    "\n",
    "stop_words = set(stopwords.words(\"english\"))\n",
    "\n",
    "token_pattern = re.compile(r\"^[a-z]+(?:'[a-z]+)?$\")"
   ]
  },
  {
   "cell_type": "code",
   "execution_count": 9,
   "id": "c7d310a5",
   "metadata": {},
   "outputs": [],
   "source": [
    "def strip_gutenberg_headers(text):\n",
    "\tstart_match = re.search(r\"\\*\\*\\*\\s*START OF (THE|THIS) PROJECT GUTENBERG EBOOK.*\\*\\*\\*\", text, re.IGNORECASE)\n",
    "\tstart_index = start_match.end() if start_match else 0\n",
    "\n",
    "\tend_match = re.search(r\"\\*\\*\\*\\s*END OF (THE|THIS) PROJECT GUTENBERG EBOOK.*\\*\\*\\*\", text, re.IGNORECASE)\n",
    "\tend_index = end_match.start() if end_match else len(text)\n",
    "\n",
    "\tclean_text = text[start_index:end_index].strip()\n",
    "\treturn clean_text.strip()"
   ]
  },
  {
   "cell_type": "code",
   "execution_count": 10,
   "id": "e3e921d7",
   "metadata": {},
   "outputs": [],
   "source": [
    "def text_to_sent_token_lists(text):\n",
    "\tsentences = sent_tokenize(text)\n",
    "\ttokenized = []\n",
    "\n",
    "\tfor sentence in sentences:\n",
    "\t\tsentence = sentence.lower()\n",
    "\t\tsentence = sentence.replace(\"-\", \" \")\n",
    "\n",
    "\t\twords = word_tokenize(sentence)\n",
    "\n",
    "\t\tcleaned = [word for word in words if token_pattern.match(word)]\n",
    "\t\tcleaned = [word for word in cleaned if word and not word.isdigit()]\n",
    "\t\tcleaned = [word for word in cleaned if not word in stop_words]\n",
    "\n",
    "\t\tif len(cleaned) >= 2:\n",
    "\t\t\ttokenized.append(cleaned)\n",
    "    \n",
    "\treturn tokenized"
   ]
  },
  {
   "cell_type": "code",
   "execution_count": 11,
   "id": "5a948162",
   "metadata": {},
   "outputs": [],
   "source": [
    "def build_corpus_from_books(book_dir):\n",
    "    all_sentences = []\n",
    "    files = sorted([file for file in os.listdir(book_dir)])\n",
    "    \n",
    "    for file_name in files:\n",
    "        path = os.path.join(book_dir, file_name)\n",
    "        print(f\"Processing {path} ...\")\n",
    "        \n",
    "        with open(path, \"r\", encoding = \"utf-8\") as f:\n",
    "            raw = f.read()\n",
    "            \n",
    "        stripped = strip_gutenberg_headers(raw)\n",
    "        sentences = text_to_sent_token_lists(stripped)\n",
    "        all_sentences.extend(sentences)\n",
    "        \n",
    "    print(f\"\\nTotal sentences in corpus: {len(all_sentences)}\")\n",
    "    return all_sentences"
   ]
  },
  {
   "cell_type": "code",
   "execution_count": 12,
   "id": "b9003e10",
   "metadata": {},
   "outputs": [
    {
     "name": "stdout",
     "output_type": "stream",
     "text": [
      "Processing ../data/austen_emma.txt ...\n",
      "Processing ../data/austen_pride.txt ...\n",
      "Processing ../data/austen_sense.txt ...\n",
      "Processing ../data/dickens_expectations.txt ...\n",
      "Processing ../data/dickens_twist.txt ...\n",
      "Processing ../data/dickens_two_cities.txt ...\n",
      "Processing ../data/twain_huck.txt ...\n",
      "Processing ../data/twain_prince.txt ...\n",
      "Processing ../data/twain_tom.txt ...\n",
      "\n",
      "Total sentences in corpus: 42516\n"
     ]
    }
   ],
   "source": [
    "all_sentences = build_corpus_from_books(\"../data\")"
   ]
  },
  {
   "cell_type": "markdown",
   "id": "58efd201",
   "metadata": {},
   "source": [
    "# 3. Training Embedding Models"
   ]
  },
  {
   "cell_type": "code",
   "execution_count": 13,
   "id": "16012f4b",
   "metadata": {},
   "outputs": [],
   "source": [
    "from gensim.models import Word2Vec\n",
    "import os"
   ]
  },
  {
   "cell_type": "code",
   "execution_count": 14,
   "id": "f4100b69",
   "metadata": {},
   "outputs": [],
   "source": [
    "dimensions = [50, 100, 200]\n",
    "group_code = \"G01\""
   ]
  },
  {
   "cell_type": "code",
   "execution_count": 15,
   "id": "a5de70aa",
   "metadata": {},
   "outputs": [],
   "source": [
    "def train_and_save_models(sentences, dimensions, group_code, output_dir):\n",
    "    \n",
    "    for dimension in dimensions:\n",
    "        print(f\"\\nTraining model with dimension {dimension} ...\")\n",
    "        \n",
    "        model = Word2Vec(\n",
    "            sentences = sentences,\n",
    "            vector_size = dimension,\n",
    "            window = 5,\n",
    "            negative = 20, \n",
    "            min_count = 2,\n",
    "            workers = 8,\n",
    "            sg = 1,\n",
    "            epochs = 40\n",
    "        )\n",
    "        \n",
    "        model_path = os.path.join(output_dir, f\"Books_{dimension}_{group_code}.model\")\n",
    "        vec_path = os.path.join(output_dir, f\"Books_{dimension}_{group_code}.vec\")\n",
    "        \n",
    "        model.save(model_path)\n",
    "        model.wv.save_word2vec_format(vec_path, binary = False)\n",
    "        \n",
    "        print(f\"Model saved in:\\n  - {model_path}\\n  - {vec_path}\")"
   ]
  },
  {
   "cell_type": "code",
   "execution_count": 16,
   "id": "17423dab",
   "metadata": {},
   "outputs": [
    {
     "name": "stdout",
     "output_type": "stream",
     "text": [
      "\n",
      "Training model with dimension 50 ...\n",
      "Model saved in:\n",
      "  - ../models/Books_50_G01.model\n",
      "  - ../models/Books_50_G01.vec\n",
      "\n",
      "Training model with dimension 100 ...\n",
      "Model saved in:\n",
      "  - ../models/Books_100_G01.model\n",
      "  - ../models/Books_100_G01.vec\n",
      "\n",
      "Training model with dimension 200 ...\n",
      "Model saved in:\n",
      "  - ../models/Books_200_G01.model\n",
      "  - ../models/Books_200_G01.vec\n"
     ]
    }
   ],
   "source": [
    "train_and_save_models(all_sentences, dimensions, group_code, \"../models\")"
   ]
  },
  {
   "cell_type": "markdown",
   "id": "9cf84eaf",
   "metadata": {},
   "source": [
    "# 4. Loading the Trained Models"
   ]
  },
  {
   "cell_type": "code",
   "execution_count": 17,
   "id": "a0a975fe",
   "metadata": {},
   "outputs": [],
   "source": [
    "from gensim.models import Word2Vec"
   ]
  },
  {
   "cell_type": "code",
   "execution_count": 18,
   "id": "a11c3913",
   "metadata": {},
   "outputs": [
    {
     "name": "stdout",
     "output_type": "stream",
     "text": [
      "Loading model 50D from ../models/Books_50_G01.model ...\n",
      "Word2Vec<vocab=16108, vector_size=50, alpha=0.025>\n",
      "Loading model 100D from ../models/Books_100_G01.model ...\n",
      "Word2Vec<vocab=16108, vector_size=100, alpha=0.025>\n",
      "Loading model 200D from ../models/Books_200_G01.model ...\n",
      "Word2Vec<vocab=16108, vector_size=200, alpha=0.025>\n"
     ]
    }
   ],
   "source": [
    "model_dir = \"../models\"\n",
    "\n",
    "model_paths = {\n",
    "    50: f\"{model_dir}/Books_50_G01.model\",\n",
    "    100: f\"{model_dir}/Books_100_G01.model\",\n",
    "    200: f\"{model_dir}/Books_200_G01.model\"\n",
    "}\n",
    "\n",
    "models = {}\n",
    "for dimension, path in model_paths.items():\n",
    "    print(f\"Loading model {dimension}D from {path} ...\")\n",
    "    models[dimension] = Word2Vec.load(path)\n",
    "    print(models[dimension])\n"
   ]
  },
  {
   "cell_type": "markdown",
   "id": "bd77a1df",
   "metadata": {},
   "source": [
    "# 5. 2D Visualization of Embeddings"
   ]
  },
  {
   "cell_type": "code",
   "execution_count": 19,
   "id": "4da8c8de",
   "metadata": {},
   "outputs": [],
   "source": [
    "from sklearn.manifold import TSNE\n",
    "import matplotlib.pyplot as plt\n",
    "import numpy as np"
   ]
  },
  {
   "cell_type": "code",
   "execution_count": 20,
   "id": "cb9d4eeb",
   "metadata": {},
   "outputs": [],
   "source": [
    "def plot_similar_words(model, target_word, topn = 5):\n",
    "    \n",
    "    similar_words = [w for w, _ in model.wv.most_similar(target_word, topn = topn)]\n",
    "    all_words = [target_word] + similar_words\n",
    "\n",
    "    vectors = np.array([model.wv[w] for w in all_words])\n",
    "\n",
    "    tsne = TSNE(n_components = 2, random_state = 42, perplexity = 5)\n",
    "    reduced = tsne.fit_transform(vectors)\n",
    "\n",
    "    plt.figure(figsize=(10, 8))\n",
    "    plt.scatter(reduced[:, 0], reduced[:, 1])\n",
    "\n",
    "    for i, word in enumerate(all_words):\n",
    "        if i == 0:\n",
    "            plt.annotate(word, xy = (reduced[i, 0], reduced[i, 1]), fontsize = 14, color = 'red', fontweight = 'bold')\n",
    "        else:\n",
    "            plt.annotate(word, xy = (reduced[i, 0], reduced[i, 1]), fontsize = 12)\n",
    "\n",
    "    plt.title(f\"Words most similar to '{target_word}'\")\n",
    "    plt.show()"
   ]
  },
  {
   "cell_type": "code",
   "execution_count": 21,
   "id": "3ea7b58e",
   "metadata": {},
   "outputs": [],
   "source": [
    "main_characters = {\n",
    "    \"austen_pride\": [\"elizabeth\", \"darcy\"],       \n",
    "    \"austen_emma\": [\"emma\", \"knightley\"],         \n",
    "    \"austen_sense\": [\"elinor\", \"marianne\"],       \n",
    "\n",
    "    \"dickens_two_cities\": [\"darnay\", \"carton\"],   \n",
    "    \"dickens_expectations\": [\"pip\", \"havisham\"],  \n",
    "    \"dickens_twist\": [\"oliver\", \"fagin\"],         \n",
    "\n",
    "    \"twain_tom\": [\"tom\", \"becky\"],               \n",
    "    \"twain_huck\": [\"huck\", \"jim\"],               \n",
    "    \"twain_prince\": [\"prince\", \"pauper\"],        \n",
    "}\n"
   ]
  },
  {
   "cell_type": "code",
   "execution_count": 22,
   "id": "8d930095",
   "metadata": {},
   "outputs": [],
   "source": [
    "def plot_and_save_similar_words(model, target_word, book_id, dimension, topn, output_dir):\n",
    "\n",
    "    similar_words = model.wv.most_similar(target_word, topn = topn)\n",
    "    words = [target_word] + [w for w, _ in similar_words]\n",
    "    vectors = np.array([model.wv[w] for w in words])\n",
    "\n",
    "    tsne = TSNE(n_components = 2, random_state = 42, perplexity = min(5, len(words)-1))\n",
    "    reduced = tsne.fit_transform(vectors)\n",
    "\n",
    "    plt.figure(figsize=(8, 6))\n",
    "    plt.scatter(reduced[0, 0], reduced[0, 1], color = 'red')  \n",
    "    plt.text(reduced[0, 0] + 1, reduced[0, 1] + 1, target_word, fontsize = 12, color = 'red', weight = 'bold')\n",
    "\n",
    "    for i, word in enumerate(words[1:], start = 1):\n",
    "        x, y = reduced[i, 0], reduced[i, 1]\n",
    "        plt.scatter(x, y)\n",
    "        plt.text(x + 1, y + 1, word, fontsize=10)\n",
    "\n",
    "    plt.title(f\"Most similar to '{target_word}' ({book_id}, dim = {dimension})\")\n",
    "    plt.tight_layout()\n",
    "\n",
    "    filename = f\"{target_word}_{dimension}d.png\"\n",
    "    filepath = os.path.join(output_dir, filename)\n",
    "    plt.savefig(filepath)\n",
    "    plt.close()  \n",
    "    print(f\"Saved: {filepath}\")"
   ]
  },
  {
   "cell_type": "code",
   "execution_count": 23,
   "id": "7bce8f79",
   "metadata": {},
   "outputs": [
    {
     "name": "stdout",
     "output_type": "stream",
     "text": [
      "Saved: ../figures/elizabeth_50d.png\n",
      "Saved: ../figures/darcy_50d.png\n",
      "Saved: ../figures/emma_50d.png\n",
      "Saved: ../figures/knightley_50d.png\n",
      "Saved: ../figures/elinor_50d.png\n",
      "Saved: ../figures/marianne_50d.png\n",
      "Saved: ../figures/darnay_50d.png\n",
      "Saved: ../figures/carton_50d.png\n",
      "Saved: ../figures/pip_50d.png\n",
      "Saved: ../figures/havisham_50d.png\n",
      "Saved: ../figures/oliver_50d.png\n",
      "Saved: ../figures/fagin_50d.png\n",
      "Saved: ../figures/tom_50d.png\n",
      "Saved: ../figures/becky_50d.png\n",
      "Saved: ../figures/huck_50d.png\n",
      "Saved: ../figures/jim_50d.png\n",
      "Saved: ../figures/prince_50d.png\n",
      "Saved: ../figures/pauper_50d.png\n"
     ]
    }
   ],
   "source": [
    "for book_id, characters in main_characters.items():\n",
    "\tfor name in characters:\n",
    "\t\tplot_and_save_similar_words(models[50], name, book_id, 50, 4, \"../figures\")"
   ]
  },
  {
   "cell_type": "markdown",
   "id": "f556b908",
   "metadata": {},
   "source": [
    "# 6. Dataset Preparation for Classification"
   ]
  },
  {
   "cell_type": "code",
   "execution_count": 24,
   "id": "eed56787",
   "metadata": {},
   "outputs": [],
   "source": [
    "from sklearn.model_selection import train_test_split\n",
    "from collections import Counter\n",
    "import random\n",
    "import os"
   ]
  },
  {
   "cell_type": "code",
   "execution_count": 25,
   "id": "44e1002b",
   "metadata": {},
   "outputs": [],
   "source": [
    "books_to_author = {\n",
    "    \"austen_pride.txt\": \"austen\",\n",
    "    \"austen_emma.txt\": \"austen\",\n",
    "    \"austen_sense.txt\": \"austen\",\n",
    "    \"dickens_two_cities.txt\": \"dickens\",\n",
    "    \"dickens_expectations.txt\": \"dickens\",\n",
    "    \"dickens_twist.txt\": \"dickens\",\n",
    "    \"twain_tom.txt\": \"twain\",\n",
    "    \"twain_huck.txt\": \"twain\",\n",
    "    \"twain_prince.txt\": \"twain\",\n",
    "}\n",
    "\n",
    "labels_to_ids = {\n",
    "    \"austen\": 0,\n",
    "    \"dickens\": 1,\n",
    "    \"twain\": 2\n",
    "}"
   ]
  },
  {
   "cell_type": "code",
   "execution_count": 26,
   "id": "89f269ae",
   "metadata": {},
   "outputs": [],
   "source": [
    "def read_text(path):\n",
    "    with open(path, \"r\", encoding = \"utf-8\") as f:\n",
    "        return f.read()"
   ]
  },
  {
   "cell_type": "code",
   "execution_count": 27,
   "id": "91c506cf",
   "metadata": {},
   "outputs": [],
   "source": [
    "def preprocess_and_chunks(text, chunk_size, min_chunk_size):\n",
    "    \n",
    "    sentences = sent_tokenize(text)\n",
    "    all_tokens = []\n",
    "\n",
    "    for sentence in sentences:\n",
    "        sentence = sentence.lower()\n",
    "        sentence = sentence.replace(\"-\", \" \")\n",
    "\n",
    "        words = word_tokenize(sentence)\n",
    "\n",
    "        cleaned = [word for word in words if token_pattern.match(word)]\n",
    "        cleaned = [word for word in cleaned if not word.isdigit()]\n",
    "        cleaned = [word for word in cleaned if word not in stop_words]\n",
    "\n",
    "        if len(cleaned) >= 1:\n",
    "            all_tokens.extend(cleaned)\n",
    "\n",
    "    chunks = []\n",
    "    for i in range(0, len(all_tokens), chunk_size):\n",
    "        chunk_tokens = all_tokens[i:i+chunk_size]\n",
    "        if len(chunk_tokens) >= min_chunk_size:\n",
    "            chunk_text = \" \".join(chunk_tokens)\n",
    "            chunks.append(chunk_text)\n",
    "\n",
    "    return chunks"
   ]
  },
  {
   "cell_type": "code",
   "execution_count": 28,
   "id": "f9cba0be",
   "metadata": {},
   "outputs": [],
   "source": [
    "def build_clasification_dataset(books_dir, test_size, validation_size, random_seed):\n",
    "\trandom.seed(random_seed)\n",
    "\ttexts, labels = [], []\n",
    "\n",
    "\tfor file_name in sorted(os.listdir(books_dir)):\n",
    "\t\tauthor = books_to_author.get(file_name)\n",
    "\t\t\n",
    "\t\traw_text = read_text(os.path.join(books_dir, file_name))\n",
    "\t\tchunks = preprocess_and_chunks(raw_text, 200, 200)\n",
    "\t\tprint(f\"{len(chunks)} chunks generated for {file_name}\")\n",
    "\n",
    "\t\ttexts.extend(chunks)\n",
    "\t\tlabels.extend([author] * len(chunks))\n",
    "\n",
    "\ty = np.array([labels_to_ids[label] for label in labels])\n",
    "\n",
    "\tX_train, X_temp, y_train, y_temp = train_test_split(texts, y, test_size = test_size, random_state = random_seed, stratify = y)\n",
    "\tX_validation, X_test, y_validation, y_test = train_test_split(X_temp, y_temp, test_size = validation_size, random_state = random_seed, stratify = y_temp)\n",
    "\n",
    "\tdef class_counts(y_arr):\n",
    "\t\tc = Counter(y_arr)\n",
    "\t\treturn {label: c[idx] for label, idx in labels_to_ids.items()}\n",
    "\n",
    "\tsummary = {\n",
    "\t\t\"train\": class_counts(y_train),\n",
    "\t\t\"validation\": class_counts(y_validation),\n",
    "\t\t\"test\": class_counts(y_test),\n",
    "\t}\n",
    "\n",
    "\tprint(\"\\nSummary samples by split and class:\\n\")\n",
    "\tfor split, counts in summary.items():\n",
    "\t\tprint(f\"  {split}: {counts}\")\n",
    "\n",
    "\treturn (X_train, y_train), (X_validation, y_validation), (X_test, y_test)\n"
   ]
  },
  {
   "cell_type": "code",
   "execution_count": 29,
   "id": "414a28a3",
   "metadata": {},
   "outputs": [
    {
     "name": "stdout",
     "output_type": "stream",
     "text": [
      "348 chunks generated for austen_emma.txt\n",
      "287 chunks generated for austen_pride.txt\n",
      "268 chunks generated for austen_sense.txt\n",
      "411 chunks generated for dickens_expectations.txt\n",
      "384 chunks generated for dickens_twist.txt\n",
      "322 chunks generated for dickens_two_cities.txt\n",
      "252 chunks generated for twain_huck.txt\n",
      "185 chunks generated for twain_prince.txt\n",
      "175 chunks generated for twain_tom.txt\n",
      "\n",
      "Summary samples by split and class:\n",
      "\n",
      "  train: {'austen': 632, 'dickens': 782, 'twain': 428}\n",
      "  validation: {'austen': 135, 'dickens': 168, 'twain': 92}\n",
      "  test: {'austen': 136, 'dickens': 167, 'twain': 92}\n"
     ]
    }
   ],
   "source": [
    "(X_train, y_train), (X_validation, y_validation), (X_test, y_test) = build_clasification_dataset(\"../data\", 0.3, 0.5, 42)"
   ]
  },
  {
   "cell_type": "code",
   "execution_count": 30,
   "id": "58d6cfce",
   "metadata": {},
   "outputs": [
    {
     "name": "stdout",
     "output_type": "stream",
     "text": [
      "\n",
      "--- Train examples ---\n",
      "Label: austen\n",
      "Text: rather dark darker narrower one could wish miss sm ...\n",
      "\n",
      "Label: dickens\n",
      "Text: stood drinking little counter conversation defarge ...\n",
      "\n",
      "\n",
      "--- Validation examples ---\n",
      "Label: twain\n",
      "Text: office child play wherefore last ladies visit draw ...\n",
      "\n",
      "Label: dickens\n",
      "Text: condition declared peril sake altering way living  ...\n",
      "\n",
      "\n",
      "--- Test examples ---\n",
      "Label: austen\n",
      "Text: well satisfied consider present campbells may knig ...\n",
      "\n",
      "Label: dickens\n",
      "Text: though would shake hands let go room said boy retr ...\n",
      "\n"
     ]
    }
   ],
   "source": [
    "for split_name, X_split, y_split in [(\"Train\", X_train, y_train), (\"Validation\", X_validation, y_validation), (\"Test\", X_test, y_test),]:\n",
    "    print(f\"\\n--- {split_name} examples ---\")\n",
    "    for i in range(2): \n",
    "        print(f\"Label: {list(labels_to_ids.keys())[list(labels_to_ids.values()).index(y_split[i])]}\")\n",
    "        print(\"Text:\", \"\".join(X_split[i][:50]), \"...\\n\")\n"
   ]
  },
  {
   "cell_type": "markdown",
   "id": "fb892f40",
   "metadata": {},
   "source": [
    "# 7. Building Embeddings Matrix"
   ]
  },
  {
   "cell_type": "code",
   "execution_count": 101,
   "id": "4e568120",
   "metadata": {},
   "outputs": [],
   "source": [
    "from tensorflow.keras.preprocessing.text import Tokenizer\n",
    "import numpy as np"
   ]
  },
  {
   "cell_type": "code",
   "execution_count": 102,
   "id": "216809ad",
   "metadata": {},
   "outputs": [
    {
     "name": "stdout",
     "output_type": "stream",
     "text": [
      "Training vocabulary size: 21023\n"
     ]
    }
   ],
   "source": [
    "sequence_length = 200\n",
    "\n",
    "tokenizer = Tokenizer(oov_token = \"<OOV>\")\n",
    "tokenizer.fit_on_texts(X_train)\n",
    "\n",
    "vocabulary_size = len(tokenizer.word_index) + 1\n",
    "print(\"Training vocabulary size:\", vocabulary_size)"
   ]
  },
  {
   "cell_type": "code",
   "execution_count": 103,
   "id": "f8f9443c",
   "metadata": {},
   "outputs": [],
   "source": [
    "def build_embedding_matrix(embeddings_model, tokenizer, embedding_dimension):\n",
    "    matrix = np.zeros((vocabulary_size, embedding_dimension))\n",
    "    for word, i in tokenizer.word_index.items():\n",
    "        if word in embeddings_model.wv:\n",
    "            matrix[i] = embeddings_model.wv[word]\n",
    "    return matrix"
   ]
  },
  {
   "cell_type": "code",
   "execution_count": 104,
   "id": "4f4dd83c",
   "metadata": {},
   "outputs": [],
   "source": [
    "embedding_matrices = {}\n",
    "for dimension, embedding_model in models.items():\n",
    "    embedding_matrices[dimension] = build_embedding_matrix(embedding_model, tokenizer, dimension)"
   ]
  },
  {
   "cell_type": "code",
   "execution_count": 107,
   "id": "b6307338",
   "metadata": {},
   "outputs": [],
   "source": [
    "X_train_sequences = np.array(tokenizer.texts_to_sequences(X_train))\n",
    "X_validation_sequences = np.array(tokenizer.texts_to_sequences(X_validation))\n",
    "X_test_sequences  = np.array(tokenizer.texts_to_sequences(X_test))"
   ]
  },
  {
   "cell_type": "markdown",
   "id": "62dd79f6",
   "metadata": {},
   "source": [
    "# 8. Training Feed-Forward Model for Classification (Trained Embeddings)"
   ]
  },
  {
   "cell_type": "code",
   "execution_count": 119,
   "id": "55bc2a28",
   "metadata": {},
   "outputs": [],
   "source": [
    "from tensorflow.keras.layers import Embedding, GlobalAveragePooling1D, Flatten, Dense\n",
    "from sklearn.metrics import precision_score, recall_score, accuracy_score\n",
    "from tensorflow.keras.models import Sequential\n",
    "from tensorflow.keras.optimizers import Adam\n",
    "import pandas as pd\n",
    "import numpy as np"
   ]
  },
  {
   "cell_type": "code",
   "execution_count": 120,
   "id": "643b269b",
   "metadata": {},
   "outputs": [],
   "source": [
    "num_authors = 3"
   ]
  },
  {
   "cell_type": "code",
   "execution_count": 121,
   "id": "248b770f",
   "metadata": {},
   "outputs": [],
   "source": [
    "def make_embedding_layer(embedding_matrix):\n",
    "\tembedding_dimension = embedding_matrix.shape[1]\n",
    "\n",
    "\treturn Embedding(\n",
    "\t\tinput_dim = vocabulary_size,\n",
    "\t\toutput_dim = embedding_dimension,\n",
    "\t\tweights = [embedding_matrix],\n",
    "\t\ttrainable = False\n",
    "\t)"
   ]
  },
  {
   "cell_type": "code",
   "execution_count": 122,
   "id": "040ce2f4",
   "metadata": {},
   "outputs": [],
   "source": [
    "def build_model_a(embedding_layer):\n",
    "    model = Sequential([\n",
    "        embedding_layer,\n",
    "        GlobalAveragePooling1D(),\n",
    "        Dense(32, activation = 'relu'),\n",
    "        Dense(num_authors, activation = 'softmax')\n",
    "    ])\n",
    "    return model"
   ]
  },
  {
   "cell_type": "code",
   "execution_count": 123,
   "id": "a0c4128b",
   "metadata": {},
   "outputs": [],
   "source": [
    "def build_model_b(embedding_layer):\n",
    "    model = Sequential([\n",
    "        embedding_layer,\n",
    "        GlobalAveragePooling1D(),\n",
    "        Dense(128, activation = 'relu'),\n",
    "        Dense(64, activation = 'relu'),\n",
    "        Dense(num_authors, activation = 'softmax')\n",
    "    ])\n",
    "    return model"
   ]
  },
  {
   "cell_type": "code",
   "execution_count": 124,
   "id": "05c40d96",
   "metadata": {},
   "outputs": [],
   "source": [
    "def build_model_c(embedding_layer):\n",
    "    model = Sequential([\n",
    "        embedding_layer,\n",
    "        Flatten(),\n",
    "        Dense(256, activation = 'relu'),\n",
    "        Dense(128, activation = 'relu'),\n",
    "        Dense(num_authors, activation = 'softmax')\n",
    "    ])\n",
    "    return model"
   ]
  },
  {
   "cell_type": "code",
   "execution_count": 125,
   "id": "aaafef01",
   "metadata": {},
   "outputs": [],
   "source": [
    "architectures = {\n",
    "    \"A\": build_model_a,\n",
    "    \"B\": build_model_b,\n",
    "    \"C\": build_model_c\n",
    "}"
   ]
  },
  {
   "cell_type": "code",
   "execution_count": 126,
   "id": "a2d6700f",
   "metadata": {},
   "outputs": [
    {
     "name": "stdout",
     "output_type": "stream",
     "text": [
      "Training model A with embedding 50D\n",
      "Epoch 1/10\n",
      "\u001b[1m58/58\u001b[0m \u001b[32m━━━━━━━━━━━━━━━━━━━━\u001b[0m\u001b[37m\u001b[0m \u001b[1m0s\u001b[0m 2ms/step - accuracy: 0.5119 - loss: 0.9810 - val_accuracy: 0.7747 - val_loss: 0.8658\n",
      "Epoch 2/10\n",
      "\u001b[1m58/58\u001b[0m \u001b[32m━━━━━━━━━━━━━━━━━━━━\u001b[0m\u001b[37m\u001b[0m \u001b[1m0s\u001b[0m 922us/step - accuracy: 0.8084 - loss: 0.7719 - val_accuracy: 0.8481 - val_loss: 0.6644\n",
      "Epoch 3/10\n",
      "\u001b[1m58/58\u001b[0m \u001b[32m━━━━━━━━━━━━━━━━━━━━\u001b[0m\u001b[37m\u001b[0m \u001b[1m0s\u001b[0m 904us/step - accuracy: 0.8692 - loss: 0.5838 - val_accuracy: 0.8962 - val_loss: 0.4956\n",
      "Epoch 4/10\n",
      "\u001b[1m58/58\u001b[0m \u001b[32m━━━━━━━━━━━━━━━━━━━━\u001b[0m\u001b[37m\u001b[0m \u001b[1m0s\u001b[0m 910us/step - accuracy: 0.9083 - loss: 0.4407 - val_accuracy: 0.9241 - val_loss: 0.3844\n",
      "Epoch 5/10\n",
      "\u001b[1m58/58\u001b[0m \u001b[32m━━━━━━━━━━━━━━━━━━━━\u001b[0m\u001b[37m\u001b[0m \u001b[1m0s\u001b[0m 920us/step - accuracy: 0.9305 - loss: 0.3485 - val_accuracy: 0.9241 - val_loss: 0.3098\n",
      "Epoch 6/10\n",
      "\u001b[1m58/58\u001b[0m \u001b[32m━━━━━━━━━━━━━━━━━━━━\u001b[0m\u001b[37m\u001b[0m \u001b[1m0s\u001b[0m 942us/step - accuracy: 0.9376 - loss: 0.2896 - val_accuracy: 0.9418 - val_loss: 0.2608\n",
      "Epoch 7/10\n",
      "\u001b[1m58/58\u001b[0m \u001b[32m━━━━━━━━━━━━━━━━━━━━\u001b[0m\u001b[37m\u001b[0m \u001b[1m0s\u001b[0m 940us/step - accuracy: 0.9490 - loss: 0.2470 - val_accuracy: 0.9519 - val_loss: 0.2267\n",
      "Epoch 8/10\n",
      "\u001b[1m58/58\u001b[0m \u001b[32m━━━━━━━━━━━━━━━━━━━━\u001b[0m\u001b[37m\u001b[0m \u001b[1m0s\u001b[0m 918us/step - accuracy: 0.9533 - loss: 0.2171 - val_accuracy: 0.9418 - val_loss: 0.2067\n",
      "Epoch 9/10\n",
      "\u001b[1m58/58\u001b[0m \u001b[32m━━━━━━━━━━━━━━━━━━━━\u001b[0m\u001b[37m\u001b[0m \u001b[1m0s\u001b[0m 895us/step - accuracy: 0.9587 - loss: 0.1947 - val_accuracy: 0.9519 - val_loss: 0.1789\n",
      "Epoch 10/10\n",
      "\u001b[1m58/58\u001b[0m \u001b[32m━━━━━━━━━━━━━━━━━━━━\u001b[0m\u001b[37m\u001b[0m \u001b[1m0s\u001b[0m 925us/step - accuracy: 0.9587 - loss: 0.1758 - val_accuracy: 0.9544 - val_loss: 0.1611\n",
      "Training model B with embedding 50D\n",
      "Epoch 1/10\n",
      "\u001b[1m58/58\u001b[0m \u001b[32m━━━━━━━━━━━━━━━━━━━━\u001b[0m\u001b[37m\u001b[0m \u001b[1m0s\u001b[0m 2ms/step - accuracy: 0.7237 - loss: 0.8417 - val_accuracy: 0.8506 - val_loss: 0.5561\n",
      "Epoch 2/10\n",
      "\u001b[1m58/58\u001b[0m \u001b[32m━━━━━━━━━━━━━━━━━━━━\u001b[0m\u001b[37m\u001b[0m \u001b[1m0s\u001b[0m 993us/step - accuracy: 0.9115 - loss: 0.3719 - val_accuracy: 0.9418 - val_loss: 0.2350\n",
      "Epoch 3/10\n",
      "\u001b[1m58/58\u001b[0m \u001b[32m━━━━━━━━━━━━━━━━━━━━\u001b[0m\u001b[37m\u001b[0m \u001b[1m0s\u001b[0m 972us/step - accuracy: 0.9511 - loss: 0.1897 - val_accuracy: 0.9468 - val_loss: 0.1524\n",
      "Epoch 4/10\n",
      "\u001b[1m58/58\u001b[0m \u001b[32m━━━━━━━━━━━━━━━━━━━━\u001b[0m\u001b[37m\u001b[0m \u001b[1m0s\u001b[0m 983us/step - accuracy: 0.9593 - loss: 0.1347 - val_accuracy: 0.9671 - val_loss: 0.1161\n",
      "Epoch 5/10\n",
      "\u001b[1m58/58\u001b[0m \u001b[32m━━━━━━━━━━━━━━━━━━━━\u001b[0m\u001b[37m\u001b[0m \u001b[1m0s\u001b[0m 954us/step - accuracy: 0.9631 - loss: 0.1113 - val_accuracy: 0.9570 - val_loss: 0.1055\n",
      "Epoch 6/10\n",
      "\u001b[1m58/58\u001b[0m \u001b[32m━━━━━━━━━━━━━━━━━━━━\u001b[0m\u001b[37m\u001b[0m \u001b[1m0s\u001b[0m 1ms/step - accuracy: 0.9658 - loss: 0.1011 - val_accuracy: 0.9646 - val_loss: 0.0879\n",
      "Epoch 7/10\n",
      "\u001b[1m58/58\u001b[0m \u001b[32m━━━━━━━━━━━━━━━━━━━━\u001b[0m\u001b[37m\u001b[0m \u001b[1m0s\u001b[0m 1ms/step - accuracy: 0.9674 - loss: 0.0881 - val_accuracy: 0.9696 - val_loss: 0.0804\n",
      "Epoch 8/10\n",
      "\u001b[1m58/58\u001b[0m \u001b[32m━━━━━━━━━━━━━━━━━━━━\u001b[0m\u001b[37m\u001b[0m \u001b[1m0s\u001b[0m 937us/step - accuracy: 0.9718 - loss: 0.0840 - val_accuracy: 0.9747 - val_loss: 0.0692\n",
      "Epoch 9/10\n",
      "\u001b[1m58/58\u001b[0m \u001b[32m━━━━━━━━━━━━━━━━━━━━\u001b[0m\u001b[37m\u001b[0m \u001b[1m0s\u001b[0m 948us/step - accuracy: 0.9729 - loss: 0.0758 - val_accuracy: 0.9747 - val_loss: 0.0667\n",
      "Epoch 10/10\n",
      "\u001b[1m58/58\u001b[0m \u001b[32m━━━━━━━━━━━━━━━━━━━━\u001b[0m\u001b[37m\u001b[0m \u001b[1m0s\u001b[0m 930us/step - accuracy: 0.9750 - loss: 0.0746 - val_accuracy: 0.9646 - val_loss: 0.0742\n",
      "Training model C with embedding 50D\n",
      "Epoch 1/10\n",
      "\u001b[1m58/58\u001b[0m \u001b[32m━━━━━━━━━━━━━━━━━━━━\u001b[0m\u001b[37m\u001b[0m \u001b[1m1s\u001b[0m 3ms/step - accuracy: 0.8610 - loss: 0.3660 - val_accuracy: 0.9671 - val_loss: 0.0927\n",
      "Epoch 2/10\n",
      "\u001b[1m58/58\u001b[0m \u001b[32m━━━━━━━━━━━━━━━━━━━━\u001b[0m\u001b[37m\u001b[0m \u001b[1m0s\u001b[0m 2ms/step - accuracy: 0.9891 - loss: 0.0330 - val_accuracy: 0.9570 - val_loss: 0.0989\n",
      "Epoch 3/10\n",
      "\u001b[1m58/58\u001b[0m \u001b[32m━━━━━━━━━━━━━━━━━━━━\u001b[0m\u001b[37m\u001b[0m \u001b[1m0s\u001b[0m 2ms/step - accuracy: 1.0000 - loss: 0.0037 - val_accuracy: 0.9595 - val_loss: 0.0900\n",
      "Epoch 4/10\n",
      "\u001b[1m58/58\u001b[0m \u001b[32m━━━━━━━━━━━━━━━━━━━━\u001b[0m\u001b[37m\u001b[0m \u001b[1m0s\u001b[0m 2ms/step - accuracy: 1.0000 - loss: 0.0015 - val_accuracy: 0.9595 - val_loss: 0.0892\n",
      "Epoch 5/10\n",
      "\u001b[1m58/58\u001b[0m \u001b[32m━━━━━━━━━━━━━━━━━━━━\u001b[0m\u001b[37m\u001b[0m \u001b[1m0s\u001b[0m 2ms/step - accuracy: 1.0000 - loss: 6.7962e-04 - val_accuracy: 0.9620 - val_loss: 0.0883\n",
      "Epoch 6/10\n",
      "\u001b[1m58/58\u001b[0m \u001b[32m━━━━━━━━━━━━━━━━━━━━\u001b[0m\u001b[37m\u001b[0m \u001b[1m0s\u001b[0m 2ms/step - accuracy: 1.0000 - loss: 4.8943e-04 - val_accuracy: 0.9595 - val_loss: 0.0901\n",
      "Epoch 7/10\n",
      "\u001b[1m58/58\u001b[0m \u001b[32m━━━━━━━━━━━━━━━━━━━━\u001b[0m\u001b[37m\u001b[0m \u001b[1m0s\u001b[0m 2ms/step - accuracy: 1.0000 - loss: 3.5196e-04 - val_accuracy: 0.9595 - val_loss: 0.0897\n",
      "Epoch 8/10\n",
      "\u001b[1m58/58\u001b[0m \u001b[32m━━━━━━━━━━━━━━━━━━━━\u001b[0m\u001b[37m\u001b[0m \u001b[1m0s\u001b[0m 2ms/step - accuracy: 1.0000 - loss: 2.4738e-04 - val_accuracy: 0.9595 - val_loss: 0.0902\n",
      "Epoch 9/10\n",
      "\u001b[1m58/58\u001b[0m \u001b[32m━━━━━━━━━━━━━━━━━━━━\u001b[0m\u001b[37m\u001b[0m \u001b[1m0s\u001b[0m 2ms/step - accuracy: 1.0000 - loss: 1.8154e-04 - val_accuracy: 0.9671 - val_loss: 0.0904\n",
      "Epoch 10/10\n",
      "\u001b[1m58/58\u001b[0m \u001b[32m━━━━━━━━━━━━━━━━━━━━\u001b[0m\u001b[37m\u001b[0m \u001b[1m0s\u001b[0m 2ms/step - accuracy: 1.0000 - loss: 1.3746e-04 - val_accuracy: 0.9620 - val_loss: 0.0918\n",
      "Training model A with embedding 100D\n",
      "Epoch 1/10\n",
      "\u001b[1m58/58\u001b[0m \u001b[32m━━━━━━━━━━━━━━━━━━━━\u001b[0m\u001b[37m\u001b[0m \u001b[1m0s\u001b[0m 2ms/step - accuracy: 0.6422 - loss: 0.9080 - val_accuracy: 0.7494 - val_loss: 0.7504\n",
      "Epoch 2/10\n",
      "\u001b[1m58/58\u001b[0m \u001b[32m━━━━━━━━━━━━━━━━━━━━\u001b[0m\u001b[37m\u001b[0m \u001b[1m0s\u001b[0m 927us/step - accuracy: 0.7986 - loss: 0.6475 - val_accuracy: 0.8405 - val_loss: 0.5491\n",
      "Epoch 3/10\n",
      "\u001b[1m58/58\u001b[0m \u001b[32m━━━━━━━━━━━━━━━━━━━━\u001b[0m\u001b[37m\u001b[0m \u001b[1m0s\u001b[0m 894us/step - accuracy: 0.8800 - loss: 0.4726 - val_accuracy: 0.9139 - val_loss: 0.4027\n",
      "Epoch 4/10\n",
      "\u001b[1m58/58\u001b[0m \u001b[32m━━━━━━━━━━━━━━━━━━━━\u001b[0m\u001b[37m\u001b[0m \u001b[1m0s\u001b[0m 948us/step - accuracy: 0.9191 - loss: 0.3539 - val_accuracy: 0.9342 - val_loss: 0.3118\n",
      "Epoch 5/10\n",
      "\u001b[1m58/58\u001b[0m \u001b[32m━━━━━━━━━━━━━━━━━━━━\u001b[0m\u001b[37m\u001b[0m \u001b[1m0s\u001b[0m 907us/step - accuracy: 0.9435 - loss: 0.2755 - val_accuracy: 0.9519 - val_loss: 0.2495\n",
      "Epoch 6/10\n",
      "\u001b[1m58/58\u001b[0m \u001b[32m━━━━━━━━━━━━━━━━━━━━\u001b[0m\u001b[37m\u001b[0m \u001b[1m0s\u001b[0m 933us/step - accuracy: 0.9539 - loss: 0.2205 - val_accuracy: 0.9544 - val_loss: 0.2045\n",
      "Epoch 7/10\n",
      "\u001b[1m58/58\u001b[0m \u001b[32m━━━━━━━━━━━━━━━━━━━━\u001b[0m\u001b[37m\u001b[0m \u001b[1m0s\u001b[0m 1ms/step - accuracy: 0.9609 - loss: 0.1843 - val_accuracy: 0.9671 - val_loss: 0.1751\n",
      "Epoch 8/10\n",
      "\u001b[1m58/58\u001b[0m \u001b[32m━━━━━━━━━━━━━━━━━━━━\u001b[0m\u001b[37m\u001b[0m \u001b[1m0s\u001b[0m 980us/step - accuracy: 0.9653 - loss: 0.1576 - val_accuracy: 0.9646 - val_loss: 0.1513\n",
      "Epoch 9/10\n",
      "\u001b[1m58/58\u001b[0m \u001b[32m━━━━━━━━━━━━━━━━━━━━\u001b[0m\u001b[37m\u001b[0m \u001b[1m0s\u001b[0m 909us/step - accuracy: 0.9669 - loss: 0.1413 - val_accuracy: 0.9671 - val_loss: 0.1343\n",
      "Epoch 10/10\n",
      "\u001b[1m58/58\u001b[0m \u001b[32m━━━━━━━━━━━━━━━━━━━━\u001b[0m\u001b[37m\u001b[0m \u001b[1m0s\u001b[0m 927us/step - accuracy: 0.9701 - loss: 0.1248 - val_accuracy: 0.9696 - val_loss: 0.1248\n",
      "Training model B with embedding 100D\n",
      "Epoch 1/10\n",
      "\u001b[1m58/58\u001b[0m \u001b[32m━━━━━━━━━━━━━━━━━━━━\u001b[0m\u001b[37m\u001b[0m \u001b[1m0s\u001b[0m 2ms/step - accuracy: 0.7351 - loss: 0.7504 - val_accuracy: 0.9013 - val_loss: 0.3862\n",
      "Epoch 2/10\n",
      "\u001b[1m58/58\u001b[0m \u001b[32m━━━━━━━━━━━━━━━━━━━━\u001b[0m\u001b[37m\u001b[0m \u001b[1m0s\u001b[0m 949us/step - accuracy: 0.9408 - loss: 0.2492 - val_accuracy: 0.9646 - val_loss: 0.1493\n",
      "Epoch 3/10\n",
      "\u001b[1m58/58\u001b[0m \u001b[32m━━━━━━━━━━━━━━━━━━━━\u001b[0m\u001b[37m\u001b[0m \u001b[1m0s\u001b[0m 962us/step - accuracy: 0.9604 - loss: 0.1283 - val_accuracy: 0.9722 - val_loss: 0.0972\n",
      "Epoch 4/10\n",
      "\u001b[1m58/58\u001b[0m \u001b[32m━━━━━━━━━━━━━━━━━━━━\u001b[0m\u001b[37m\u001b[0m \u001b[1m0s\u001b[0m 937us/step - accuracy: 0.9696 - loss: 0.0899 - val_accuracy: 0.9671 - val_loss: 0.0814\n",
      "Epoch 5/10\n",
      "\u001b[1m58/58\u001b[0m \u001b[32m━━━━━━━━━━━━━━━━━━━━\u001b[0m\u001b[37m\u001b[0m \u001b[1m0s\u001b[0m 967us/step - accuracy: 0.9745 - loss: 0.0752 - val_accuracy: 0.9772 - val_loss: 0.0626\n",
      "Epoch 6/10\n",
      "\u001b[1m58/58\u001b[0m \u001b[32m━━━━━━━━━━━━━━━━━━━━\u001b[0m\u001b[37m\u001b[0m \u001b[1m0s\u001b[0m 937us/step - accuracy: 0.9745 - loss: 0.0714 - val_accuracy: 0.9772 - val_loss: 0.0610\n",
      "Epoch 7/10\n",
      "\u001b[1m58/58\u001b[0m \u001b[32m━━━━━━━━━━━━━━━━━━━━\u001b[0m\u001b[37m\u001b[0m \u001b[1m0s\u001b[0m 934us/step - accuracy: 0.9772 - loss: 0.0607 - val_accuracy: 0.9823 - val_loss: 0.0504\n",
      "Epoch 8/10\n",
      "\u001b[1m58/58\u001b[0m \u001b[32m━━━━━━━━━━━━━━━━━━━━\u001b[0m\u001b[37m\u001b[0m \u001b[1m0s\u001b[0m 934us/step - accuracy: 0.9805 - loss: 0.0540 - val_accuracy: 0.9772 - val_loss: 0.0579\n",
      "Epoch 9/10\n",
      "\u001b[1m58/58\u001b[0m \u001b[32m━━━━━━━━━━━━━━━━━━━━\u001b[0m\u001b[37m\u001b[0m \u001b[1m0s\u001b[0m 1ms/step - accuracy: 0.9761 - loss: 0.0632 - val_accuracy: 0.9797 - val_loss: 0.0544\n",
      "Epoch 10/10\n",
      "\u001b[1m58/58\u001b[0m \u001b[32m━━━━━━━━━━━━━━━━━━━━\u001b[0m\u001b[37m\u001b[0m \u001b[1m0s\u001b[0m 951us/step - accuracy: 0.9772 - loss: 0.0574 - val_accuracy: 0.9696 - val_loss: 0.0729\n",
      "Training model C with embedding 100D\n",
      "Epoch 1/10\n",
      "\u001b[1m58/58\u001b[0m \u001b[32m━━━━━━━━━━━━━━━━━━━━\u001b[0m\u001b[37m\u001b[0m \u001b[1m1s\u001b[0m 14ms/step - accuracy: 0.8474 - loss: 0.4206 - val_accuracy: 0.9544 - val_loss: 0.1362\n",
      "Epoch 2/10\n",
      "\u001b[1m58/58\u001b[0m \u001b[32m━━━━━━━━━━━━━━━━━━━━\u001b[0m\u001b[37m\u001b[0m \u001b[1m0s\u001b[0m 8ms/step - accuracy: 0.9989 - loss: 0.0117 - val_accuracy: 0.9646 - val_loss: 0.1062\n",
      "Epoch 3/10\n",
      "\u001b[1m58/58\u001b[0m \u001b[32m━━━━━━━━━━━━━━━━━━━━\u001b[0m\u001b[37m\u001b[0m \u001b[1m0s\u001b[0m 8ms/step - accuracy: 1.0000 - loss: 0.0029 - val_accuracy: 0.9696 - val_loss: 0.0987\n",
      "Epoch 4/10\n",
      "\u001b[1m58/58\u001b[0m \u001b[32m━━━━━━━━━━━━━━━━━━━━\u001b[0m\u001b[37m\u001b[0m \u001b[1m0s\u001b[0m 8ms/step - accuracy: 1.0000 - loss: 0.0011 - val_accuracy: 0.9620 - val_loss: 0.1024\n",
      "Epoch 5/10\n",
      "\u001b[1m58/58\u001b[0m \u001b[32m━━━━━━━━━━━━━━━━━━━━\u001b[0m\u001b[37m\u001b[0m \u001b[1m1s\u001b[0m 9ms/step - accuracy: 1.0000 - loss: 6.5096e-04 - val_accuracy: 0.9646 - val_loss: 0.1026\n",
      "Epoch 6/10\n",
      "\u001b[1m58/58\u001b[0m \u001b[32m━━━━━━━━━━━━━━━━━━━━\u001b[0m\u001b[37m\u001b[0m \u001b[1m1s\u001b[0m 9ms/step - accuracy: 1.0000 - loss: 3.8393e-04 - val_accuracy: 0.9620 - val_loss: 0.1059\n",
      "Epoch 7/10\n",
      "\u001b[1m58/58\u001b[0m \u001b[32m━━━━━━━━━━━━━━━━━━━━\u001b[0m\u001b[37m\u001b[0m \u001b[1m1s\u001b[0m 11ms/step - accuracy: 1.0000 - loss: 2.4484e-04 - val_accuracy: 0.9646 - val_loss: 0.1076\n",
      "Epoch 8/10\n",
      "\u001b[1m58/58\u001b[0m \u001b[32m━━━━━━━━━━━━━━━━━━━━\u001b[0m\u001b[37m\u001b[0m \u001b[1m1s\u001b[0m 10ms/step - accuracy: 1.0000 - loss: 1.6603e-04 - val_accuracy: 0.9620 - val_loss: 0.1104\n",
      "Epoch 9/10\n",
      "\u001b[1m58/58\u001b[0m \u001b[32m━━━━━━━━━━━━━━━━━━━━\u001b[0m\u001b[37m\u001b[0m \u001b[1m0s\u001b[0m 8ms/step - accuracy: 1.0000 - loss: 1.1896e-04 - val_accuracy: 0.9620 - val_loss: 0.1124\n",
      "Epoch 10/10\n",
      "\u001b[1m58/58\u001b[0m \u001b[32m━━━━━━━━━━━━━━━━━━━━\u001b[0m\u001b[37m\u001b[0m \u001b[1m0s\u001b[0m 8ms/step - accuracy: 1.0000 - loss: 8.9520e-05 - val_accuracy: 0.9570 - val_loss: 0.1151\n",
      "Training model A with embedding 200D\n",
      "Epoch 1/10\n",
      "\u001b[1m58/58\u001b[0m \u001b[32m━━━━━━━━━━━━━━━━━━━━\u001b[0m\u001b[37m\u001b[0m \u001b[1m0s\u001b[0m 2ms/step - accuracy: 0.6982 - loss: 0.8899 - val_accuracy: 0.8658 - val_loss: 0.7225\n",
      "Epoch 2/10\n",
      "\u001b[1m58/58\u001b[0m \u001b[32m━━━━━━━━━━━━━━━━━━━━\u001b[0m\u001b[37m\u001b[0m \u001b[1m0s\u001b[0m 942us/step - accuracy: 0.8827 - loss: 0.5832 - val_accuracy: 0.9190 - val_loss: 0.4604\n",
      "Epoch 3/10\n",
      "\u001b[1m58/58\u001b[0m \u001b[32m━━━━━━━━━━━━━━━━━━━━\u001b[0m\u001b[37m\u001b[0m \u001b[1m0s\u001b[0m 962us/step - accuracy: 0.9224 - loss: 0.3818 - val_accuracy: 0.9241 - val_loss: 0.3165\n",
      "Epoch 4/10\n",
      "\u001b[1m58/58\u001b[0m \u001b[32m━━━━━━━━━━━━━━━━━━━━\u001b[0m\u001b[37m\u001b[0m \u001b[1m0s\u001b[0m 970us/step - accuracy: 0.9435 - loss: 0.2763 - val_accuracy: 0.9494 - val_loss: 0.2372\n",
      "Epoch 5/10\n",
      "\u001b[1m58/58\u001b[0m \u001b[32m━━━━━━━━━━━━━━━━━━━━\u001b[0m\u001b[37m\u001b[0m \u001b[1m0s\u001b[0m 973us/step - accuracy: 0.9571 - loss: 0.2121 - val_accuracy: 0.9570 - val_loss: 0.1939\n",
      "Epoch 6/10\n",
      "\u001b[1m58/58\u001b[0m \u001b[32m━━━━━━━━━━━━━━━━━━━━\u001b[0m\u001b[37m\u001b[0m \u001b[1m0s\u001b[0m 964us/step - accuracy: 0.9653 - loss: 0.1727 - val_accuracy: 0.9595 - val_loss: 0.1588\n",
      "Epoch 7/10\n",
      "\u001b[1m58/58\u001b[0m \u001b[32m━━━━━━━━━━━━━━━━━━━━\u001b[0m\u001b[37m\u001b[0m \u001b[1m0s\u001b[0m 966us/step - accuracy: 0.9674 - loss: 0.1459 - val_accuracy: 0.9646 - val_loss: 0.1397\n",
      "Epoch 8/10\n",
      "\u001b[1m58/58\u001b[0m \u001b[32m━━━━━━━━━━━━━━━━━━━━\u001b[0m\u001b[37m\u001b[0m \u001b[1m0s\u001b[0m 974us/step - accuracy: 0.9701 - loss: 0.1275 - val_accuracy: 0.9671 - val_loss: 0.1204\n",
      "Epoch 9/10\n",
      "\u001b[1m58/58\u001b[0m \u001b[32m━━━━━━━━━━━━━━━━━━━━\u001b[0m\u001b[37m\u001b[0m \u001b[1m0s\u001b[0m 966us/step - accuracy: 0.9718 - loss: 0.1123 - val_accuracy: 0.9722 - val_loss: 0.1061\n",
      "Epoch 10/10\n",
      "\u001b[1m58/58\u001b[0m \u001b[32m━━━━━━━━━━━━━━━━━━━━\u001b[0m\u001b[37m\u001b[0m \u001b[1m0s\u001b[0m 963us/step - accuracy: 0.9718 - loss: 0.1024 - val_accuracy: 0.9747 - val_loss: 0.0969\n",
      "Training model B with embedding 200D\n",
      "Epoch 1/10\n",
      "\u001b[1m58/58\u001b[0m \u001b[32m━━━━━━━━━━━━━━━━━━━━\u001b[0m\u001b[37m\u001b[0m \u001b[1m0s\u001b[0m 2ms/step - accuracy: 0.7362 - loss: 0.7380 - val_accuracy: 0.8785 - val_loss: 0.3781\n",
      "Epoch 2/10\n",
      "\u001b[1m58/58\u001b[0m \u001b[32m━━━━━━━━━━━━━━━━━━━━\u001b[0m\u001b[37m\u001b[0m \u001b[1m0s\u001b[0m 1ms/step - accuracy: 0.9441 - loss: 0.2271 - val_accuracy: 0.9570 - val_loss: 0.1447\n",
      "Epoch 3/10\n",
      "\u001b[1m58/58\u001b[0m \u001b[32m━━━━━━━━━━━━━━━━━━━━\u001b[0m\u001b[37m\u001b[0m \u001b[1m0s\u001b[0m 986us/step - accuracy: 0.9674 - loss: 0.1129 - val_accuracy: 0.9646 - val_loss: 0.0911\n",
      "Epoch 4/10\n",
      "\u001b[1m58/58\u001b[0m \u001b[32m━━━━━━━━━━━━━━━━━━━━\u001b[0m\u001b[37m\u001b[0m \u001b[1m0s\u001b[0m 1ms/step - accuracy: 0.9750 - loss: 0.0784 - val_accuracy: 0.9772 - val_loss: 0.0657\n",
      "Epoch 5/10\n",
      "\u001b[1m58/58\u001b[0m \u001b[32m━━━━━━━━━━━━━━━━━━━━\u001b[0m\u001b[37m\u001b[0m \u001b[1m0s\u001b[0m 1ms/step - accuracy: 0.9739 - loss: 0.0703 - val_accuracy: 0.9747 - val_loss: 0.0868\n",
      "Epoch 6/10\n",
      "\u001b[1m58/58\u001b[0m \u001b[32m━━━━━━━━━━━━━━━━━━━━\u001b[0m\u001b[37m\u001b[0m \u001b[1m0s\u001b[0m 1ms/step - accuracy: 0.9756 - loss: 0.0618 - val_accuracy: 0.9772 - val_loss: 0.0475\n",
      "Epoch 7/10\n",
      "\u001b[1m58/58\u001b[0m \u001b[32m━━━━━━━━━━━━━━━━━━━━\u001b[0m\u001b[37m\u001b[0m \u001b[1m0s\u001b[0m 1ms/step - accuracy: 0.9805 - loss: 0.0525 - val_accuracy: 0.9797 - val_loss: 0.0490\n",
      "Epoch 8/10\n",
      "\u001b[1m58/58\u001b[0m \u001b[32m━━━━━━━━━━━━━━━━━━━━\u001b[0m\u001b[37m\u001b[0m \u001b[1m0s\u001b[0m 1ms/step - accuracy: 0.9783 - loss: 0.0502 - val_accuracy: 0.9823 - val_loss: 0.0426\n",
      "Epoch 9/10\n",
      "\u001b[1m58/58\u001b[0m \u001b[32m━━━━━━━━━━━━━━━━━━━━\u001b[0m\u001b[37m\u001b[0m \u001b[1m0s\u001b[0m 1ms/step - accuracy: 0.9788 - loss: 0.0507 - val_accuracy: 0.9823 - val_loss: 0.0387\n",
      "Epoch 10/10\n",
      "\u001b[1m58/58\u001b[0m \u001b[32m━━━━━━━━━━━━━━━━━━━━\u001b[0m\u001b[37m\u001b[0m \u001b[1m0s\u001b[0m 1ms/step - accuracy: 0.9783 - loss: 0.0461 - val_accuracy: 0.9797 - val_loss: 0.0438\n",
      "Training model C with embedding 200D\n",
      "Epoch 1/10\n",
      "\u001b[1m58/58\u001b[0m \u001b[32m━━━━━━━━━━━━━━━━━━━━\u001b[0m\u001b[37m\u001b[0m \u001b[1m2s\u001b[0m 29ms/step - accuracy: 0.7720 - loss: 0.8420 - val_accuracy: 0.9544 - val_loss: 0.1484\n",
      "Epoch 2/10\n",
      "\u001b[1m58/58\u001b[0m \u001b[32m━━━━━━━━━━━━━━━━━━━━\u001b[0m\u001b[37m\u001b[0m \u001b[1m2s\u001b[0m 27ms/step - accuracy: 0.9957 - loss: 0.0203 - val_accuracy: 0.9544 - val_loss: 0.1063\n",
      "Epoch 3/10\n",
      "\u001b[1m58/58\u001b[0m \u001b[32m━━━━━━━━━━━━━━━━━━━━\u001b[0m\u001b[37m\u001b[0m \u001b[1m2s\u001b[0m 26ms/step - accuracy: 1.0000 - loss: 0.0025 - val_accuracy: 0.9519 - val_loss: 0.1061\n",
      "Epoch 4/10\n",
      "\u001b[1m58/58\u001b[0m \u001b[32m━━━━━━━━━━━━━━━━━━━━\u001b[0m\u001b[37m\u001b[0m \u001b[1m2s\u001b[0m 27ms/step - accuracy: 1.0000 - loss: 0.0011 - val_accuracy: 0.9544 - val_loss: 0.1079\n",
      "Epoch 5/10\n",
      "\u001b[1m58/58\u001b[0m \u001b[32m━━━━━━━━━━━━━━━━━━━━\u001b[0m\u001b[37m\u001b[0m \u001b[1m2s\u001b[0m 26ms/step - accuracy: 1.0000 - loss: 7.5446e-04 - val_accuracy: 0.9544 - val_loss: 0.1136\n",
      "Epoch 6/10\n",
      "\u001b[1m58/58\u001b[0m \u001b[32m━━━━━━━━━━━━━━━━━━━━\u001b[0m\u001b[37m\u001b[0m \u001b[1m2s\u001b[0m 26ms/step - accuracy: 1.0000 - loss: 4.3479e-04 - val_accuracy: 0.9544 - val_loss: 0.1126\n",
      "Epoch 7/10\n",
      "\u001b[1m58/58\u001b[0m \u001b[32m━━━━━━━━━━━━━━━━━━━━\u001b[0m\u001b[37m\u001b[0m \u001b[1m2s\u001b[0m 27ms/step - accuracy: 1.0000 - loss: 2.1485e-04 - val_accuracy: 0.9570 - val_loss: 0.1180\n",
      "Epoch 8/10\n",
      "\u001b[1m58/58\u001b[0m \u001b[32m━━━━━━━━━━━━━━━━━━━━\u001b[0m\u001b[37m\u001b[0m \u001b[1m2s\u001b[0m 27ms/step - accuracy: 1.0000 - loss: 1.3098e-04 - val_accuracy: 0.9519 - val_loss: 0.1204\n",
      "Epoch 9/10\n",
      "\u001b[1m58/58\u001b[0m \u001b[32m━━━━━━━━━━━━━━━━━━━━\u001b[0m\u001b[37m\u001b[0m \u001b[1m2s\u001b[0m 26ms/step - accuracy: 1.0000 - loss: 8.9281e-05 - val_accuracy: 0.9519 - val_loss: 0.1232\n",
      "Epoch 10/10\n",
      "\u001b[1m58/58\u001b[0m \u001b[32m━━━━━━━━━━━━━━━━━━━━\u001b[0m\u001b[37m\u001b[0m \u001b[1m2s\u001b[0m 28ms/step - accuracy: 1.0000 - loss: 6.6003e-05 - val_accuracy: 0.9494 - val_loss: 0.1280\n"
     ]
    }
   ],
   "source": [
    "results = {}\n",
    "\n",
    "for embedding_dimension, embedding_matrix in embedding_matrices.items():\n",
    "    for arch_name, build_fn in architectures.items():\n",
    "        print(f\"Training model {arch_name} with embedding {embedding_dimension}D\")\n",
    "\n",
    "        embedding_layer = make_embedding_layer(embedding_matrix)\n",
    "        model = build_fn(embedding_layer)\n",
    "\n",
    "        model.compile(\n",
    "            optimizer = Adam(),\n",
    "            loss = 'sparse_categorical_crossentropy',\n",
    "            metrics = ['accuracy']\n",
    "        )\n",
    "\n",
    "        history = model.fit(\n",
    "            X_train_sequences, y_train,\n",
    "            validation_data = (X_validation_sequences, y_validation),\n",
    "            epochs = 10,\n",
    "            batch_size = 32,\n",
    "            verbose = 1\n",
    "        )\n",
    "\n",
    "        y_pred_probs = model.predict(X_test_sequences, verbose = 0)\n",
    "        y_pred = np.argmax(y_pred_probs, axis = 1)\n",
    "\n",
    "        accuracy = accuracy_score(y_test, y_pred)\n",
    "        precision = precision_score(y_test, y_pred, average = 'macro', zero_division = 0)\n",
    "        recall = recall_score(y_test, y_pred, average = 'macro', zero_division = 0)\n",
    "\n",
    "        key = f\"{arch_name}_{embedding_dimension}D\"\n",
    "        results[key] = {\n",
    "            \"accuracy\": accuracy,\n",
    "            \"precision\": precision,\n",
    "            \"recall\": recall\n",
    "        }"
   ]
  },
  {
   "cell_type": "code",
   "execution_count": 129,
   "id": "b47f7890",
   "metadata": {},
   "outputs": [
    {
     "name": "stdout",
     "output_type": "stream",
     "text": [
      "       accuracy precision recall\n",
      "A_50D     0.954     0.955  0.954\n",
      "B_50D     0.967     0.961  0.973\n",
      "C_50D     0.949     0.946  0.950\n",
      "A_100D    0.970     0.971  0.967\n",
      "B_100D    0.962     0.954  0.969\n",
      "C_100D    0.962     0.966  0.956\n",
      "A_200D    0.962     0.963  0.961\n",
      "B_200D    0.982     0.980  0.985\n",
      "C_200D    0.934     0.943  0.922\n"
     ]
    }
   ],
   "source": [
    "df = pd.DataFrame(results).T \n",
    "\n",
    "df_formatted = df.map(lambda x: f\"{x:.3f}\")\n",
    "\n",
    "print(df_formatted)"
   ]
  }
 ],
 "metadata": {
  "kernelspec": {
   "display_name": "env",
   "language": "python",
   "name": "python3"
  },
  "language_info": {
   "codemirror_mode": {
    "name": "ipython",
    "version": 3
   },
   "file_extension": ".py",
   "mimetype": "text/x-python",
   "name": "python",
   "nbconvert_exporter": "python",
   "pygments_lexer": "ipython3",
   "version": "3.11.9"
  }
 },
 "nbformat": 4,
 "nbformat_minor": 5
}
