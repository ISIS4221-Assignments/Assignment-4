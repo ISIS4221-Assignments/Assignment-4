{
 "cells": [
  {
   "cell_type": "markdown",
   "id": "739aa386",
   "metadata": {},
   "source": [
    "# 1. Downloading the Dataset"
   ]
  },
  {
   "cell_type": "code",
   "execution_count": 4,
   "id": "d2d73aa7",
   "metadata": {},
   "outputs": [],
   "source": [
    "import requests\n",
    "import os"
   ]
  },
  {
   "cell_type": "code",
   "execution_count": 5,
   "id": "fc01742c",
   "metadata": {},
   "outputs": [],
   "source": [
    "books_urls = {\n",
    "    \"austen_pride\": \"https://www.gutenberg.org/cache/epub/1342/pg1342.txt\",\n",
    "    \"austen_emma\": \"https://www.gutenberg.org/cache/epub/158/pg158.txt\",\n",
    "    \"austen_sense\": \"https://www.gutenberg.org/cache/epub/161/pg161.txt\",\n",
    "\n",
    "    \"dickens_two_cities\": \"https://www.gutenberg.org/cache/epub/98/pg98.txt\",\n",
    "    \"dickens_expectations\": \"https://www.gutenberg.org/cache/epub/1400/pg1400.txt\",\n",
    "    \"dickens_twist\": \"https://www.gutenberg.org/cache/epub/730/pg730.txt\",\n",
    "\n",
    "    \"twain_tom\": \"https://www.gutenberg.org/cache/epub/74/pg74.txt\",\n",
    "    \"twain_huck\": \"https://www.gutenberg.org/cache/epub/76/pg76.txt\",\n",
    "    \"twain_prince\": \"https://www.gutenberg.org/cache/epub/1837/pg1837.txt\",\n",
    "}"
   ]
  },
  {
   "cell_type": "code",
   "execution_count": 6,
   "id": "810f1aee",
   "metadata": {},
   "outputs": [
    {
     "name": "stdout",
     "output_type": "stream",
     "text": [
      "Book downloaded: ../data/austen_pride.txt\n",
      "Book downloaded: ../data/austen_emma.txt\n",
      "Book downloaded: ../data/austen_sense.txt\n",
      "Book downloaded: ../data/dickens_two_cities.txt\n",
      "Book downloaded: ../data/dickens_expectations.txt\n",
      "Book downloaded: ../data/dickens_twist.txt\n",
      "Book downloaded: ../data/twain_tom.txt\n",
      "Book downloaded: ../data/twain_huck.txt\n",
      "Book downloaded: ../data/twain_prince.txt\n"
     ]
    }
   ],
   "source": [
    "for name, url in books_urls.items():\n",
    "\tresponse = requests.get(url)\n",
    "\tpath = f\"../data/{name}.txt\"\n",
    "\n",
    "\twith open(path, \"w\", encoding = \"utf-8\") as f:\n",
    "\t\tf.write(response.text)\n",
    "\tprint(f\"Book downloaded: {path}\")"
   ]
  },
  {
   "cell_type": "markdown",
   "id": "b5c1bbd3",
   "metadata": {},
   "source": [
    "# 2. Data Preprocessing and Loading"
   ]
  },
  {
   "cell_type": "code",
   "execution_count": 7,
   "id": "c92543fc",
   "metadata": {},
   "outputs": [],
   "source": [
    "from nltk.tokenize import sent_tokenize, word_tokenize\n",
    "from nltk.corpus import stopwords\n",
    "import nltk\n",
    "import re"
   ]
  },
  {
   "cell_type": "code",
   "execution_count": 8,
   "id": "d20d850b",
   "metadata": {},
   "outputs": [
    {
     "name": "stderr",
     "output_type": "stream",
     "text": [
      "[nltk_data] Downloading package punkt to /home/nico/nltk_data...\n",
      "[nltk_data]   Package punkt is already up-to-date!\n",
      "[nltk_data] Downloading package punkt_tab to /home/nico/nltk_data...\n",
      "[nltk_data]   Package punkt_tab is already up-to-date!\n"
     ]
    }
   ],
   "source": [
    "nltk.download(\"punkt\")\n",
    "nltk.download(\"punkt_tab\")\n",
    "\n",
    "stop_words = set(stopwords.words(\"english\"))\n",
    "\n",
    "token_pattern = re.compile(r\"^[a-z]+(?:'[a-z]+)?$\")"
   ]
  },
  {
   "cell_type": "code",
   "execution_count": 9,
   "id": "c7d310a5",
   "metadata": {},
   "outputs": [],
   "source": [
    "def strip_gutenberg_headers(text):\n",
    "\tstart_match = re.search(r\"\\*\\*\\*\\s*START OF (THE|THIS) PROJECT GUTENBERG EBOOK.*\\*\\*\\*\", text, re.IGNORECASE)\n",
    "\tstart_index = start_match.end() if start_match else 0\n",
    "\n",
    "\tend_match = re.search(r\"\\*\\*\\*\\s*END OF (THE|THIS) PROJECT GUTENBERG EBOOK.*\\*\\*\\*\", text, re.IGNORECASE)\n",
    "\tend_index = end_match.start() if end_match else len(text)\n",
    "\n",
    "\tclean_text = text[start_index:end_index].strip()\n",
    "\treturn clean_text.strip()"
   ]
  },
  {
   "cell_type": "code",
   "execution_count": 10,
   "id": "e3e921d7",
   "metadata": {},
   "outputs": [],
   "source": [
    "def text_to_sent_token_lists(text):\n",
    "\tsentences = sent_tokenize(text)\n",
    "\ttokenized = []\n",
    "\n",
    "\tfor sentence in sentences:\n",
    "\t\tsentence = sentence.lower()\n",
    "\t\tsentence = sentence.replace(\"-\", \" \")\n",
    "\n",
    "\t\twords = word_tokenize(sentence)\n",
    "\n",
    "\t\tcleaned = [word for word in words if token_pattern.match(word)]\n",
    "\t\tcleaned = [word for word in cleaned if word and not word.isdigit()]\n",
    "\t\tcleaned = [word for word in cleaned if not word in stop_words]\n",
    "\n",
    "\t\tif len(cleaned) >= 2:\n",
    "\t\t\ttokenized.append(cleaned)\n",
    "    \n",
    "\treturn tokenized"
   ]
  },
  {
   "cell_type": "code",
   "execution_count": 11,
   "id": "5a948162",
   "metadata": {},
   "outputs": [],
   "source": [
    "def build_corpus_from_books(book_dir):\n",
    "    all_sentences = []\n",
    "    files = sorted([file for file in os.listdir(book_dir)])\n",
    "    \n",
    "    for file_name in files:\n",
    "        path = os.path.join(book_dir, file_name)\n",
    "        print(f\"Processing {path} ...\")\n",
    "        \n",
    "        with open(path, \"r\", encoding = \"utf-8\") as f:\n",
    "            raw = f.read()\n",
    "            \n",
    "        stripped = strip_gutenberg_headers(raw)\n",
    "        sentences = text_to_sent_token_lists(stripped)\n",
    "        all_sentences.extend(sentences)\n",
    "        \n",
    "    print(f\"\\nTotal sentences in corpus: {len(all_sentences)}\")\n",
    "    return all_sentences"
   ]
  },
  {
   "cell_type": "code",
   "execution_count": 12,
   "id": "b9003e10",
   "metadata": {},
   "outputs": [
    {
     "name": "stdout",
     "output_type": "stream",
     "text": [
      "Processing ../data/austen_emma.txt ...\n",
      "Processing ../data/austen_pride.txt ...\n",
      "Processing ../data/austen_sense.txt ...\n",
      "Processing ../data/dickens_expectations.txt ...\n",
      "Processing ../data/dickens_twist.txt ...\n",
      "Processing ../data/dickens_two_cities.txt ...\n",
      "Processing ../data/twain_huck.txt ...\n",
      "Processing ../data/twain_prince.txt ...\n",
      "Processing ../data/twain_tom.txt ...\n",
      "\n",
      "Total sentences in corpus: 42516\n"
     ]
    }
   ],
   "source": [
    "all_sentences = build_corpus_from_books(\"../data\")"
   ]
  },
  {
   "cell_type": "markdown",
   "id": "58efd201",
   "metadata": {},
   "source": [
    "# 3. Training Embedding Models"
   ]
  },
  {
   "cell_type": "code",
   "execution_count": 13,
   "id": "16012f4b",
   "metadata": {},
   "outputs": [],
   "source": [
    "from gensim.models import Word2Vec\n",
    "import os"
   ]
  },
  {
   "cell_type": "code",
   "execution_count": 14,
   "id": "f4100b69",
   "metadata": {},
   "outputs": [],
   "source": [
    "dimensions = [50, 100, 200]\n",
    "group_code = \"G01\""
   ]
  },
  {
   "cell_type": "code",
   "execution_count": 15,
   "id": "a5de70aa",
   "metadata": {},
   "outputs": [],
   "source": [
    "def train_and_save_models(sentences, dimensions, group_code, output_dir):\n",
    "    \n",
    "    for dimension in dimensions:\n",
    "        print(f\"\\nTraining model with dimension {dimension} ...\")\n",
    "        \n",
    "        model = Word2Vec(\n",
    "            sentences = sentences,\n",
    "            vector_size = dimension,\n",
    "            window = 5,\n",
    "            negative = 20, \n",
    "            min_count = 2,\n",
    "            workers = 8,\n",
    "            sg = 1,\n",
    "            epochs = 40\n",
    "        )\n",
    "        \n",
    "        model_path = os.path.join(output_dir, f\"Books_{dimension}_{group_code}.model\")\n",
    "        vec_path = os.path.join(output_dir, f\"Books_{dimension}_{group_code}.vec\")\n",
    "        \n",
    "        model.save(model_path)\n",
    "        model.wv.save_word2vec_format(vec_path, binary = False)\n",
    "        \n",
    "        print(f\"Model saved in:\\n  - {model_path}\\n  - {vec_path}\")"
   ]
  },
  {
   "cell_type": "code",
   "execution_count": 16,
   "id": "17423dab",
   "metadata": {},
   "outputs": [
    {
     "name": "stdout",
     "output_type": "stream",
     "text": [
      "\n",
      "Training model with dimension 50 ...\n",
      "Model saved in:\n",
      "  - ../models/Books_50_G01.model\n",
      "  - ../models/Books_50_G01.vec\n",
      "\n",
      "Training model with dimension 100 ...\n",
      "Model saved in:\n",
      "  - ../models/Books_100_G01.model\n",
      "  - ../models/Books_100_G01.vec\n",
      "\n",
      "Training model with dimension 200 ...\n",
      "Model saved in:\n",
      "  - ../models/Books_200_G01.model\n",
      "  - ../models/Books_200_G01.vec\n"
     ]
    }
   ],
   "source": [
    "train_and_save_models(all_sentences, dimensions, group_code, \"../models\")"
   ]
  },
  {
   "cell_type": "markdown",
   "id": "9cf84eaf",
   "metadata": {},
   "source": [
    "# 4. Loading the Trained Models"
   ]
  },
  {
   "cell_type": "code",
   "execution_count": 17,
   "id": "a0a975fe",
   "metadata": {},
   "outputs": [],
   "source": [
    "from gensim.models import Word2Vec"
   ]
  },
  {
   "cell_type": "code",
   "execution_count": 18,
   "id": "a11c3913",
   "metadata": {},
   "outputs": [
    {
     "name": "stdout",
     "output_type": "stream",
     "text": [
      "Loading model 50D from ../models/Books_50_G01.model ...\n",
      "Word2Vec<vocab=16108, vector_size=50, alpha=0.025>\n",
      "Loading model 100D from ../models/Books_100_G01.model ...\n",
      "Word2Vec<vocab=16108, vector_size=100, alpha=0.025>\n",
      "Loading model 200D from ../models/Books_200_G01.model ...\n",
      "Word2Vec<vocab=16108, vector_size=200, alpha=0.025>\n"
     ]
    }
   ],
   "source": [
    "model_dir = \"../models\"\n",
    "\n",
    "model_paths = {\n",
    "    50: f\"{model_dir}/Books_50_G01.model\",\n",
    "    100: f\"{model_dir}/Books_100_G01.model\",\n",
    "    200: f\"{model_dir}/Books_200_G01.model\"\n",
    "}\n",
    "\n",
    "models = {}\n",
    "for dimension, path in model_paths.items():\n",
    "    print(f\"Loading model {dimension}D from {path} ...\")\n",
    "    models[dimension] = Word2Vec.load(path)\n",
    "    print(models[dimension])\n"
   ]
  },
  {
   "cell_type": "markdown",
   "id": "bd77a1df",
   "metadata": {},
   "source": [
    "# 5. 2D Visualization of Embeddings"
   ]
  },
  {
   "cell_type": "code",
   "execution_count": 19,
   "id": "4da8c8de",
   "metadata": {},
   "outputs": [],
   "source": [
    "from sklearn.manifold import TSNE\n",
    "import matplotlib.pyplot as plt\n",
    "import numpy as np"
   ]
  },
  {
   "cell_type": "code",
   "execution_count": 20,
   "id": "cb9d4eeb",
   "metadata": {},
   "outputs": [],
   "source": [
    "def plot_similar_words(model, target_word, topn = 5):\n",
    "    \n",
    "    similar_words = [w for w, _ in model.wv.most_similar(target_word, topn = topn)]\n",
    "    all_words = [target_word] + similar_words\n",
    "\n",
    "    vectors = np.array([model.wv[w] for w in all_words])\n",
    "\n",
    "    tsne = TSNE(n_components = 2, random_state = 42, perplexity = 5)\n",
    "    reduced = tsne.fit_transform(vectors)\n",
    "\n",
    "    plt.figure(figsize=(10, 8))\n",
    "    plt.scatter(reduced[:, 0], reduced[:, 1])\n",
    "\n",
    "    for i, word in enumerate(all_words):\n",
    "        if i == 0:\n",
    "            plt.annotate(word, xy = (reduced[i, 0], reduced[i, 1]), fontsize = 14, color = 'red', fontweight = 'bold')\n",
    "        else:\n",
    "            plt.annotate(word, xy = (reduced[i, 0], reduced[i, 1]), fontsize = 12)\n",
    "\n",
    "    plt.title(f\"Words most similar to '{target_word}'\")\n",
    "    plt.show()"
   ]
  },
  {
   "cell_type": "code",
   "execution_count": 21,
   "id": "3ea7b58e",
   "metadata": {},
   "outputs": [],
   "source": [
    "main_characters = {\n",
    "    \"austen_pride\": [\"elizabeth\", \"darcy\"],       \n",
    "    \"austen_emma\": [\"emma\", \"knightley\"],         \n",
    "    \"austen_sense\": [\"elinor\", \"marianne\"],       \n",
    "\n",
    "    \"dickens_two_cities\": [\"darnay\", \"carton\"],   \n",
    "    \"dickens_expectations\": [\"pip\", \"havisham\"],  \n",
    "    \"dickens_twist\": [\"oliver\", \"fagin\"],         \n",
    "\n",
    "    \"twain_tom\": [\"tom\", \"becky\"],               \n",
    "    \"twain_huck\": [\"huck\", \"jim\"],               \n",
    "    \"twain_prince\": [\"prince\", \"pauper\"],        \n",
    "}\n"
   ]
  },
  {
   "cell_type": "code",
   "execution_count": 22,
   "id": "8d930095",
   "metadata": {},
   "outputs": [],
   "source": [
    "def plot_and_save_similar_words(model, target_word, book_id, dimension, topn, output_dir):\n",
    "\n",
    "    similar_words = model.wv.most_similar(target_word, topn = topn)\n",
    "    words = [target_word] + [w for w, _ in similar_words]\n",
    "    vectors = np.array([model.wv[w] for w in words])\n",
    "\n",
    "    tsne = TSNE(n_components = 2, random_state = 42, perplexity = min(5, len(words)-1))\n",
    "    reduced = tsne.fit_transform(vectors)\n",
    "\n",
    "    plt.figure(figsize=(8, 6))\n",
    "    plt.scatter(reduced[0, 0], reduced[0, 1], color = 'red')  \n",
    "    plt.text(reduced[0, 0] + 1, reduced[0, 1] + 1, target_word, fontsize = 12, color = 'red', weight = 'bold')\n",
    "\n",
    "    for i, word in enumerate(words[1:], start = 1):\n",
    "        x, y = reduced[i, 0], reduced[i, 1]\n",
    "        plt.scatter(x, y)\n",
    "        plt.text(x + 1, y + 1, word, fontsize=10)\n",
    "\n",
    "    plt.title(f\"Most similar to '{target_word}' ({book_id}, dim = {dimension})\")\n",
    "    plt.tight_layout()\n",
    "\n",
    "    filename = f\"{target_word}_{dimension}d.png\"\n",
    "    filepath = os.path.join(output_dir, filename)\n",
    "    plt.savefig(filepath)\n",
    "    plt.close()  \n",
    "    print(f\"Saved: {filepath}\")"
   ]
  },
  {
   "cell_type": "code",
   "execution_count": 23,
   "id": "7bce8f79",
   "metadata": {},
   "outputs": [
    {
     "name": "stdout",
     "output_type": "stream",
     "text": [
      "Saved: ../figures/elizabeth_50d.png\n",
      "Saved: ../figures/darcy_50d.png\n",
      "Saved: ../figures/emma_50d.png\n",
      "Saved: ../figures/knightley_50d.png\n",
      "Saved: ../figures/elinor_50d.png\n",
      "Saved: ../figures/marianne_50d.png\n",
      "Saved: ../figures/darnay_50d.png\n",
      "Saved: ../figures/carton_50d.png\n",
      "Saved: ../figures/pip_50d.png\n",
      "Saved: ../figures/havisham_50d.png\n",
      "Saved: ../figures/oliver_50d.png\n",
      "Saved: ../figures/fagin_50d.png\n",
      "Saved: ../figures/tom_50d.png\n",
      "Saved: ../figures/becky_50d.png\n",
      "Saved: ../figures/huck_50d.png\n",
      "Saved: ../figures/jim_50d.png\n",
      "Saved: ../figures/prince_50d.png\n",
      "Saved: ../figures/pauper_50d.png\n"
     ]
    }
   ],
   "source": [
    "for book_id, characters in main_characters.items():\n",
    "\tfor name in characters:\n",
    "\t\tplot_and_save_similar_words(models[50], name, book_id, 50, 4, \"../figures\")"
   ]
  },
  {
   "cell_type": "markdown",
   "id": "f556b908",
   "metadata": {},
   "source": [
    "# 6. Dataset Preparation for Classification"
   ]
  },
  {
   "cell_type": "code",
   "execution_count": 24,
   "id": "eed56787",
   "metadata": {},
   "outputs": [],
   "source": [
    "from sklearn.model_selection import train_test_split\n",
    "from collections import Counter\n",
    "import random\n",
    "import os"
   ]
  },
  {
   "cell_type": "code",
   "execution_count": 25,
   "id": "44e1002b",
   "metadata": {},
   "outputs": [],
   "source": [
    "books_to_author = {\n",
    "    \"austen_pride.txt\": \"austen\",\n",
    "    \"austen_emma.txt\": \"austen\",\n",
    "    \"austen_sense.txt\": \"austen\",\n",
    "    \"dickens_two_cities.txt\": \"dickens\",\n",
    "    \"dickens_expectations.txt\": \"dickens\",\n",
    "    \"dickens_twist.txt\": \"dickens\",\n",
    "    \"twain_tom.txt\": \"twain\",\n",
    "    \"twain_huck.txt\": \"twain\",\n",
    "    \"twain_prince.txt\": \"twain\",\n",
    "}\n",
    "\n",
    "labels_to_ids = {\n",
    "    \"austen\": 0,\n",
    "    \"dickens\": 1,\n",
    "    \"twain\": 2\n",
    "}"
   ]
  },
  {
   "cell_type": "code",
   "execution_count": 26,
   "id": "89f269ae",
   "metadata": {},
   "outputs": [],
   "source": [
    "def read_text(path):\n",
    "    with open(path, \"r\", encoding = \"utf-8\") as f:\n",
    "        return f.read()"
   ]
  },
  {
   "cell_type": "code",
   "execution_count": 27,
   "id": "91c506cf",
   "metadata": {},
   "outputs": [],
   "source": [
    "def preprocess_and_chunks(text, chunk_size, min_chunk_size):\n",
    "    \n",
    "    sentences = sent_tokenize(text)\n",
    "    all_tokens = []\n",
    "\n",
    "    for sentence in sentences:\n",
    "        sentence = sentence.lower()\n",
    "        sentence = sentence.replace(\"-\", \" \")\n",
    "\n",
    "        words = word_tokenize(sentence)\n",
    "\n",
    "        cleaned = [word for word in words if token_pattern.match(word)]\n",
    "        cleaned = [word for word in cleaned if not word.isdigit()]\n",
    "        cleaned = [word for word in cleaned if word not in stop_words]\n",
    "\n",
    "        if len(cleaned) >= 1:\n",
    "            all_tokens.extend(cleaned)\n",
    "\n",
    "    chunks = []\n",
    "    for i in range(0, len(all_tokens), chunk_size):\n",
    "        chunk_tokens = all_tokens[i:i+chunk_size]\n",
    "        if len(chunk_tokens) >= min_chunk_size:\n",
    "            chunk_text = \" \".join(chunk_tokens)\n",
    "            chunks.append(chunk_text)\n",
    "\n",
    "    return chunks"
   ]
  },
  {
   "cell_type": "code",
   "execution_count": 28,
   "id": "f9cba0be",
   "metadata": {},
   "outputs": [],
   "source": [
    "def build_clasification_dataset(books_dir, test_size, validation_size, random_seed):\n",
    "\trandom.seed(random_seed)\n",
    "\ttexts, labels = [], []\n",
    "\n",
    "\tfor file_name in sorted(os.listdir(books_dir)):\n",
    "\t\tauthor = books_to_author.get(file_name)\n",
    "\t\t\n",
    "\t\traw_text = read_text(os.path.join(books_dir, file_name))\n",
    "\t\tchunks = preprocess_and_chunks(raw_text, 200, 200)\n",
    "\t\tprint(f\"{len(chunks)} chunks generated for {file_name}\")\n",
    "\n",
    "\t\ttexts.extend(chunks)\n",
    "\t\tlabels.extend([author] * len(chunks))\n",
    "\n",
    "\ty = np.array([labels_to_ids[label] for label in labels])\n",
    "\n",
    "\tX_train, X_temp, y_train, y_temp = train_test_split(texts, y, test_size = test_size, random_state = random_seed, stratify = y)\n",
    "\tX_validation, X_test, y_validation, y_test = train_test_split(X_temp, y_temp, test_size = validation_size, random_state = random_seed, stratify = y_temp)\n",
    "\n",
    "\tdef class_counts(y_arr):\n",
    "\t\tc = Counter(y_arr)\n",
    "\t\treturn {label: c[idx] for label, idx in labels_to_ids.items()}\n",
    "\n",
    "\tsummary = {\n",
    "\t\t\"train\": class_counts(y_train),\n",
    "\t\t\"validation\": class_counts(y_validation),\n",
    "\t\t\"test\": class_counts(y_test),\n",
    "\t}\n",
    "\n",
    "\tprint(\"\\nSummary samples by split and class:\\n\")\n",
    "\tfor split, counts in summary.items():\n",
    "\t\tprint(f\"  {split}: {counts}\")\n",
    "\n",
    "\treturn (X_train, y_train), (X_validation, y_validation), (X_test, y_test)\n"
   ]
  },
  {
   "cell_type": "code",
   "execution_count": 29,
   "id": "414a28a3",
   "metadata": {},
   "outputs": [
    {
     "name": "stdout",
     "output_type": "stream",
     "text": [
      "348 chunks generated for austen_emma.txt\n",
      "287 chunks generated for austen_pride.txt\n",
      "268 chunks generated for austen_sense.txt\n",
      "411 chunks generated for dickens_expectations.txt\n",
      "384 chunks generated for dickens_twist.txt\n",
      "322 chunks generated for dickens_two_cities.txt\n",
      "252 chunks generated for twain_huck.txt\n",
      "185 chunks generated for twain_prince.txt\n",
      "175 chunks generated for twain_tom.txt\n",
      "\n",
      "Summary samples by split and class:\n",
      "\n",
      "  train: {'austen': 632, 'dickens': 782, 'twain': 428}\n",
      "  validation: {'austen': 135, 'dickens': 168, 'twain': 92}\n",
      "  test: {'austen': 136, 'dickens': 167, 'twain': 92}\n"
     ]
    }
   ],
   "source": [
    "(X_train, y_train), (X_validation, y_validation), (X_test, y_test) = build_clasification_dataset(\"../data\", 0.3, 0.5, 42)"
   ]
  },
  {
   "cell_type": "code",
   "execution_count": 30,
   "id": "58d6cfce",
   "metadata": {},
   "outputs": [
    {
     "name": "stdout",
     "output_type": "stream",
     "text": [
      "\n",
      "--- Train examples ---\n",
      "Label: austen\n",
      "Text: rather dark darker narrower one could wish miss sm ...\n",
      "\n",
      "Label: dickens\n",
      "Text: stood drinking little counter conversation defarge ...\n",
      "\n",
      "\n",
      "--- Validation examples ---\n",
      "Label: twain\n",
      "Text: office child play wherefore last ladies visit draw ...\n",
      "\n",
      "Label: dickens\n",
      "Text: condition declared peril sake altering way living  ...\n",
      "\n",
      "\n",
      "--- Test examples ---\n",
      "Label: austen\n",
      "Text: well satisfied consider present campbells may knig ...\n",
      "\n",
      "Label: dickens\n",
      "Text: though would shake hands let go room said boy retr ...\n",
      "\n"
     ]
    }
   ],
   "source": [
    "for split_name, X_split, y_split in [(\"Train\", X_train, y_train), (\"Validation\", X_validation, y_validation), (\"Test\", X_test, y_test),]:\n",
    "    print(f\"\\n--- {split_name} examples ---\")\n",
    "    for i in range(2): \n",
    "        print(f\"Label: {list(labels_to_ids.keys())[list(labels_to_ids.values()).index(y_split[i])]}\")\n",
    "        print(\"Text:\", \"\".join(X_split[i][:50]), \"...\\n\")\n"
   ]
  },
  {
   "cell_type": "markdown",
   "id": "fb892f40",
   "metadata": {},
   "source": [
    "# 7. Building Embeddings Matrix"
   ]
  },
  {
   "cell_type": "code",
   "execution_count": 32,
   "id": "4e568120",
   "metadata": {},
   "outputs": [],
   "source": [
    "from tensorflow.keras.preprocessing.text import Tokenizer\n",
    "from gensim.models import Word2Vec\n",
    "import numpy as np"
   ]
  },
  {
   "cell_type": "code",
   "execution_count": 41,
   "id": "216809ad",
   "metadata": {},
   "outputs": [
    {
     "name": "stdout",
     "output_type": "stream",
     "text": [
      "Training vocabulary size: 21022\n"
     ]
    }
   ],
   "source": [
    "sequence_length = 200\n",
    "\n",
    "tokenizer = Tokenizer()\n",
    "tokenizer.fit_on_texts(X_train)\n",
    "\n",
    "vocabulary_size = len(tokenizer.word_index) + 1\n",
    "print(\"Training vocabulary size:\", vocabulary_size)"
   ]
  },
  {
   "cell_type": "code",
   "execution_count": 47,
   "id": "f8f9443c",
   "metadata": {},
   "outputs": [],
   "source": [
    "def build_embedding_matrix(embeddings_model, tokenizer, embedding_dimension):\n",
    "    matrix = np.zeros((vocabulary_size, embedding_dimension))\n",
    "    for word, i in tokenizer.word_index.items():\n",
    "        if word in embeddings_model.wv:\n",
    "            matrix[i] = embeddings_model.wv[word]\n",
    "    return matrix"
   ]
  },
  {
   "cell_type": "code",
   "execution_count": 48,
   "id": "4f4dd83c",
   "metadata": {},
   "outputs": [],
   "source": [
    "embedding_matrices = {}\n",
    "for dimension, embedding_model in models.items():\n",
    "    embedding_matrices[dimension] = build_embedding_matrix(embedding_model, tokenizer, dimension)"
   ]
  },
  {
   "cell_type": "code",
   "execution_count": 50,
   "id": "b6307338",
   "metadata": {},
   "outputs": [],
   "source": [
    "X_train_sequences = tokenizer.texts_to_sequences(X_train)\n",
    "X_val_sequences   = tokenizer.texts_to_sequences(X_validation)\n",
    "X_test_sequences  = tokenizer.texts_to_sequences(X_test)"
   ]
  },
  {
   "cell_type": "markdown",
   "id": "62dd79f6",
   "metadata": {},
   "source": [
    "# 8. Training Feed-Forward Model for Classification"
   ]
  }
 ],
 "metadata": {
  "kernelspec": {
   "display_name": "env",
   "language": "python",
   "name": "python3"
  },
  "language_info": {
   "codemirror_mode": {
    "name": "ipython",
    "version": 3
   },
   "file_extension": ".py",
   "mimetype": "text/x-python",
   "name": "python",
   "nbconvert_exporter": "python",
   "pygments_lexer": "ipython3",
   "version": "3.11.9"
  }
 },
 "nbformat": 4,
 "nbformat_minor": 5
}
